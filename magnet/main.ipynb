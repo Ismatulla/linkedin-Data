{
 "cells": [
  {
   "cell_type": "code",
   "execution_count": 72,
   "metadata": {},
   "outputs": [
    {
     "name": "stderr",
     "output_type": "stream",
     "text": [
      "C:\\Users\\fayyo\\AppData\\Local\\Temp\\ipykernel_16224\\3813477838.py:13: DeprecationWarning: executable_path has been deprecated, please pass in a Service object\n",
      "  driver = webdriver.Chrome(executable_path='C:/Users/fayyo/Downloads/chromedriver.exe')\n"
     ]
    },
    {
     "name": "stdout",
     "output_type": "stream",
     "text": [
      "https://uploads.magnetme-images.com/79288fc19b03f7ce5fdbacc8d45e1293?auto=format&bg=white&fit=fill&frame=0&h=108&w=108\n",
      "ABN AMRO\n",
      "https://uploads.magnetme-images.com/79288fc19b03f7ce5fdbacc8d45e1293?auto=format&bg=white&fit=fill&frame=0&h=108&w=108\n",
      "ABN AMRO\n",
      "it must be an advert!\n"
     ]
    }
   ],
   "source": [
    "from bs4 import BeautifulSoup\n",
    "import time\n",
    "from selenium.webdriver.chrome.options import Options\n",
    "from selenium import webdriver\n",
    "from selenium.webdriver.common.by import By\n",
    "import pandas as pd\n",
    "from selenium.webdriver.common.keys import Keys\n",
    "import json\n",
    "\n",
    "time.sleep(15)\n",
    "for page  in range(1, 10):\n",
    "    site=\"https://magnet.me/nl-NL/banen?jobFunctions=accounting&jobFunctions=administrative&jobFunctions=finance&jobFunctions=fiscal&page=\"+str(page)\n",
    "    driver = webdriver.Chrome(executable_path='C:/Users/fayyo/Downloads/chromedriver.exe')\n",
    "    driver.get(site)\n",
    "    dict_list=[]\n",
    "    for li_num in range(1, 21):\n",
    "        dict_={}\n",
    "        time.sleep(10)\n",
    "        try:\n",
    "            li=driver.find_element(By.XPATH, '/html/body/div/div/div/div[4]/div/div[1]/div[2]/div/div[3]/div/div/div[1]/div/ol/li['+str(li_num)+']')\n",
    "            li.click()\n",
    "            time.sleep(15)\n",
    "        except:\n",
    "            print(\"it must be an advert!\")\n",
    "            pass\n",
    "\n",
    "        src = driver.page_source\n",
    "        soup = BeautifulSoup(src, 'lxml')\n",
    "        try:\n",
    "            job_title=soup.find(\"h1\", {\"data-monitoring\":\"opportunityName\"})\n",
    "            dict_['job_title']=job_title.text\n",
    "        except:\n",
    "            pass\n",
    "        try:\n",
    "            experience=soup.find(\"div\", {\"data-testid\":\"experience\"})\n",
    "            dict_['experience']=experience.text\n",
    "        except:\n",
    "            pass\n",
    "        try:\n",
    "            deadline=soup.find(\"div\", {\"data-testid\":\"deadline\"})\n",
    "            dict_['deadline']=deadline.text\n",
    "        except:\n",
    "            pass\n",
    "        try:\n",
    "            languages=soup.find(\"div\", {\"data-testid\":\"languages\"})\n",
    "            dict_['languages']=languages.text\n",
    "        except:\n",
    "            pass\n",
    "        try:\n",
    "            degree=soup.find(\"div\", {\"data-testid\":\"degree\"})\n",
    "            dict_['degree']=degree.text\n",
    "        except:\n",
    "            pass\n",
    "        try:\n",
    "            emp_type=soup.find(\"div\", {\"data-testid\":\"employmentType\"})\n",
    "            dict_['Employment Type']=emp_type.text\n",
    "        except:\n",
    "            pass\n",
    "        try:\n",
    "            job_functions=soup.find(\"div\", {\"data-testid\":\"jobFunctions\"})\n",
    "            dict_['job_functions']=job_functions.text\n",
    "        except:\n",
    "            pass\n",
    "        try:\n",
    "            advert_element=driver.find_element(By.XPATH, '/html/body/div[1]/div/div/div[4]/div/div[1]/div/div/div[3]/div/div/div[2]/div/div/div[3]')\n",
    "\n",
    "            if advert_element.text == \"Je carrière begint op Magnet.me\\nMaak een profiel aan en ontvang slimme aanbevelingen op basis van je gelikete vacatures.\\nProfiel aanmaken\":\n",
    "                # Find the next div sibling element\n",
    "                next_div_element = advert_element.find_element(By.XPATH, './following-sibling::div[1]')\n",
    "\n",
    "                next_div_text = next_div_element.text\n",
    "                # print(\"Next Div Text:\", next_div_text)\n",
    "                dict_['Job Description']=next_div_text\n",
    "\n",
    "            # Use the XPath expression to locate the first element by class name\n",
    "            first_element = driver.find_element(By.XPATH, \"/html/body/div[1]/div/div/div[4]/div/div[1]/div[2]/div/div[3]/div/div/div[2]/div/div/div[2]/div/div[3]\")\n",
    "\n",
    "            # Find the next sibling element (regardless of its class name)\n",
    "            next_sibling_element = first_element.find_element(By.XPATH, \"following-sibling::*\")\n",
    "\n",
    "            # Now you can interact with the next sibling element as needed\n",
    "            try:\n",
    "                next_sibling_text = next_sibling_element.text\n",
    "                dict_['salary']=next_sibling_text.split('Salaris')[1].replace('\\n', '').replace('€', '')\n",
    "            except:\n",
    "                pass\n",
    "            a = soup.find('aside')\n",
    "            try:\n",
    "                image=a.find('img')['src']\n",
    "                print(image)\n",
    "                dict_[\"logo\"]=image\n",
    "            except:\n",
    "                pass\n",
    "            try:\n",
    "                comp_name=a.find_all(\"a\", {\"target\":\"_blank\"})[1].text\n",
    "                print(comp_name)\n",
    "                dict_['company name']=comp_name\n",
    "            except:\n",
    "                pass\n",
    "            dict_list.append(dict_)\n",
    "            driver.back()\n",
    "        except:\n",
    "            pass\n",
    "        # print(\"Next Sibling Text:\", next_sibling_text)\n",
    "\n",
    "    json_string = json.dumps(dict_list)\n",
    "\n",
    "    with open(f\"data{page}.json\", \"w\") as json_file:\n",
    "        json.dump(dict_list, json_file, indent=4)\n",
    "    print(f'page number {page} is done!')\n"
   ]
  },
  {
   "cell_type": "code",
   "execution_count": 11,
   "metadata": {},
   "outputs": [],
   "source": [
    "d = soup.find_all('img')"
   ]
  },
  {
   "cell_type": "code",
   "execution_count": 47,
   "metadata": {},
   "outputs": [
    {
     "ename": "KeyError",
     "evalue": "'src'",
     "output_type": "error",
     "traceback": [
      "\u001b[1;31m---------------------------------------------------------------------------\u001b[0m",
      "\u001b[1;31mKeyError\u001b[0m                                  Traceback (most recent call last)",
      "Cell \u001b[1;32mIn[47], line 1\u001b[0m\n\u001b[1;32m----> 1\u001b[0m \u001b[39mprint\u001b[39m(soup\u001b[39m.\u001b[39;49mfind_all(\u001b[39m\"\u001b[39;49m\u001b[39ma\u001b[39;49m\u001b[39m\"\u001b[39;49m, {\u001b[39m\"\u001b[39;49m\u001b[39mtarget\u001b[39;49m\u001b[39m\"\u001b[39;49m:\u001b[39m\"\u001b[39;49m\u001b[39m_blank\u001b[39;49m\u001b[39m\"\u001b[39;49m})[\u001b[39m25\u001b[39;49m][\u001b[39m'\u001b[39;49m\u001b[39msrc\u001b[39;49m\u001b[39m'\u001b[39;49m])\n\u001b[0;32m      2\u001b[0m \u001b[39mprint\u001b[39m(soup\u001b[39m.\u001b[39mfind_all(\u001b[39m\"\u001b[39m\u001b[39ma\u001b[39m\u001b[39m\"\u001b[39m, {\u001b[39m\"\u001b[39m\u001b[39mtarget\u001b[39m\u001b[39m\"\u001b[39m:\u001b[39m\"\u001b[39m\u001b[39m_blank\u001b[39m\u001b[39m\"\u001b[39m})[\u001b[39m0\u001b[39m]\u001b[39m.\u001b[39mtext)\n",
      "File \u001b[1;32mc:\\Users\\GitHub\\Bots_using_selenium\\venv\\lib\\site-packages\\bs4\\element.py:1535\u001b[0m, in \u001b[0;36mTag.__getitem__\u001b[1;34m(self, key)\u001b[0m\n\u001b[0;32m   1532\u001b[0m \u001b[39mdef\u001b[39;00m \u001b[39m__getitem__\u001b[39m(\u001b[39mself\u001b[39m, key):\n\u001b[0;32m   1533\u001b[0m \u001b[39m    \u001b[39m\u001b[39m\"\"\"tag[key] returns the value of the 'key' attribute for the Tag,\u001b[39;00m\n\u001b[0;32m   1534\u001b[0m \u001b[39m    and throws an exception if it's not there.\"\"\"\u001b[39;00m\n\u001b[1;32m-> 1535\u001b[0m     \u001b[39mreturn\u001b[39;00m \u001b[39mself\u001b[39;49m\u001b[39m.\u001b[39;49mattrs[key]\n",
      "\u001b[1;31mKeyError\u001b[0m: 'src'"
     ]
    }
   ],
   "source": [
    "print(soup.find_all(\"a\", {\"target\":\"_blank\"})[25]['src'])\n",
    "print(soup.find_all(\"a\", {\"target\":\"_blank\"})[0].text)"
   ]
  },
  {
   "cell_type": "code",
   "execution_count": 63,
   "metadata": {},
   "outputs": [
    {
     "data": {
      "text/plain": [
       "'https://uploads.magnetme-images.com/b456e4307025e8780a0ff81fd27a93497827b917f6f1083dad7e3c94d9d50a44?auto=format&bg=white&fit=fill&frame=0&h=108&w=108'"
      ]
     },
     "execution_count": 63,
     "metadata": {},
     "output_type": "execute_result"
    }
   ],
   "source": []
  },
  {
   "cell_type": "code",
   "execution_count": 67,
   "metadata": {},
   "outputs": [
    {
     "data": {
      "text/plain": [
       "<aside><div class=\"c03631\"><a class=\"c0345 c03632\" href=\"/nl-NL/bedrijf/eminent-groep\" target=\"_blank\"><img alt=\"Eminent Groep logo\" class=\"c031301 c03634\" fetchpriority=\"auto\" sizes=\"(min-width : 768px) 108px,\n",
       "(min-width : 0px) 45px,\n",
       "108px\" src=\"https://uploads.magnetme-images.com/b456e4307025e8780a0ff81fd27a93497827b917f6f1083dad7e3c94d9d50a44?auto=format&amp;bg=white&amp;fit=fill&amp;frame=0&amp;h=108&amp;w=108\" srcset=\"https://uploads.magnetme-images.com/b456e4307025e8780a0ff81fd27a93497827b917f6f1083dad7e3c94d9d50a44?auto=format&amp;bg=white&amp;fit=fill&amp;frame=0&amp;h=45&amp;w=45 45w,\n",
       "https://uploads.magnetme-images.com/b456e4307025e8780a0ff81fd27a93497827b917f6f1083dad7e3c94d9d50a44?auto=format&amp;bg=white&amp;fit=fill&amp;frame=0&amp;h=68&amp;w=68 68w,\n",
       "https://uploads.magnetme-images.com/b456e4307025e8780a0ff81fd27a93497827b917f6f1083dad7e3c94d9d50a44?auto=format&amp;bg=white&amp;fit=fill&amp;frame=0&amp;h=90&amp;w=90 90w,\n",
       "https://uploads.magnetme-images.com/b456e4307025e8780a0ff81fd27a93497827b917f6f1083dad7e3c94d9d50a44?auto=format&amp;bg=white&amp;fit=fill&amp;frame=0&amp;h=108&amp;w=108 108w,\n",
       "https://uploads.magnetme-images.com/b456e4307025e8780a0ff81fd27a93497827b917f6f1083dad7e3c94d9d50a44?auto=format&amp;bg=white&amp;fit=fill&amp;frame=0&amp;h=162&amp;w=162 162w,\n",
       "https://uploads.magnetme-images.com/b456e4307025e8780a0ff81fd27a93497827b917f6f1083dad7e3c94d9d50a44?auto=format&amp;bg=white&amp;fit=fill&amp;frame=0&amp;h=216&amp;w=216 216w\"/></a><div class=\"c03640\"><a class=\"c0345 c03636\" href=\"/nl-NL/bedrijf/eminent-groep\" target=\"_blank\">Eminent Groep</a><div class=\"c03637\"><ul class=\"c03641\"><li class=\"c03648\"><a class=\"c0345\" href=\"/nl-NL/bedrijven/staffing\"><span class=\"c03642\"><strong class=\"c03638 c03639\">Staffing</strong></span></a></li><span class=\"c03645\"> </span><span class=\"c03644\">•</span><span class=\"c03645\"> </span><li class=\"c03648\"><span class=\"c03642\"><span class=\"c03643\">45 werknemers</span></span></li></ul></div></div></div></aside>"
      ]
     },
     "execution_count": 67,
     "metadata": {},
     "output_type": "execute_result"
    }
   ],
   "source": [
    "a"
   ]
  },
  {
   "cell_type": "code",
   "execution_count": 71,
   "metadata": {},
   "outputs": [
    {
     "data": {
      "text/plain": [
       "'Eminent Groep'"
      ]
     },
     "execution_count": 71,
     "metadata": {},
     "output_type": "execute_result"
    }
   ],
   "source": []
  },
  {
   "cell_type": "code",
   "execution_count": 20,
   "metadata": {},
   "outputs": [
    {
     "name": "stdout",
     "output_type": "stream",
     "text": [
      "\n",
      "Eminent Groep\n",
      "\n",
      "\n",
      "\n",
      "\n",
      "\n",
      "\n",
      "Eminent Groep\n",
      "Motivatiebrief - een complete handleiding\n",
      "Solliciteren voor een stage - een complete gids\n",
      "20 sollicitatievragen die gesteld gaan worden tijdens je volgende sollicitatiegesprek\n",
      "Alles wat je moet weten over een stagevergoeding\n",
      "Wat is een traineeship?\n",
      "Wat is campus recruitment en hoe zet ik het in?\n",
      "Careers guide\n",
      "Blog\n",
      "Over ons (pers)\n",
      "Voor werkgevers\n",
      "Privacybeleid\n",
      "Gebruikersvoorwaarden\n",
      "\n",
      "\n",
      "\n",
      "\n",
      "\n"
     ]
    }
   ],
   "source": [
    "for i in img:\n",
    "    print(i.text)"
   ]
  },
  {
   "cell_type": "code",
   "execution_count": null,
   "metadata": {},
   "outputs": [],
   "source": [
    "_blank"
   ]
  },
  {
   "cell_type": "code",
   "execution_count": 15,
   "metadata": {},
   "outputs": [
    {
     "data": {
      "text/plain": [
       "30"
      ]
     },
     "execution_count": 15,
     "metadata": {},
     "output_type": "execute_result"
    }
   ],
   "source": [
    "len(d)"
   ]
  },
  {
   "cell_type": "code",
   "execution_count": 14,
   "metadata": {},
   "outputs": [],
   "source": [
    "for a in d:\n",
    "    if a.img:\n",
    "        print(a.img['src'])"
   ]
  },
  {
   "cell_type": "code",
   "execution_count": 6,
   "metadata": {},
   "outputs": [
    {
     "data": {
      "text/plain": [
       "[{'job_title': 'Senior Manger Credit Risk',\n",
       "  'experience': 'Werkervaring0 tot 7 jaar',\n",
       "  'languages': 'TaalvereisteNederlands (Vloeiend)',\n",
       "  'degree': 'Soort opleidingWO Master',\n",
       "  'Employment Type': 'Full-time / part-timeFull-time',\n",
       "  'job_functions': 'FunctieFinance',\n",
       "  'Job Description': 'Measuring and effectively managing risks is key in banking. The need for modelling in core banking processes, including risk management, is expanding rapidly. New technologies, new data sources and data driven solutions create an enormous amount of opportunities. On the flip side, these opportunities result in competition from unexpected parties on a high pace. ABN AMRO intends to make a step forward by exploiting these new opportunities and strengthen the competitive position. Risk Modelling has the ambition to develop risk models that enable offering our clients a sustainable price that matches their risk profile. The team has the ambition to be leading and on the cutting edge.\\nYour job\\n\\n\\nVolledige vacaturetekst bekijken'},\n",
       " {'job_title': 'Teamleider Dienstverlening',\n",
       "  'experience': 'Werkervaring3 tot 5 jaar',\n",
       "  'deadline': 'Deadline29 sep. 2023 00:00',\n",
       "  'languages': 'TaalvereisteNederlands (Vloeiend)',\n",
       "  'degree': 'Soort opleidingHBO',\n",
       "  'Employment Type': 'Full-time / part-timeFull-time',\n",
       "  'job_functions': 'FunctieFiscaal',\n",
       "  'Job Description': 'De komende jaren breiden we onze dienstverlening flink uit. Daardoor veranderen onze processen, werkzaamheden en werklocaties voortdurend.\\nJouw uitdaging als teamleider Dienstverlening bij de Belastingdienst in Zwolle en Emmen? Onze nieuwe manier van werken vormgeven én je teamleden hierin meenemen. Zodat zij vanuit de menselijke maat, integer en klantvriendelijk kunnen werken.Klaar om hands-on aan de slag te gaan? Mooi, want samen met collega’s speel je een belangrijke rol in de doorontwikkeling van de dienstverlening van de Belastingdienst. Je stuurt op vernieuwing, leidt grote verandertrajecten, doet verbetervoorstellen en zoekt naar optimalisatiemogelijkheden. Daarbij houd je oog voor de ontwikkelingen die gevolgen hebben voor de belastingplichtigen en jouw medewerkers. Tegelijkertijd haal je het beste uit je team door ze te inspireren, enthousiasmeren en ondersteunen. Je gaat voor het resultaat met oog voor de medewerker. Jij schakelt makkelijk en snel tussen de verschillende teams, collega’s en stakeholders om de nieuwe manieren van werken te implementeren voor onze tweehonderd baliemedewerkers. Ook maak je deel uit van het managementteam van de unit Dienstverlening en ben je de sparringpartner van de unitdirecteur en je collega’s op het gebied van de tactische koers van vernieuwing. Verder zorg je samen met de landelijke planners onder meer voor kwaliteit en bezetting op jouw verschillende locaties en werkstromen, zo draag je bij aan het optimaliseren van de baliedienstverlening. Dit alles vanuit goed werkgeverschap en met verbindingskracht, een helikopterview, innovatieve blik én kennis van zaken.Een bijzondere baan, omdat...\\nSylvia, teamleider bij de Belastingdienst.\\nWanneer past deze baan bij je?\\nJouw competenties\\nBijzonderheden\\nOnderaan deze vacature vind je meer uitleg over de stappen die je doorloopt in de sollicitatieprocedure.De voorkeur gaat uit naar kandidaten die het meest aansluiten bij het opgestelde profiel. Dit heeft betrekking op zowel de genoemde kennis en werkervaring als op het opleidingsniveau. Vermeld deze daarom duidelijk in je cv.De Belastingdienst zet zich in voor de banenafspraak: zoveel mogelijk banen realiseren voor mensen met een arbeidsbeperking. Val jij in deze doelgroep? Wij zullen je ondersteunen zodat je optimaal kunt functioneren, en daarmee jouw bijdrage aan Nederland kunt leveren. Of het nu gaat om aanpassingen op je werkplek, bepaalde voorzieningen in het vervoer of bijvoorbeeld vergoedingen van het UWV: samen met jou, je leidinggevende én een jobcoach gaan wij kijken naar jouw kwaliteiten en mogelijkheden om een passend werkpakket uit te voeren. Wil jij weten of je hierbij hoort en wat dit exact betekent voor jou? Lees hier .\\nEen (online) voorselectietest en/of een assessment kan deel uit maken van de sollicitatieprocedure, evenals het maken van een casus, het opvragen van referenties en (online) screening, bijvoorbeeld via databanken, (zoekmachines) en sociale netwerken.Jouw sollicitatie wordt alleen in behandeling genomen als je met de sollicitatie-button reageert en je cv en motivatiebrief zijn bijgesloten. Na sluitingsdatum is het niet meer mogelijk om je sollicitatie in behandeling te nemen. Houd er rekening mee dat het solliciteren technische problemen met zich mee kan brengen. Wacht hiermee dus niet tot het laatste moment. De organisatieBelastingdienst\\n\\nDe afdeling -\\nVolledige vacaturetekst bekijken',\n",
       "  'salary': ' 3.608 -  5.503 per maand'}]"
      ]
     },
     "execution_count": 6,
     "metadata": {},
     "output_type": "execute_result"
    }
   ],
   "source": [
    "dict_list"
   ]
  }
 ],
 "metadata": {
  "kernelspec": {
   "display_name": "venv",
   "language": "python",
   "name": "python3"
  },
  "language_info": {
   "codemirror_mode": {
    "name": "ipython",
    "version": 3
   },
   "file_extension": ".py",
   "mimetype": "text/x-python",
   "name": "python",
   "nbconvert_exporter": "python",
   "pygments_lexer": "ipython3",
   "version": "3.8.8"
  },
  "orig_nbformat": 4
 },
 "nbformat": 4,
 "nbformat_minor": 2
}
