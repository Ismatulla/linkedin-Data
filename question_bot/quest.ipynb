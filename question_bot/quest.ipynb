{
 "cells": [
  {
   "cell_type": "code",
   "execution_count": null,
   "metadata": {},
   "outputs": [],
   "source": [
    "from bs4 import BeautifulSoup\n",
    "import time\n",
    "from selenium.webdriver.chrome.options import Options\n",
    "from selenium import webdriver\n",
    "from selenium.webdriver.common.by import By\n",
    "import pandas as pd\n",
    "\n",
    "options = Options()\n",
    "options.add_argument(\"user-data-dir=C:\\\\Users\\\\Username\\\\AppData\\\\Local\\\\Google\\\\Chrome\\\\User Data\")\n",
    "driver = webdriver.Chrome(options=options)\n",
    "\n",
    "driver.get('https://www.crystalknows.com/app/ce/installed')\n",
    "\n",
    "try:\n",
    "    disc_test=driver.find_element(By.XPATH, '/html/body/div[2]/div/div/div[4]/div/div[4]/div[2]/a')\n",
    "    disc_test.click()\n",
    "except:\n",
    "    print(\"question button is not clickable!!!\")\n",
    "    \n",
    "                                          #'/html/body/div[2]/div/div/div[4]/div[2]/div[2]/div[1]/div[3]/div/div/div/div[2]/div[2]/div/div'\n",
    "                                          #'/html/body/div[2]/div/div/div[4]/div[2]/div[2]/div[1]/div[2]/div/div/div/div[2]/div[2]/div/div'\n",
    "restrained_m=driver.find_element(By.XPATH, '/html/body/div[2]/div/div/div[4]/div[2]/div[2]/div[1]/div[1]/div/div/div/div[2]/div[2]/div/div')\n",
    "decisive_m=driver.find_element(By.XPATH,   '/html/body/div[2]/div/div/div[4]/div[2]/div[2]/div[1]/div[1]/div/div/div/div[3]/div[2]/div/div/div')\n",
    "chatty_m=driver.find_element(By.XPATH,     '/html/body/div[2]/div/div/div[4]/div[2]/div[2]/div[1]/div[1]/div/div/div/div[4]/div[2]/div/div')\n",
    "traditional_m=driver.find_element(By.XPATH,'/html/body/div[2]/div/div/div[4]/div[2]/div[2]/div[1]/div[1]/div/div/div/div[5]/div[2]/div/div/div')\n",
    "\n",
    "                                          #\"/html/body/div[2]/div/div/div[4]/div[2]/div[2]/div[1]/div[2]/div/div/div/div[2]/div[3]/div/div\"\n",
    "restrained_l=driver.find_element(By.XPATH, '/html/body/div[2]/div/div/div[4]/div[2]/div[2]/div[1]/div[1]/div/div/div/div[2]/div[3]/div/div/div')\n",
    "decisive_l=driver.find_element(By.XPATH,   '/html/body/div[2]/div/div/div[4]/div[2]/div[2]/div[1]/div[1]/div/div/div/div[3]/div[3]/div/div')\n",
    "chatty_l=driver.find_element(By.XPATH,     '/html/body/div[2]/div/div/div[4]/div[2]/div[2]/div[1]/div[1]/div/div/div/div[4]/div[3]/div/div')\n",
    "traditional_l=driver.find_element(By.XPATH,'/html/body/div[2]/div/div/div[4]/div[2]/div[2]/div[1]/div[1]/div/div/div/div[5]/div[3]/div/div/div')\n"
   ]
  },
  {
   "cell_type": "code",
   "execution_count": 27,
   "metadata": {},
   "outputs": [],
   "source": [
    "df = pd.DataFrame({\n",
    "    \n",
    "}\n",
    ")"
   ]
  },
  {
   "attachments": {},
   "cell_type": "markdown",
   "metadata": {},
   "source": [
    "first number is most or least,\n",
    "second number is question\n",
    "third number is choice number\n",
    "m.1.1\n",
    "l.1.2"
   ]
  },
  {
   "cell_type": "code",
   "execution_count": 62,
   "metadata": {},
   "outputs": [
    {
     "name": "stdout",
     "output_type": "stream",
     "text": [
      "Driver (Di)\n"
     ]
    }
   ],
   "source": [
    "\n",
    "from bs4 import BeautifulSoup\n",
    "import time\n",
    "from selenium.webdriver.chrome.options import Options\n",
    "from selenium import webdriver\n",
    "from selenium.webdriver.common.by import By\n",
    "import pandas as pd\n",
    "\n",
    "options = Options()\n",
    "options.add_argument(\"user-data-dir=C:\\\\Users\\\\Username\\\\AppData\\\\Local\\\\Google\\\\Chrome\\\\User Data\")\n",
    "driver = webdriver.Chrome(options=options)\n",
    "\n",
    "driver.get('https://www.crystalknows.com/app/assessment')\n",
    "time.sleep(5)\n",
    "                                        #l2/html/body/div[2]/div/div/div[4]/div[2]/div[2]/div[1]/div[3]/div/div/div/div[3]/div[3]/div/div\n",
    "char1=[]                                #l1/html/body/div[2]/div/div/div[4]/div[2]/div[2]/div[1]/div[1]/div/div/div/div[3]/div[3]/div/div\n",
    "                                        #m2/html/body/div[2]/div/div/div[4]/div[2]/div[2]/div[1]/div[3]/div/div/div/div[2]/div[2]/div/div\n",
    "                                        #m1/html/body/div[2]/div/div/div[4]/div[2]/div[2]/div[1]/div[1]/div/div/div/div[2]/div[2]/div/div\n",
    "                                        \n",
    "for i in range(1,20):                  #'/html/body/div[2]/div/div/div[4]/div[2]/div[2]/div[1]/div[2]/div/div/div/div[2]/div[2]/div/div'\n",
    "    time.sleep(2)                      #/html/body/div[2]/div/div/div[4]/div[2]/div[2]/div[1]/div[3         ]/div/div/div/div[choice number]/div[3]/div/div\n",
    "    most=driver.find_element(By.XPATH, '/html/body/div[2]/div/div/div[4]/div[2]/div[2]/div[1]/div['+str(i)+']/div/div/div/div[5]/div[2]/div/div')\n",
    "    most.click()                       #/html/body/div[2]/div/div/div[4]/div[2]/div[2]/div[1]/div[3         ]/div/div/div/div[3]/div[3]/div/div\n",
    "                #m.1.1\n",
    "                #l.1.2\n",
    "    char1.append(f\"m.{str(i)}.5\")      #/html/body/div[2]/div/div/div[4]/div[2]/div[2]/div[1]/div[3         ]/div/div/div/div[3]/div[2]/div/div\n",
    "    # time.sleep(2)                     # /html/body/div[2]/div/div/div[4]/div[2]/div[2]/div[1]/div[3]/div/div/div/div[5]/div[2]/div/div\n",
    "    lest=driver.find_element(By.XPATH, '/html/body/div[2]/div/div/div[4]/div[2]/div[2]/div[1]/div['+str(i)+']/div/div/div/div[4]/div[3]/div/div')\n",
    "    lest.click()\n",
    "    char1.append(f'l.{str(i)}.4')\n",
    "\n",
    "finish_butt=driver.find_element(By.XPATH, '/html/body/div[2]/div/div/div[4]/div[2]/div[2]/div[2]/a')\n",
    "finish_butt.click()\n",
    "time.sleep(8)\n",
    "ages=driver.find_element(By.XPATH, '/html/body/div[2]/div/div/div[4]/div[2]/div[2]/div[1]/div[2]/div[1]/div/div/div[1]')\n",
    "ages.click()\n",
    "your_age=driver.find_element(By.XPATH, '/html/body/div[2]/div/div/div[4]/div[2]/div[2]/div[1]/div[2]/div[1]/div/div[2]/div[1]')\n",
    "your_age.click()\n",
    "industry=driver.find_element(By.XPATH, '/html/body/div[2]/div/div/div[4]/div[2]/div[2]/div[1]/div[2]/div[3]/div/div/div[1]')\n",
    "industry.click()\n",
    "your_indust=driver.find_element(By.XPATH, '/html/body/div[2]/div/div/div[4]/div[2]/div[2]/div[1]/div[2]/div[3]/div/div[2]/div[16]')\n",
    "your_indust.click()\n",
    "education=driver.find_element(By.XPATH, '/html/body/div[2]/div/div/div[4]/div[2]/div[2]/div[1]/div[2]/div[2]/div/div/div[1]')\n",
    "education.click()\n",
    "your_educ=driver.find_element(By.XPATH, '/html/body/div[2]/div/div/div[4]/div[2]/div[2]/div[1]/div[2]/div[2]/div/div[2]/div[5]')\n",
    "your_educ.click()\n",
    "language=driver.find_element(By.XPATH, '/html/body/div[2]/div/div/div[4]/div[2]/div[2]/div[1]/div[2]/div[4]/div/div/div[1]')\n",
    "language.click()\n",
    "your_lang=driver.find_element(By.XPATH, '/html/body/div[2]/div/div/div[4]/div[2]/div[2]/div[1]/div[2]/div[4]/div/div[2]/div[1]')\n",
    "your_lang.click()\n",
    "\n",
    "result=driver.find_element(By.XPATH, '/html/body/div[2]/div/div/div[4]/div[2]/div[2]/div[2]/a')\n",
    "result.click()\n",
    "time.sleep(10)\n",
    "char_type=driver.find_element(By.XPATH, '/html/body/div[2]/div/div/div[4]/div[1]/div/div/div[1]/div/span')\n",
    "print(char_type.text)\n",
    "charachter=char_type.text\n",
    "# import pandas as pd\n",
    "# df[[char1]]=charachter"
   ]
  },
  {
   "cell_type": "code",
   "execution_count": 56,
   "metadata": {},
   "outputs": [],
   "source": [
    "df1=pd.DataFrame({})"
   ]
  },
  {
   "attachments": {},
   "cell_type": "markdown",
   "metadata": {},
   "source": [
    "Supporter (S)"
   ]
  },
  {
   "cell_type": "code",
   "execution_count": 63,
   "metadata": {},
   "outputs": [],
   "source": [
    "df1[charachter]=[char1]"
   ]
  },
  {
   "cell_type": "code",
   "execution_count": 64,
   "metadata": {},
   "outputs": [
    {
     "data": {
      "text/plain": [
       "Index(['Supporter (S)', 'Driver (Di)'], dtype='object')"
      ]
     },
     "execution_count": 64,
     "metadata": {},
     "output_type": "execute_result"
    }
   ],
   "source": [
    "df1.columns"
   ]
  },
  {
   "attachments": {},
   "cell_type": "markdown",
   "metadata": {},
   "source": [
    "Driver (Di)\tCaptain (D)\tQuestioner (CD) Stabilizer (SC) Analyst (C) Editor (Cs) Supporter (S) Counselor (Si) \n",
    "Motivator (I) Initiator (DI)"
   ]
  },
  {
   "cell_type": "code",
   "execution_count": 72,
   "metadata": {},
   "outputs": [
    {
     "data": {
      "text/plain": [
       "array([list(['m.1.4', 'l.1.3', 'm.2.4', 'l.2.3', 'm.3.4', 'l.3.3', 'm.4.4', 'l.4.3', 'm.5.4', 'l.5.3', 'm.6.4', 'l.6.3', 'm.7.4', 'l.7.3', 'm.8.4', 'l.8.3', 'm.9.4', 'l.9.3', 'm.10.4', 'l.10.3', 'm.11.4', 'l.11.3', 'm.12.4', 'l.12.3', 'm.13.4', 'l.13.3', 'm.14.4', 'l.14.3', 'm.15.4', 'l.15.3', 'm.16.4', 'l.16.3', 'm.17.4', 'l.17.3', 'm.18.4', 'l.18.3', 'm.19.4', 'l.19.3'])],\n",
       "      dtype=object)"
      ]
     },
     "execution_count": 72,
     "metadata": {},
     "output_type": "execute_result"
    }
   ],
   "source": [
    "df['Counselor (Si)'].values"
   ]
  },
  {
   "cell_type": "code",
   "execution_count": 61,
   "metadata": {},
   "outputs": [],
   "source": [
    "df[charachter]=[char1]"
   ]
  },
  {
   "cell_type": "code",
   "execution_count": 53,
   "metadata": {},
   "outputs": [
    {
     "data": {
      "text/plain": [
       "Index(['Driver (Di)', 'Captain (D)', 'Questioner (CD)', 'Stabilizer (SC)',\n",
       "       'Analyst (C)', 'Editor (Cs)', 'Supporter (S)', 'Counselor (Si)'],\n",
       "      dtype='object')"
      ]
     },
     "execution_count": 53,
     "metadata": {},
     "output_type": "execute_result"
    }
   ],
   "source": [
    "df.columns"
   ]
  },
  {
   "cell_type": "code",
   "execution_count": null,
   "metadata": {},
   "outputs": [],
   "source": [
    "#ch1 /html/body/div[2]/div/div/div[4]/div[2]/div[2]/div[1]/div[3]/div/div/div/div[2]/div[3]/div/div\n",
    "#ch2 /html/body/div[2]/div/div/div[4]/div[2]/div[2]/div[1]/div[3]/div/div/div/div[choice number]/div[3]/div/div\n",
    "#ch3 /html/body/div[2]/div/div/div[4]/div[2]/div[2]/div[1]/div[3]/div/div/div/div[4]/div[3]/div/div"
   ]
  },
  {
   "attachments": {},
   "cell_type": "markdown",
   "metadata": {},
   "source": []
  },
  {
   "cell_type": "code",
   "execution_count": null,
   "metadata": {},
   "outputs": [],
   "source": [
    "list_=['Driver (Di)', ]"
   ]
  },
  {
   "cell_type": "code",
   "execution_count": 25,
   "metadata": {},
   "outputs": [
    {
     "data": {
      "text/html": [
       "<div>\n",
       "<style scoped>\n",
       "    .dataframe tbody tr th:only-of-type {\n",
       "        vertical-align: middle;\n",
       "    }\n",
       "\n",
       "    .dataframe tbody tr th {\n",
       "        vertical-align: top;\n",
       "    }\n",
       "\n",
       "    .dataframe thead th {\n",
       "        text-align: right;\n",
       "    }\n",
       "</style>\n",
       "<table border=\"1\" class=\"dataframe\">\n",
       "  <thead>\n",
       "    <tr style=\"text-align: right;\">\n",
       "      <th></th>\n",
       "      <th>Driver (Di)</th>\n",
       "      <th>Captain (D)</th>\n",
       "    </tr>\n",
       "  </thead>\n",
       "  <tbody>\n",
       "    <tr>\n",
       "      <th>0</th>\n",
       "      <td>[1.2.2, 1.2.3, 2.2.2, 2.2.3, 3.2.2, 3.2.3, 4.2...</td>\n",
       "      <td>[1.2.2, 1.3.3, 2.2.2, 2.3.3, 3.2.2, 3.3.3, 4.2...</td>\n",
       "    </tr>\n",
       "  </tbody>\n",
       "</table>\n",
       "</div>"
      ],
      "text/plain": [
       "                                         Driver (Di)  \\\n",
       "0  [1.2.2, 1.2.3, 2.2.2, 2.2.3, 3.2.2, 3.2.3, 4.2...   \n",
       "\n",
       "                                         Captain (D)  \n",
       "0  [1.2.2, 1.3.3, 2.2.2, 2.3.3, 3.2.2, 3.3.3, 4.2...  "
      ]
     },
     "execution_count": 25,
     "metadata": {},
     "output_type": "execute_result"
    }
   ],
   "source": [
    "df[charachter]=[char1]\n",
    "df"
   ]
  },
  {
   "cell_type": "code",
   "execution_count": 23,
   "metadata": {},
   "outputs": [
    {
     "data": {
      "text/html": [
       "<div>\n",
       "<style scoped>\n",
       "    .dataframe tbody tr th:only-of-type {\n",
       "        vertical-align: middle;\n",
       "    }\n",
       "\n",
       "    .dataframe tbody tr th {\n",
       "        vertical-align: top;\n",
       "    }\n",
       "\n",
       "    .dataframe thead th {\n",
       "        text-align: right;\n",
       "    }\n",
       "</style>\n",
       "<table border=\"1\" class=\"dataframe\">\n",
       "  <thead>\n",
       "    <tr style=\"text-align: right;\">\n",
       "      <th></th>\n",
       "      <th>Driver (Di)</th>\n",
       "    </tr>\n",
       "  </thead>\n",
       "  <tbody>\n",
       "    <tr>\n",
       "      <th>0</th>\n",
       "      <td>[1.2.2, 1.2.3, 2.2.2, 2.2.3, 3.2.2, 3.2.3, 4.2...</td>\n",
       "    </tr>\n",
       "  </tbody>\n",
       "</table>\n",
       "</div>"
      ],
      "text/plain": [
       "                                         Driver (Di)\n",
       "0  [1.2.2, 1.2.3, 2.2.2, 2.2.3, 3.2.2, 3.2.3, 4.2..."
      ]
     },
     "execution_count": 23,
     "metadata": {},
     "output_type": "execute_result"
    }
   ],
   "source": [
    "df"
   ]
  }
 ],
 "metadata": {
  "kernelspec": {
   "display_name": "venv",
   "language": "python",
   "name": "python3"
  },
  "language_info": {
   "codemirror_mode": {
    "name": "ipython",
    "version": 3
   },
   "file_extension": ".py",
   "mimetype": "text/x-python",
   "name": "python",
   "nbconvert_exporter": "python",
   "pygments_lexer": "ipython3",
   "version": "3.8.8"
  },
  "orig_nbformat": 4,
  "vscode": {
   "interpreter": {
    "hash": "5e53cf64bf1c27840c77398a8ccfc4c3ccd90183c2c0ca3f1ba55da13fcc257d"
   }
  }
 },
 "nbformat": 4,
 "nbformat_minor": 2
}
