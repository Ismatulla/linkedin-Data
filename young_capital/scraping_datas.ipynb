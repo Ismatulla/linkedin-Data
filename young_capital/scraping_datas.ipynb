{
 "cells": [
  {
   "cell_type": "code",
   "execution_count": null,
   "metadata": {},
   "outputs": [],
   "source": [
    "\n",
    "    # job_titles=[]\n",
    "    # locations=[]\n",
    "    # working_hours=[]\n",
    "    # salaries=[]\n",
    "    # degrees=[]\n",
    "    # employments=[]\n",
    "    # p1=[]\n",
    "    # p2=[]\n",
    "    # p3=[]\n",
    "    # p4=[]\n",
    "    # p5=[]\n",
    "    # p6=[]\n",
    "    # p7=[]\n",
    "    # p8=[]\n",
    "    # p9=[]\n",
    "        # p2.append(soup.find_all('p')[2].text)\n",
    "\n",
    "        # p3.append(soup.find_all('p')[3].text)\n",
    "\n",
    "        # p4.append(soup.find_all('p')[4].text)\n",
    "\n",
    "        # p5.append(soup.find_all('p')[5].text)\n",
    "\n",
    "        # p6.append(soup.find_all('p')[6].text)\n",
    "\n",
    "        # p7.append(soup.find_all('p')[7].text)\n",
    "\n",
    "        # p8.append(soup.find_all('p')[8].text)\n",
    "\n",
    "        # p9.append(soup.find_all('p')[9].text)"
   ]
  },
  {
   "cell_type": "code",
   "execution_count": 62,
   "metadata": {},
   "outputs": [
    {
     "name": "stderr",
     "output_type": "stream",
     "text": [
      "C:\\Users\\fayyo\\AppData\\Local\\Temp\\ipykernel_2212\\913323962.py:22: DeprecationWarning: executable_path has been deprecated, please pass in a Service object\n",
      "  driver = webdriver.Chrome(options=options,executable_path='C:/Users/fayyo/Downloads/chromedriver.exe')\n"
     ]
    }
   ],
   "source": [
    "from selenium.webdriver.common.by import By\n",
    "from selenium.webdriver.chrome.options import Options\n",
    "from selenium import webdriver\n",
    "import time\n",
    "import pandas as pd\n",
    "import lxml\n",
    "from bs4 import BeautifulSoup\n",
    "from selenium.webdriver.common.by import By\n",
    "from selenium.webdriver.support.ui import WebDriverWait\n",
    "from selenium.webdriver.support import expected_conditions as EC\n",
    "\n",
    "options = Options()\n",
    "options.add_argument(\"user-data-dir=C:/Users/dell/AppData/Local/Google/Chrome/User Data/Profile 37\")\n",
    "\n",
    "for link_num in range(1, 3):\n",
    "    options = Options()\n",
    "    options.add_argument(\"user-data-dir=C:/Users/dell/AppData/Local/Google/Chrome/User Data/Profile 37\")\n",
    "\n",
    "    driver = webdriver.Chrome(options=options,executable_path='C:/Users/fayyo/Downloads/chromedriver.exe')\n",
    "    driver.get(f'https://www.youngcapital.nl/vacatures?page='+str(link_num)+'&search%5Bfunction_id%5D=&search%5Bgeo_distance_eq%5D=25&search%5Bpage%5D=2&search%5Bsort_by%5D=')\n",
    "    time.sleep(15)\n",
    "    initialScroll = 0\n",
    "    finalScroll = 1000\n",
    "    start = time.time()\n",
    "\n",
    "    dict_list=[]\n",
    "    for i in range(1, 31):\n",
    "        dict_={}\n",
    "        element = driver.find_element(By.CSS_SELECTOR, 'body > div:nth-child(8) > main > div > div.col-xs-12.col-md-8.total-job-opening-results.pt-md-6x > div.search-results > div > div > a:nth-child('+str(i)+')')\n",
    "        element.click()\n",
    "        time.sleep(10)                           \n",
    "        initialScroll = 0\n",
    "        finalScroll = 1000\n",
    "        start = time.time()\n",
    "\n",
    "        while True:\n",
    "            driver.execute_script(f\"window.scrollTo({initialScroll}, {finalScroll})\")\n",
    "            initialScroll = finalScroll\n",
    "            finalScroll += 1000\n",
    "            time.sleep(3)\n",
    "            end = time.time()\n",
    "            if round(end - start) > 25:\n",
    "                break\n",
    "      \n",
    "        src = driver.page_source\n",
    "        soup = BeautifulSoup(src, 'lxml')\n",
    "\n",
    "        degree = soup.find(\"dd\", {\"itemprop\":\"eduTypes\"}).text\n",
    "        dict_['degree']=degree\n",
    "        \n",
    "        location = soup.find(\"dd\", {\"itemprop\":\"jobLocation\"}).text\n",
    "        dict_['location']=location\n",
    "        \n",
    "        working_hour = soup.find(\"dd\", {\"itemprop\":\"workingHours\"}).text\n",
    "        dict_[\"working_hour\"]=working_hour\n",
    "        \n",
    "        employment = soup.find(\"dd\", {\"itemprop\":\"employmentType\"}).text\n",
    "        dict_[\"employment\"]=employment\n",
    "        \n",
    "        salary = soup.find(\"dd\", {\"itemprop\":\"estimatedSalary\"}).text\n",
    "        dict_['salary']=salary\n",
    "\n",
    "        job_title=soup.find_all('p')[0].text\n",
    "        dict_['job_title']=job_title\n",
    "\n",
    "        p1=soup.find_all('p')[1].text\n",
    "        dict_[\"p1\"]=p1\n",
    "\n",
    "        p2=soup.find_all('p')[2].text\n",
    "        dict_[\"p2\"]=p2\n",
    "\n",
    "        p3=soup.find_all('p')[3].text\n",
    "        dict_[\"p3\"]=p3\n",
    "        p4=soup.find_all('p')[4].text\n",
    "        dict_[\"p4\"]=p4\n",
    "        p5=soup.find_all('p')[5].text\n",
    "        dict_[\"p5\"]=p5\n",
    "        p6=soup.find_all('p')[6].text\n",
    "        dict_[\"p6\"]=p6\n",
    "        p7=soup.find_all('p')[7].text\n",
    "        dict_[\"p7\"]=p7\n",
    "        p8=soup.find_all('p')[8].text\n",
    "        dict_[\"p8\"]=p8\n",
    "        p9=soup.find_all('p')[9].text\n",
    "        dict_[\"p9\"]=p9\n",
    "        p10=soup.find_all('p')[10].text\n",
    "        dict_[\"p10\"]=p10\n",
    "\n",
    "        dict_list.append(dict_)\n",
    "\n",
    "        driver.back()\n",
    "        time.sleep(10)\n",
    "    import json\n",
    "    json_string = json.dumps(dict_list)\n",
    "\n",
    "    with open(f\"data{link_num}.json\", \"w\") as json_file:\n",
    "        json.dump(dict_list, json_file, indent=4)\n",
    "\n",
    "    driver.close()"
   ]
  },
  {
   "cell_type": "code",
   "execution_count": 64,
   "metadata": {},
   "outputs": [],
   "source": [
    "json_string = json.dumps(dict_list)\n",
    "\n",
    "with open(f\"data{link_num}.json\", \"w\") as json_file:\n",
    "    json.dump(dict_list, json_file, indent=4)"
   ]
  },
  {
   "cell_type": "code",
   "execution_count": 63,
   "metadata": {},
   "outputs": [
    {
     "data": {
      "text/plain": [
       "2"
      ]
     },
     "execution_count": 63,
     "metadata": {},
     "output_type": "execute_result"
    }
   ],
   "source": [
    "len(dict_list)"
   ]
  },
  {
   "cell_type": "code",
   "execution_count": 30,
   "metadata": {},
   "outputs": [],
   "source": [
    "a={1:\"a\", 2:\"b\"}\n",
    "b={1:\"a\", 2:\"b\"}\n",
    "c=[]\n",
    "c.append(b)"
   ]
  },
  {
   "cell_type": "code",
   "execution_count": 31,
   "metadata": {},
   "outputs": [],
   "source": [
    "c.append(b)"
   ]
  },
  {
   "cell_type": "code",
   "execution_count": 35,
   "metadata": {},
   "outputs": [
    {
     "name": "stdout",
     "output_type": "stream",
     "text": [
      "a\n",
      "a\n"
     ]
    }
   ],
   "source": [
    "for j in c:\n",
    "    print(j[1])"
   ]
  },
  {
   "cell_type": "code",
   "execution_count": null,
   "metadata": {},
   "outputs": [],
   "source": []
  },
  {
   "cell_type": "code",
   "execution_count": 36,
   "metadata": {},
   "outputs": [],
   "source": [
    "soup = BeautifulSoup(src, 'lxml')"
   ]
  },
  {
   "cell_type": "code",
   "execution_count": null,
   "metadata": {},
   "outputs": [],
   "source": [
    "a =soup.find_all('p', {'class':\"mt-0 mb-0 pb v2__EIReviewDetailsV2__bodyColor v2__EIReviewDetailsV2__lineHeightLarge v2__EIReviewDetailsV2__isCollapsed\"})"
   ]
  },
  {
   "cell_type": "code",
   "execution_count": null,
   "metadata": {},
   "outputs": [],
   "source": [
    "# <span class=\"ml-1x\">16 - 38 uur per week </span>"
   ]
  },
  {
   "cell_type": "code",
   "execution_count": null,
   "metadata": {},
   "outputs": [],
   "source": [
    "Als fulltime kassamedewerker ga je aan de slag bij een tankstation in het zuiden van Eindhoven. Dit tankstation maakt deel uit van een groot netwerk van tankstations in heel"
   ]
  },
  {
   "cell_type": "code",
   "execution_count": null,
   "metadata": {},
   "outputs": [],
   "source": [
    "Vind jij het leuk om achter de kassa te staan en mensen te helpen? Solliciteer dan nu als fulltime kassamedewerker bij een tankstation in Eindhoven."
   ]
  },
  {
   "cell_type": "code",
   "execution_count": null,
   "metadata": {},
   "outputs": [],
   "source": [
    "# 1 va 9, both are included"
   ]
  },
  {
   "cell_type": "code",
   "execution_count": 58,
   "metadata": {},
   "outputs": [
    {
     "data": {
      "text/plain": [
       "'Fulltime kassamedewerker bij een tankstation in Eindhoven'"
      ]
     },
     "execution_count": 58,
     "metadata": {},
     "output_type": "execute_result"
    }
   ],
   "source": [
    "soup.find_all('p')[0].text"
   ]
  },
  {
   "cell_type": "code",
   "execution_count": 38,
   "metadata": {},
   "outputs": [
    {
     "name": "stdout",
     "output_type": "stream",
     "text": [
      "<div class=\"card__body job-opening__description\" itemprop=\"description\">\n",
      "<h2>Wat ga je doen?</h2>\n",
      "<p>Als fulltime kassamedewerker ga je aan de slag bij een tankstation in het zuiden van Eindhoven. Dit tankstation maakt deel uit van een groot netwerk van tankstations in heel Nederland. De meeste van deze tankstations hebben naast de reguliere winkels ook een bakkerij, en dit tankstation is daar geen uitzondering op! Hier worden dagelijks verse broodjes, warme snacks en drankjes bereid.</p>\n",
      "<p>Het is jouw taak om de meest smakelijke broodjes, snacks en drankjes klaar te maken. Met jouw glimlach en vaardigheden zorg je ervoor dat gasten ook met een glimlach naar buiten gaan. Naast het bereiden van broodjes zijn er nog andere taken die je dag afwisselend maken:</p>\n",
      "<ul class=\"list--squares mb-2x\">\n",
      "<li>Je rekent direct af aan de kassa voor alle broodjes en drankjes die je bereidt.</li>\n",
      "<li>Je zorgt ervoor dat het tankstation er tiptop uitziet. Dit betekent dat alles schoon, opgeruimd en aangevuld is.</li>\n",
      "<li>Je helpt mee met de presentatie en inrichting van de bakkerij.</li>\n",
      "<li>Het is belangrijk dat je altijd de voorgeschreven (veiligheids)procedures en richtlijnen volgt, zoals de voedselwarenwet.</li>\n",
      "<li>Je komt terecht in een klein en gezellig team, en samen streven jullie ernaar om gasten een fijne (tank)pauze te bezorgen.</li>\n",
      "</ul>\n",
      "<p><strong>Werkdagen en -tijden</strong><br/>Je bent beschikbaar als parttime of fulltime medewerker (16 tot 38 uur) van maandag tot en met zondag. In het weekend word je om de week ingeroosterd. Als je een paar uur meer of minder beschikbaar bent, is dit wellicht ook bespreekbaar! Je diensten variëren en de shifts zijn van 05:30 tot 14:15 uur, 08:00 tot 16:00 uur of 14:15 tot 22:15 uur.</p>\n",
      "<p>Het tankstation is goed bereikbaar met het openbaar vervoer, de fiets/scooter of met de auto.</p>\n",
      "<p><strong>Salaris</strong> <br/>Je salaris is afhankelijk van je leeftijd, en op feestdagen ontvang je een extra toeslag van 50%.</p>\n",
      "<p>Dus, ben jij klaar om je dag te starten met de geur van verse broodjes en gasten blij te maken met jouw service? Solliciteer dan nu!</p>\n",
      "<h2>Wat wij bieden</h2>\n",
      "<ul class=\"list--squares\"><li>Je verdient een lekker salaris van €12,62 per uur vanaf 21 jaar;</li><li>Je krijgt een reiskostenvergoeding vanaf 20 km enkele reis;</li><li>Je krijgt veel verantwoordelijkheden;</li><li>Deze baan is goed te combineren met een andere baan, studie of hobby!</li></ul>\n",
      "<div class=\"mt-4x mb-4x\">\n",
      "<h2>Wat wij vragen:</h2>\n",
      "<ul class=\"list--squares\"><li>Er is geen minimale opleiding vereist. </li><li>Ervaring in de horeca is mooi meegenomen maar geen must;</li><li>Je bent flexibel en servicegericht;</li><li>Je spreekt Nederlands en een klein beetje Engels.</li></ul>\n",
      "</div>\n",
      "<h2>Solliciteren</h2>\n",
      "<p></p><p>Ben jij de perfecte kandidaat voor deze vacature en voldoe je aan de eisen? Klik dan op de knop 'Solliciteer direct!' en we nemen zo snel mogelijk contact met je op!</p><p></p>\n",
      "<h2 class=\"mt-4x\">Extra informatie</h2>\n",
      "<p>#indebuurt</p>\n",
      "<dl class=\"mt-2x\">\n",
      "<dt>Status</dt>\n",
      "<dd itemprop=\"status\"><span class=\"job_opening__status--active\"><i class=\"nyc-icon nyc-icon-circle\"></i>Open</span></dd>\n",
      "<dt>Opleidingsniveaus</dt>\n",
      "<dd itemprop=\"eduTypes\"> Middelbare school, MBO, HBO, Universiteit</dd>\n",
      "<dt>Plaats</dt>\n",
      "<dd itemprop=\"jobLocation\">Eindhoven</dd>\n",
      "<dt>Werkuren per week</dt>\n",
      "<dd itemprop=\"workingHours\">16 - 38</dd>\n",
      "<dt>Dienstverbanden</dt>\n",
      "<dd itemprop=\"employmentType\">Fulltime (startersfunctie), Parttime (overdag), Avondwerk, Weekendwerk, Vakantiewerk, Tijdelijke fulltime baan</dd>\n",
      "<dt>Salarisindicatie</dt>\n",
      "<dd itemprop=\"estimatedSalary\">\n",
      "      Tussen €6,61 en €12,62 per uur\n",
      "    </dd>\n",
      "<dt>Verantwoordelijk voor</dt>\n",
      "<dd>Broodjes bereiden, kassawerkzaamheden en zorgen dat de winkel er netjes uit ziet.</dd>\n",
      "<dt>Gepubliceerd op</dt>\n",
      "<dd itemprop=\"publishedAt\">28-08-2023</dd>\n",
      "</dl>\n",
      "</div>\n"
     ]
    }
   ],
   "source": [
    "print(soup.find('div', {'class':\"card__body job-opening__description\", 'itemprop':\"description\", 'p':\"\"}))"
   ]
  },
  {
   "cell_type": "code",
   "execution_count": 35,
   "metadata": {},
   "outputs": [
    {
     "data": {
      "text/plain": [
       "<span class=\"ml-1x\">Middelbare school, MBO, HBO, Universiteit</span>"
      ]
     },
     "execution_count": 35,
     "metadata": {},
     "output_type": "execute_result"
    }
   ],
   "source": [
    "soup"
   ]
  },
  {
   "cell_type": "code",
   "execution_count": 25,
   "metadata": {},
   "outputs": [
    {
     "name": "stdout",
     "output_type": "stream",
     "text": [
      "Eindhoven\n",
      "16 - 38 uur per week\n",
      "Tussen €6,61 en €12,62 per uur\n",
      "Middelbare school, MBO, HBO, Universiteit\n"
     ]
    }
   ],
   "source": [
    "for soup in soup.find_all('span', {'class':\"ml-1x\"}):\n",
    "    print(soup.text.strip())"
   ]
  },
  {
   "cell_type": "code",
   "execution_count": 33,
   "metadata": {},
   "outputs": [
    {
     "name": "stdout",
     "output_type": "stream",
     "text": [
      "None\n"
     ]
    }
   ],
   "source": [
    "\n",
    "print(soup.find('div', {'class':\"card__body job-opening__description\", 'itemprop':\"description\"}))"
   ]
  },
  {
   "cell_type": "code",
   "execution_count": 24,
   "metadata": {},
   "outputs": [
    {
     "data": {
      "text/plain": [
       "'Fulltime kassamedewerker bij een tankstation in Eindhoven'"
      ]
     },
     "execution_count": 24,
     "metadata": {},
     "output_type": "execute_result"
    }
   ],
   "source": [
    "soup.find('h1', {'itemprop':\"title\"}).text.strip()"
   ]
  },
  {
   "cell_type": "code",
   "execution_count": 20,
   "metadata": {},
   "outputs": [
    {
     "data": {
      "text/plain": [
       "'Fulltime kassamedewerker bij een tankstation in Eindhoven'"
      ]
     },
     "execution_count": 20,
     "metadata": {},
     "output_type": "execute_result"
    }
   ],
   "source": [
    "job_title.text"
   ]
  },
  {
   "cell_type": "code",
   "execution_count": 16,
   "metadata": {},
   "outputs": [
    {
     "data": {
      "text/plain": [
       "''"
      ]
     },
     "execution_count": 16,
     "metadata": {},
     "output_type": "execute_result"
    }
   ],
   "source": [
    "job_title.text"
   ]
  },
  {
   "cell_type": "code",
   "execution_count": null,
   "metadata": {},
   "outputs": [],
   "source": [
    "body > div:nth-child(10) > main > div > div.col-xs-12.col-md-8.sticky-title__moving-target > div > div.card.card--top.job-opening__body.printable > div.card__body.card__body--sticky > div.row.-no > div.job-opening__title.col-xs-12 > div.flex-row.between-xs > h1"
   ]
  },
  {
   "cell_type": "code",
   "execution_count": 10,
   "metadata": {},
   "outputs": [
    {
     "data": {
      "text/plain": [
       "<selenium.webdriver.remote.webelement.WebElement (session=\"f802f151910335a233ba4778ab342d68\", element=\"7AD810BFAC967424C9FA0E97A29ED251_element_65\")>"
      ]
     },
     "execution_count": 10,
     "metadata": {},
     "output_type": "execute_result"
    }
   ],
   "source": [
    "body > div:nth-child(10) > main > div > div.col-xs-12.col-md-4.mt-md-4x.job-opening-information-section.no-printing > div.job-opening-persisted-elems > div > div > div > div:nth-child(1) > span\n",
    "body > div:nth-child(10) > main > div > div.col-xs-12.col-md-4.mt-md-4x.job-opening-information-section.no-printing > div.job-opening-persisted-elems > div > div > div > div:nth-child(2) > span\n",
    "body > div:nth-child(10) > main > div > div.col-xs-12.col-md-4.mt-md-4x.job-opening-information-section.no-printing > div.job-opening-persisted-elems > div > div > div > div:nth-child(4) > span"
   ]
  },
  {
   "cell_type": "code",
   "execution_count": null,
   "metadata": {},
   "outputs": [],
   "source": [
    "# Wat ga je doen?\n",
    "body > div:nth-child(10) > main > div > div.col-xs-12.col-md-8.sticky-title__moving-target > div > div.card.card--top.job-opening__body.printable > div.card__body.job-opening__description > p:nth-child(2)\n",
    "body > div:nth-child(10) > main > div > div.col-xs-12.col-md-8.sticky-title__moving-target > div > div.card.card--top.job-opening__body.printable > div.card__body.job-opening__description > p:nth-child(3)\n",
    "body > div:nth-child(10) > main > div > div.col-xs-12.col-md-8.sticky-title__moving-target > div > div.card.card--top.job-opening__body.printable > div.card__body.job-opening__description > p:nth-child(6)"
   ]
  }
 ],
 "metadata": {
  "kernelspec": {
   "display_name": "venv",
   "language": "python",
   "name": "python3"
  },
  "language_info": {
   "codemirror_mode": {
    "name": "ipython",
    "version": 3
   },
   "file_extension": ".py",
   "mimetype": "text/x-python",
   "name": "python",
   "nbconvert_exporter": "python",
   "pygments_lexer": "ipython3",
   "version": "3.8.8"
  },
  "orig_nbformat": 4
 },
 "nbformat": 4,
 "nbformat_minor": 2
}
