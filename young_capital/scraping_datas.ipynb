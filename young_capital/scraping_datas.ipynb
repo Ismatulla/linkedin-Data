{
 "cells": [
  {
   "cell_type": "code",
   "execution_count": 1,
   "metadata": {},
   "outputs": [
    {
     "name": "stderr",
     "output_type": "stream",
     "text": [
      "C:\\Users\\fayyo\\AppData\\Local\\Temp\\ipykernel_15748\\275834342.py:30: DeprecationWarning: executable_path has been deprecated, please pass in a Service object\n",
      "  driver = webdriver.Chrome(options=options,executable_path='C:/Users/fayyo/Downloads/chromedriver.exe')\n"
     ]
    },
    {
     "name": "stdout",
     "output_type": "stream",
     "text": [
      "vacancy number 1/n page number 4\n",
      "vacancy number 2/n page number 4\n",
      "vacancy number 3/n page number 4\n",
      "vacancy number 4/n page number 4\n",
      "vacancy number 5/n page number 4\n",
      "vacancy number 6/n page number 4\n",
      "vacancy number 7/n page number 4\n",
      "vacancy number 8/n page number 4\n",
      "problem vacancy number--->8\n",
      "vacancy number 9/n page number 4\n",
      "vacancy number 10/n page number 4\n",
      "vacancy number 11/n page number 4\n",
      "vacancy number 12/n page number 4\n",
      "vacancy number 13/n page number 4\n",
      "vacancy number 14/n page number 4\n",
      "vacancy number 15/n page number 4\n",
      "vacancy number 16/n page number 4\n",
      "vacancy number 17/n page number 4\n",
      "vacancy number 18/n page number 4\n",
      "vacancy number 19/n page number 4\n",
      "vacancy number 20/n page number 4\n",
      "vacancy number 21/n page number 4\n",
      "vacancy number 22/n page number 4\n",
      "vacancy number 23/n page number 4\n",
      "vacancy number 24/n page number 4\n",
      "vacancy number 25/n page number 4\n",
      "vacancy number 26/n page number 4\n",
      "vacancy number 27/n page number 4\n",
      "vacancy number 28/n page number 4\n",
      "vacancy number 29/n page number 4\n",
      "vacancy number 30/n page number 4\n",
      "vacancy number 1/n page number 5\n",
      "vacancy number 2/n page number 5\n",
      "vacancy number 3/n page number 5\n",
      "vacancy number 4/n page number 5\n",
      "vacancy number 5/n page number 5\n",
      "vacancy number 6/n page number 5\n",
      "vacancy number 7/n page number 5\n",
      "vacancy number 8/n page number 5\n",
      "problem vacancy number--->8\n",
      "vacancy number 9/n page number 5\n",
      "vacancy number 10/n page number 5\n",
      "vacancy number 11/n page number 5\n",
      "vacancy number 12/n page number 5\n",
      "vacancy number 13/n page number 5\n",
      "vacancy number 14/n page number 5\n",
      "vacancy number 15/n page number 5\n",
      "vacancy number 16/n page number 5\n",
      "vacancy number 17/n page number 5\n",
      "vacancy number 18/n page number 5\n",
      "vacancy number 19/n page number 5\n",
      "vacancy number 20/n page number 5\n",
      "vacancy number 21/n page number 5\n",
      "vacancy number 22/n page number 5\n",
      "vacancy number 23/n page number 5\n",
      "vacancy number 24/n page number 5\n",
      "vacancy number 25/n page number 5\n",
      "vacancy number 26/n page number 5\n",
      "vacancy number 27/n page number 5\n",
      "vacancy number 28/n page number 5\n",
      "vacancy number 29/n page number 5\n",
      "vacancy number 30/n page number 5\n",
      "vacancy number 1/n page number 6\n",
      "vacancy number 2/n page number 6\n",
      "vacancy number 3/n page number 6\n",
      "vacancy number 4/n page number 6\n",
      "vacancy number 5/n page number 6\n",
      "vacancy number 6/n page number 6\n",
      "vacancy number 7/n page number 6\n",
      "vacancy number 8/n page number 6\n",
      "problem vacancy number--->8\n",
      "vacancy number 9/n page number 6\n",
      "vacancy number 10/n page number 6\n",
      "vacancy number 11/n page number 6\n",
      "vacancy number 12/n page number 6\n",
      "vacancy number 13/n page number 6\n",
      "vacancy number 14/n page number 6\n",
      "vacancy number 15/n page number 6\n",
      "vacancy number 16/n page number 6\n",
      "vacancy number 17/n page number 6\n"
     ]
    }
   ],
   "source": [
    "import re\n",
    "\n",
    "def remove_special_characters(input_string):\n",
    "    # Define a regular expression pattern to match special characters\n",
    "    pattern = r'[^\\w\\s]'  # This pattern matches non-alphanumeric and non-space characters\n",
    "\n",
    "    # Use re.sub() to replace the matched characters with an empty string\n",
    "    cleaned_string = re.sub(pattern, '', input_string)\n",
    "    \n",
    "    return cleaned_string\n",
    "\n",
    "from selenium.webdriver.common.by import By\n",
    "from selenium.webdriver.chrome.options import Options\n",
    "from selenium import webdriver\n",
    "import time\n",
    "import pandas as pd\n",
    "import lxml\n",
    "from bs4 import BeautifulSoup\n",
    "from selenium.webdriver.common.by import By\n",
    "from selenium.webdriver.support.ui import WebDriverWait\n",
    "from selenium.webdriver.support import expected_conditions as EC\n",
    "\n",
    "# options = Options()\n",
    "# options.add_argument(\"user-data-dir=C:/Users/dell/AppData/Local/Google/Chrome/User Data/Profile 30\")\n",
    "\n",
    "for link_num in range(4, 10):\n",
    "    options = Options()\n",
    "    options.add_argument(\"user-data-dir=C:/Users/dell/AppData/Local/Google/Chrome/User Data/Profile 33\")\n",
    "\n",
    "    driver = webdriver.Chrome(options=options,executable_path='C:/Users/fayyo/Downloads/chromedriver.exe')\n",
    "    driver.get(f'https://www.youngcapital.nl/vacatures?page='+str(link_num)+'&search%5Bfunction_id%5D=&search%5Bgeo_distance_eq%5D=25&search%5Bpage%5D=2&search%5Bsort_by%5D=')\n",
    "    time.sleep(15)\n",
    "\n",
    "    dict_list=[]\n",
    "    for i in range(1, 31):\n",
    "\n",
    "        print(f\"vacancy number {i}/n page number {link_num}\")\n",
    "        dict_={}\n",
    "\n",
    "        try:                                    # #\\39 65b20d8-5beb-4085-acd9-4ad8dd78c266 > div.bcToasterContent.bcTemplateContent > i\n",
    "            driver.find_element(By.CSS_SELECTOR, \"#\\39 65b20d8-5beb-4085-acd9-4ad8dd78c266 > div.bcToasterContent.bcTemplateContent > i\").click()\n",
    "        except:                                                ##\\38 6e60cb1-849f-41c7-a8ee-8ca9d1c24c4e > div.bcToasterContent > div > div > div > i\n",
    "            pass\n",
    "        try:\n",
    "            driver.find_element(By.CSS_SELECTOR, \"#\\38 6e60cb1-849f-41c7-a8ee-8ca9d1c24c4e > div.bcToasterContent > div > div > div > i\").click()\n",
    "        except:\n",
    "            pass\n",
    "        try:\n",
    "            time.sleep(5)\n",
    "            element = driver.find_element(By.CSS_SELECTOR, 'body > div:nth-child(8) > main > div > div.col-xs-12.col-md-8.total-job-opening-results.pt-md-6x > div.search-results > div > div > a:nth-child('+str(i)+')')\n",
    "            time.sleep(4)\n",
    "            element.click()\n",
    "            time.sleep(10)                           \n",
    "        \n",
    "            src = driver.page_source\n",
    "            soup = BeautifulSoup(src, 'lxml')\n",
    "\n",
    "            degree = soup.find(\"dd\", {\"itemprop\":\"eduTypes\"}).text\n",
    "            dict_['degree']=degree.strip()\n",
    "            \n",
    "            location = soup.find(\"dd\", {\"itemprop\":\"jobLocation\"}).text\n",
    "            dict_['location']=location.strip()\n",
    "            \n",
    "            working_hour = soup.find(\"dd\", {\"itemprop\":\"workingHours\"}).text\n",
    "            dict_[\"working_hour\"]=working_hour.strip()\n",
    "            \n",
    "            employment = soup.find(\"dd\", {\"itemprop\":\"employmentType\"}).text\n",
    "            dict_[\"employment\"]=employment.strip()\n",
    "            \n",
    "            salary = soup.find(\"dd\", {\"itemprop\":\"estimatedSalary\"}).text\n",
    "            dict_['salary']=salary.replace(\"€\", \"\").strip()\n",
    "\n",
    "            job_title=soup.find_all('p')[0].text\n",
    "            dict_['job_title']=job_title.strip()\n",
    "\n",
    "            p1=soup.find_all('p')[1].text\n",
    "            dict_[\"p1\"]=p1.strip()\n",
    "\n",
    "            p2=soup.find_all('p')[2].text\n",
    "            dict_[\"p2\"]=p2.strip()\n",
    "\n",
    "            p3=soup.find_all('p')[3].text\n",
    "            dict_[\"p3\"]=p3.strip()\n",
    "            p4=soup.find_all('p')[4].text\n",
    "            dict_[\"p4\"]=p4.strip()\n",
    "            p5=soup.find_all('p')[5].text\n",
    "            dict_[\"p5\"]=p5.strip()\n",
    "            p6=soup.find_all('p')[6].text\n",
    "            dict_[\"p6\"]=p6.strip()\n",
    "            p7=soup.find_all('p')[7].text\n",
    "            dict_[\"p7\"]=p7.strip()\n",
    "            p8=soup.find_all('p')[8].text\n",
    "            dict_[\"p8\"]=p8.strip()\n",
    "            p9=soup.find_all('p')[9].text\n",
    "            dict_[\"p9\"]=p9.strip()\n",
    "\n",
    "            dict_list.append(dict_)\n",
    "\n",
    "            driver.back()\n",
    "        except:\n",
    "            print(f\"problem vacancy number--->{i}\")\n",
    "            pass\n",
    "    import json\n",
    "    json_string = json.dumps(dict_list)\n",
    "\n",
    "    with open(f\"data{link_num}.json\", \"w\") as json_file:\n",
    "        json.dump(dict_list, json_file, indent=4)\n",
    "\n",
    "    driver.close()"
   ]
  },
  {
   "cell_type": "code",
   "execution_count": 71,
   "metadata": {},
   "outputs": [],
   "source": [
    "str_=\"\\n      Tussen \\u20ac2.500 en \\u20ac3.200 Per maand\\n    \""
   ]
  },
  {
   "cell_type": "code",
   "execution_count": 73,
   "metadata": {},
   "outputs": [
    {
     "data": {
      "text/plain": [
       "'Tussen €2.500 en €3.200 Per maand'"
      ]
     },
     "execution_count": 73,
     "metadata": {},
     "output_type": "execute_result"
    }
   ],
   "source": [
    "str_.strip()"
   ]
  },
  {
   "cell_type": "code",
   "execution_count": 75,
   "metadata": {},
   "outputs": [
    {
     "name": "stdout",
     "output_type": "stream",
     "text": [
      "Tussen 2500 en 3200 Per maand\n"
     ]
    }
   ],
   "source": [
    "\n",
    "\n",
    "input_string = \"Hello, @World! How's it going?\"\n",
    "cleaned_string = remove_special_characters(str_.strip())\n",
    "print(cleaned_string)  # Output: \"Hello World Hows it going\"\n"
   ]
  },
  {
   "cell_type": "code",
   "execution_count": 66,
   "metadata": {},
   "outputs": [
    {
     "data": {
      "text/plain": [
       "[{'degree': ' MBO, HBO, Universiteit',\n",
       "  'location': 'Lijnden',\n",
       "  'working_hour': '32 - 39',\n",
       "  'employment': 'Fulltime (startersfunctie), Fulltime (ervaren)',\n",
       "  'salary': '\\n      Tussen €2.500 en €3.200 Per maand\\n    ',\n",
       "  'job_title': 'Tiktok en Insta jou ding? Start in online sales in Lijnden!',\n",
       "  'p1': 'Kun je niet stoppen met reels kijken op social media? Start dan als medewerker online sales in Lijnden en maak van social media je fulltime werk!',\n",
       "  'p2': 'Als medewerker online sales in Lijnden werk je samen met een gedreven team waar groei en teamwork voorop staan. Je zal nauw samenwerken met Marketing en Inside Sales om nieuwe en bestaande klanten aan te trekken voor afdelingen zoals IT, Audiovisueel en Managed Print Services.',\n",
       "  'p3': 'Je taken:',\n",
       "  'p4': 'Voor deze rol is een zelfstandige houding cruciaal. Goed luisteren, analyseren en actieplannen maken, vervult de helft van de vereisten. Als online sales medewerken vragen we tactische communicatieve vaardigheden, inspelen op situaties en flexibiliteit.\\xa0',\n",
       "  'p5': 'Het bedrijf:Het gaat im een bedrijg dat IT, Audiovisueel en Managed Print Services aanbiedt. Ze zijn gespecialiseerd in het leveren van oplossingen en diensten om klanten te ondersteunen bij hun zakelijke behoeften op het gebied van technologie en printoplossingen.',\n",
       "  'p6': '',\n",
       "  'p7': \"Ben jij de perfecte kandidaat voor deze vacature en voldoe je aan de eisen? Klik dan op de knop 'Solliciteer direct!' en we nemen zo snel mogelijk contact met je op!\",\n",
       "  'p8': '',\n",
       "  'p9': '#indebuurt',\n",
       "  'p10': '\\nTopjob | Lijnden | Online marketing vacatures | Sales vacatures | Vacatures commercieel medewerker | Vacature online marketeer | Fulltime (startersfunctie) | Fulltime (ervaren) | MBO | HBO | Universiteit\\n  '},\n",
       " {'degree': ' MBO, HBO',\n",
       "  'location': 'Amsterdam',\n",
       "  'working_hour': '40',\n",
       "  'employment': 'Fulltime (startersfunctie), Fulltime (ervaren)',\n",
       "  'salary': '\\n      Tussen €2.300 en €4.690 Per maand\\n    ',\n",
       "  'job_title': 'Servicedesk medewerker bij een grote sportclub in Amsterdam!',\n",
       "  'p1': \"Wil jij graag collega's te woord staan en hen helpen met technische problemen? Begin dan als servicedesk medewerker bij een sportclub in Amsterdam!\",\n",
       "  'p2': \"Als servicedesk medewerker bij een grote sportclub in Amsterdam ben je verantwoordelijk voor het beantwoorden van IT gerelateerde vragen via de telefoon, e-mail en bij de servicedesk. Je gaat de problemen analyseren en biedt een passende oplossing, in het ticketsysteem registreer je alle incidenten en verzoeken. Ook ga je nauw samen werken met verschillende afdelingen en je zorgt dat er bij IT gerelateerde problemen de juiste technische ondersteuning wordt geboden. Dit doe je door op een leuke manier met je collega's om te gaan. Het sociale aspect is daarom ook best wel groot bij deze functie!\\xa0Spreek jij goed Nederlands en Engels, ben je servicegericht en kan je snel schakelen in drukke situaties? Dan is deze vacature perfect voor jou!\",\n",
       "  'p3': \"Het bedrijfAls servicedesk medewerker bij een grote sportclub in Amsterdam kom je te werken bij een van de grootste sportclubs van Nederland. Je komt te werken binnen een team met enthousiaste en gemotiveerde collega's en je krijgt de mogelijkheid om jezelf verder te ontwikkelen.\",\n",
       "  'p4': 'Werkdagen en tijdenAls servicedesk medewerker bij een grote sportclub in Amsterdam ga je 40 uur per week werken tijdens reguliere kantoortijden. Wel ben je bereid om tijdens evenementen buiten kantooruren te werken.',\n",
       "  'p5': '',\n",
       "  'p6': \"Ben jij de perfecte kandidaat voor deze vacature en voldoe je aan de eisen? Klik dan op de knop 'Solliciteer direct!' en we nemen zo snel mogelijk contact met je op!\",\n",
       "  'p7': '',\n",
       "  'p8': '#indebuurt',\n",
       "  'p9': '\\nTopjob | Amsterdam | ICT vacatures | Receptioniste vacatures | Vacatures systeembeheerder | Fulltime (startersfunctie) | Fulltime (ervaren) | MBO | HBO\\n  ',\n",
       "  'p10': '\\n                  Pim Smit, bereikbaar op tel. 085-0689881 of 0651352970\\n'},\n",
       " {'degree': ' MBO, HBO, Universiteit',\n",
       "  'location': 'Aalsmeer',\n",
       "  'working_hour': '20 - 24',\n",
       "  'employment': 'Parttime (overdag)',\n",
       "  'salary': '\\n      Tussen €16,00 en €20,00 per uur\\n    ',\n",
       "  'job_title': 'Ideale parttime baan als financieel medewerker in Aalsmeer!',\n",
       "  'p1': 'Ben jij sterk in administratieve taken en ben jij op zoek naar de ideale parttime baan? Word financieel medewerker voor een bedrijf in Aalsmeer!',\n",
       "  'p2': 'In deze parttime baan als financieel medewerker in Aalsmeer ben jij verantwoordelijk voor de hele financiële administratie van het bedrijf. Jouw werkzaamheden bestaan uit het in- en uitboeken van facturen, opstellen van ad-hoc en periodieke financiële rapportages, maken van maandafsluitingen, forecasts en budgetten en je bereid de jaarrekening voor. Daarnaast ga jij je ook bezighouden met de crediteuren en debiteuren administratie en ga je arbeidscontracten opstellen. Ben jij betrouwbaar en ondernemend? Dan is deze vacature voor jou!',\n",
       "  'p3': \"Het bedrijfAls financieel medewerker in Aalsmeer werk je voor een organisatie die liftsystemen en schaartafels verkoopt in de Benelux en Frankrijk. Let op: dit zijn geen gebouwliften, maar liften die auto's en vrachtwagens naar een andere verdieping brengen. De organisatie is één van Europa's grootste fabrikanten en leveranciers. Jij komt te werken in een team van 10 personen.\",\n",
       "  'p4': 'Werkdagen en tijdenAls financieel medewerker in Aalsmeer is het mogelijk om deels thuis te werken, wel vinden ze het prettig als je meestal op kantoor langskomt.\\xa0Het gaat om een parttime functie van 24 uur per week. Omdat je binnen het bedrijf de enige financieel medewerker bent is het belangrijk dat je hier al ervaring in hebt.',\n",
       "  'p5': '',\n",
       "  'p6': \"Ben jij de perfecte kandidaat voor deze vacature en voldoe je aan de eisen? Klik dan op de knop 'Solliciteer direct!' en we nemen zo snel mogelijk contact met je op!\",\n",
       "  'p7': '',\n",
       "  'p8': '#indebuurt',\n",
       "  'p9': '\\nTopjob | Aalsmeer | Administratieve vacatures | Financiële vacatures | Vacatures administratief medewerker | Vacatures financieel medewerker | Parttime (overdag) | MBO | HBO | Universiteit\\n  ',\n",
       "  'p10': '\\n                  Pim Smit, bereikbaar op tel. 085-0689881 of 0651352970\\n'},\n",
       " {'degree': ' Middelbare school, MBO',\n",
       "  'location': 'Leerdam',\n",
       "  'working_hour': '36 - 40',\n",
       "  'employment': 'Fulltime (startersfunctie), Fulltime (ervaren)',\n",
       "  'salary': '\\n      Tussen €2.500 en €2.800 Per maand\\n    ',\n",
       "  'job_title': 'Fulltime Logistiek Operator bij FrieslandCampina in Leerdam',\n",
       "  'p1': 'Wil jij leuk en afwisselend werk doen? Solliciteer meteen als fulltime logistiek operator bij FrieslandCampina in Leerdam!',\n",
       "  'p2': 'Als logistiek operator is geen dag hetzelfde bij FrieslandCampina in Leerdam. Jij bent verantwoordelijk voor het bedienen van de robots die de kazen naar de lijnen aanvoeren. Daarnaast los je kleine storingen op en ben je bezig met het verbeteren van jouw robots. Ook voer je eerstelijns onderhoud uit in het robotpark. Kwaliteit en veiligheid staan voorop bij dit werk. Alles moet zorgvuldig en volgens strenge richtlijnen gedaan worden. Samen met een team ben je verantwoordelijk dat de kazen op een goede manier gemaakt worden. Je werkt fulltime (36 uur per week) in 3-ploegendienst in een gekoelde omgeving.',\n",
       "  'p3': 'Waar ga je werken?',\n",
       "  'p4': 'Bij FrieslandCampina in Leerdam worden verschillende typen Nederlandse kazen, van kiloblokken tot Edam ballen en Goudse wielen, verpakt en versneden. Onder merken zoals Frico, Old Rotterdam en Milner gaan deze kwaliteitsproducten de hele wereld over.\\xa0',\n",
       "  'p5': 'Klinkt dit goed? Mail je CV dan naar\\xa0t.vanweert@youngcapital.nl\\xa0of bel naar 06-13644847!',\n",
       "  'p6': '',\n",
       "  'p7': \"Ben jij een de kandidaat voor deze vacature en voldoe je aan de eisen? Klik dan op de knop 'Solliciteer direct!' en we nemen zo snel mogelijk contact met je op! Heb je vragen over de vacature? Mail Tom via\\xa0 t.vanweert@youngcapital.nl, of bel naar 06-13644847!\",\n",
       "  'p8': '',\n",
       "  'p9': '\\nLeerdam | Klusser vacatures | Logistieke vacatures | Vacatures logistiek medewerker | Fulltime (startersfunctie) | Fulltime (ervaren) | Middelbare school | MBO\\n  ',\n",
       "  'p10': '\\n                  Tom van Weert, bereikbaar op tel. 085-0689544 of 0613644847\\n'},\n",
       " {'degree': ' MBO, HBO, Universiteit',\n",
       "  'location': 'Schiedam',\n",
       "  'working_hour': '24 - 32',\n",
       "  'employment': 'Fulltime (startersfunctie), Parttime (overdag)',\n",
       "  'salary': '\\n      €14,92 per uur\\n    ',\n",
       "  'job_title': 'Parttime klantenservice medewerker in Schiedam',\n",
       "  'p1': 'Wil jij op kosten van YoungCapital je wft zorg behalen en ervaring opdoen bij een zorgverzekeraar? Word parttime klantenservicemedewerker in Schiedam!',\n",
       "  'p2': 'Een zorgverzekeraar in Schiedam is op zoek naar een nieuw team van enthousiaste klantenservicemedewerkers. Deze organisatie is in de top 10 geëindigd van het meest klantvriendelijke bedrijf van Nederland. Dit is een mooie prestatie, en hier ga je samen met jouw team aan bijdragen.',\n",
       "  'p3': 'Jij helpt klanten met vragen over hun zorgverzekeringGoede zorg is essentieel, maar een goede verzekering net zo. Als parttime klantenservicemedewerker bij een verzekeraar in Schiedam, help jij klanten die vragen hebben over hun zorgverzekering. Denk aan vragen over welke zorg wel of niet gedekt is of hoe het ook alweer zit met het eigen risico. Ten slotte kan het zijn dat een klant een factuur niet kan betalen. Jij blijft empathisch en zorgt samen met de klant voor een passende oplossing.\\xa0',\n",
       "  'p4': \"Jouw trainingswekenOm klantvragen kundig te beantwoorden, volg je een training van 4 weken. Tijdens deze training ga klassikaal aan de slag met jouw nieuwe collega's. Ook maak je verschillende e-learnings die jou klaarstomen voor het echte werk.\",\n",
       "  'p5': 'Startdatum en werktijdenAls klantenservice medewerker in Schiedam kan je zowel 24 als 32 uur per week aan de slag per 2 oktober. Deze uren worden verspreid over drie of vier dagen van maandag tot en met vrijdag tussen 08:00 en 17:30 uur. Jouw werkdagen kunnen per week verschillen, maar door het 4-wekelijkse rooster weet je altijd tijdig waar je aan toe bent.',\n",
       "  'p6': '',\n",
       "  'p7': \"Ben jij de perfecte kandidaat voor deze vacature en voldoe je aan de eisen? Klik dan op de knop 'Solliciteer direct!' en we nemen zo snel mogelijk contact met je op!\",\n",
       "  'p8': '',\n",
       "  'p9': '\\nSchiedam | Administratieve vacatures | Callcenter vacatures | Vacatures administratief medewerker | Vacatures callcenter medewerker | Klantenservice medewerker vacatures | Fulltime (startersfunctie) | Parttime (overdag) | MBO | HBO | Universiteit\\n  ',\n",
       "  'p10': '\\n                  Vera van Zijl, bereikbaar op tel. 0657822003 of +31657822003\\n'},\n",
       " {'degree': ' MBO, HBO, Universiteit',\n",
       "  'location': 'Rotterdam',\n",
       "  'working_hour': '24 - 32',\n",
       "  'employment': 'Fulltime (startersfunctie), Parttime (overdag)',\n",
       "  'salary': '\\n      Tussen €15,11 en €17,24 per uur\\n    ',\n",
       "  'job_title': 'Parttime klantenservice medewerker in Rotterdam',\n",
       "  'p1': 'Goed verdienen, terwijl je mensen helpt en flexibel werkt. Het kan, als parttime klantenservice medewerker in Rotterdam bij een verzekeraar.',\n",
       "  'p2': 'Als parttime klantenservice medewerker in Rotterdam sta jij de klanten van een zorgverzekeraar telefonisch te woord. Gewapend met een headset, computer en flinke dosis enthousiasme tackel jij zo elk probleem. Van checken of medicatie wel of niet vergoed wordt tot het adviseren over welk zorgpakket verzekerden het beste kunnen aanschaffen om zo goed mogelijk voor zorgkosten gedekt te zijn.\\xa0',\n",
       "  'p3': 'Jij luistert aandachtig naar elke situatie, stelt gerichte vragen en leeft je zo volledig in de verzekerde in. Vervolgens check je de gegevens, ga je na welke diensten de zorgverzekeraar te bieden heeft en kom je zo tot een passende oplossing. Niks geen targets of deadlines voor de afhandel- en nawerktijd. Jouw focus ligt op de kwaliteit van het gesprek. Klant blij, jij blij.',\n",
       "  'p4': 'InwerktrajectJij start eerst met een inwerktraject van vijf à zes weken. Hier leer je meer over het bedrijf, de systemen en de service die jij gaat bieden. Ook krijg je een buddy toegewezen die jou wegwijs maakt. Deze uren krijg je gewoon uitbetaald. Daarnaast is het belangrijk dat je Wft Zorg-certificaat hebt. Heb je die nog niet op zak? Dan kun je ’m gratis halen. Zit je na een tijdje helemaal op je plek en zoek je een nieuwe uitdaging? Dan kun je jouw takenpakket verbreden door chat- en mailcontact op te pakken met de klant.',\n",
       "  'p5': 'Werkdagen en tijdenJe start 2 oktober voor 24 tot 32 uur per week. Deze uren maak je van maandag tot en met vrijdag, verdeeld over drie of vier werkdagen. Welke dag(en) je precies vrij bent, kan per week verschillen. Het kantoor zelf is open tussen 08.00 en 17.30 uur.\\xa0Werken om de hoek? #indebuurt',\n",
       "  'p6': '',\n",
       "  'p7': \"Ben jij de perfecte kandidaat voor deze vacature en voldoe je aan de eisen? Klik dan op de knop 'Solliciteer direct!' en we nemen zo snel mogelijk contact met je op!\",\n",
       "  'p8': '',\n",
       "  'p9': '\\nRotterdam | Administratieve vacatures | Callcenter vacatures | Vacatures administratief medewerker | Klantenservice medewerker vacatures | Vacatures helpdesk medewerker | Fulltime (startersfunctie) | Parttime (overdag) | MBO | HBO | Universiteit\\n  ',\n",
       "  'p10': '\\n                  Vera van Zijl, bereikbaar op tel. 0657822003 of +31657822003\\n'},\n",
       " {'degree': ' Middelbare school, MBO, HBO, Universiteit',\n",
       "  'location': 'Ohé en Laak',\n",
       "  'working_hour': '12 - 35',\n",
       "  'employment': 'Parttime (overdag)',\n",
       "  'salary': '\\n      Tussen €12,50 en €13,00 per uur\\n    ',\n",
       "  'job_title': 'Inpakker in de ochtenduren bij een bakkerij in Ohé en Laak',\n",
       "  'p1': 'Wil jij graag ochtenden werken? Ben je graag fyziek bezig? Word dan Inpakker bij de productielocatie van deze bakkerij in Ohé en Laak!',\n",
       "  'p2': 'Dit bedrijf is een bakkerij waarbij op deze locatie alle producten worden geproduceerd en gebakken. Bij deze onderneming zoeken zij op vrijdagavond een Broodsnijder die brood kan snijden voor de bestellingen en brood en banket kan verdelen onder de diverse klanten. Dit doe je samen in een team van 2 tot 4 medewerkers.',\n",
       "  'p3': 'Bij het begin van je dienst ontvang je een bestellijst met welke producten welke klant heeft besteld. Het eerste wat je dan doet, is welke producten moeten er nog worden voorbereid/gesneden en deze ga jij als eerste in orde maken. Producten die je onder andere gaat picken is zacht kleinbrood, koffiebroden en linzestukken, gevulde broden, roggebroden en vlaaien. Bij deze functie is het van belang om het overzicht te bewaren. De bestellingen moeten gepickt en gereed zijn voor de chauffeurs komen om deze naar de klanten te brengen, je werkt dus ook met tijddeadlines.\\xa0',\n",
       "  'p4': 'Je werkt op de volgende dagen en tijden:',\n",
       "  'p5': 'Je kan tussen de 2 en 5 ochtenden werken.\\xa0',\n",
       "  'p6': 'Ben jij de Inpakker die wij zoeken in Ohé en Laak?\\xa0',\n",
       "  'p7': '#indebuurt',\n",
       "  'p8': '',\n",
       "  'p9': \"Ben jij de perfecte kandidaat voor deze vacature en voldoe je aan de eisen? Klik dan op de knop 'Solliciteer direct!' en we nemen zo snel mogelijk contact met je op!\",\n",
       "  'p10': ''}]"
      ]
     },
     "execution_count": 66,
     "metadata": {},
     "output_type": "execute_result"
    }
   ],
   "source": [
    "dict_list"
   ]
  },
  {
   "cell_type": "code",
   "execution_count": 64,
   "metadata": {},
   "outputs": [],
   "source": [
    "json_string = json.dumps(dict_list)\n",
    "\n",
    "with open(f\"data{link_num}.json\", \"w\") as json_file:\n",
    "    json.dump(dict_list, json_file, indent=4)"
   ]
  },
  {
   "cell_type": "code",
   "execution_count": 63,
   "metadata": {},
   "outputs": [
    {
     "data": {
      "text/plain": [
       "2"
      ]
     },
     "execution_count": 63,
     "metadata": {},
     "output_type": "execute_result"
    }
   ],
   "source": [
    "len(dict_list)"
   ]
  },
  {
   "cell_type": "code",
   "execution_count": 30,
   "metadata": {},
   "outputs": [],
   "source": [
    "a={1:\"a\", 2:\"b\"}\n",
    "b={1:\"a\", 2:\"b\"}\n",
    "c=[]\n",
    "c.append(b)"
   ]
  },
  {
   "cell_type": "code",
   "execution_count": 31,
   "metadata": {},
   "outputs": [],
   "source": [
    "c.append(b)"
   ]
  },
  {
   "cell_type": "code",
   "execution_count": 35,
   "metadata": {},
   "outputs": [
    {
     "name": "stdout",
     "output_type": "stream",
     "text": [
      "a\n",
      "a\n"
     ]
    }
   ],
   "source": [
    "for j in c:\n",
    "    print(j[1])"
   ]
  },
  {
   "cell_type": "code",
   "execution_count": null,
   "metadata": {},
   "outputs": [],
   "source": []
  },
  {
   "cell_type": "code",
   "execution_count": 36,
   "metadata": {},
   "outputs": [],
   "source": [
    "soup = BeautifulSoup(src, 'lxml')"
   ]
  },
  {
   "cell_type": "code",
   "execution_count": null,
   "metadata": {},
   "outputs": [],
   "source": [
    "a =soup.find_all('p', {'class':\"mt-0 mb-0 pb v2__EIReviewDetailsV2__bodyColor v2__EIReviewDetailsV2__lineHeightLarge v2__EIReviewDetailsV2__isCollapsed\"})"
   ]
  },
  {
   "cell_type": "code",
   "execution_count": null,
   "metadata": {},
   "outputs": [],
   "source": [
    "# <span class=\"ml-1x\">16 - 38 uur per week </span>"
   ]
  },
  {
   "cell_type": "code",
   "execution_count": null,
   "metadata": {},
   "outputs": [],
   "source": [
    "Als fulltime kassamedewerker ga je aan de slag bij een tankstation in het zuiden van Eindhoven. Dit tankstation maakt deel uit van een groot netwerk van tankstations in heel"
   ]
  },
  {
   "cell_type": "code",
   "execution_count": null,
   "metadata": {},
   "outputs": [],
   "source": [
    "Vind jij het leuk om achter de kassa te staan en mensen te helpen? Solliciteer dan nu als fulltime kassamedewerker bij een tankstation in Eindhoven."
   ]
  },
  {
   "cell_type": "code",
   "execution_count": null,
   "metadata": {},
   "outputs": [],
   "source": [
    "# 1 va 9, both are included"
   ]
  },
  {
   "cell_type": "code",
   "execution_count": 58,
   "metadata": {},
   "outputs": [
    {
     "data": {
      "text/plain": [
       "'Fulltime kassamedewerker bij een tankstation in Eindhoven'"
      ]
     },
     "execution_count": 58,
     "metadata": {},
     "output_type": "execute_result"
    }
   ],
   "source": [
    "soup.find_all('p')[0].text"
   ]
  },
  {
   "cell_type": "code",
   "execution_count": 38,
   "metadata": {},
   "outputs": [
    {
     "name": "stdout",
     "output_type": "stream",
     "text": [
      "<div class=\"card__body job-opening__description\" itemprop=\"description\">\n",
      "<h2>Wat ga je doen?</h2>\n",
      "<p>Als fulltime kassamedewerker ga je aan de slag bij een tankstation in het zuiden van Eindhoven. Dit tankstation maakt deel uit van een groot netwerk van tankstations in heel Nederland. De meeste van deze tankstations hebben naast de reguliere winkels ook een bakkerij, en dit tankstation is daar geen uitzondering op! Hier worden dagelijks verse broodjes, warme snacks en drankjes bereid.</p>\n",
      "<p>Het is jouw taak om de meest smakelijke broodjes, snacks en drankjes klaar te maken. Met jouw glimlach en vaardigheden zorg je ervoor dat gasten ook met een glimlach naar buiten gaan. Naast het bereiden van broodjes zijn er nog andere taken die je dag afwisselend maken:</p>\n",
      "<ul class=\"list--squares mb-2x\">\n",
      "<li>Je rekent direct af aan de kassa voor alle broodjes en drankjes die je bereidt.</li>\n",
      "<li>Je zorgt ervoor dat het tankstation er tiptop uitziet. Dit betekent dat alles schoon, opgeruimd en aangevuld is.</li>\n",
      "<li>Je helpt mee met de presentatie en inrichting van de bakkerij.</li>\n",
      "<li>Het is belangrijk dat je altijd de voorgeschreven (veiligheids)procedures en richtlijnen volgt, zoals de voedselwarenwet.</li>\n",
      "<li>Je komt terecht in een klein en gezellig team, en samen streven jullie ernaar om gasten een fijne (tank)pauze te bezorgen.</li>\n",
      "</ul>\n",
      "<p><strong>Werkdagen en -tijden</strong><br/>Je bent beschikbaar als parttime of fulltime medewerker (16 tot 38 uur) van maandag tot en met zondag. In het weekend word je om de week ingeroosterd. Als je een paar uur meer of minder beschikbaar bent, is dit wellicht ook bespreekbaar! Je diensten variëren en de shifts zijn van 05:30 tot 14:15 uur, 08:00 tot 16:00 uur of 14:15 tot 22:15 uur.</p>\n",
      "<p>Het tankstation is goed bereikbaar met het openbaar vervoer, de fiets/scooter of met de auto.</p>\n",
      "<p><strong>Salaris</strong> <br/>Je salaris is afhankelijk van je leeftijd, en op feestdagen ontvang je een extra toeslag van 50%.</p>\n",
      "<p>Dus, ben jij klaar om je dag te starten met de geur van verse broodjes en gasten blij te maken met jouw service? Solliciteer dan nu!</p>\n",
      "<h2>Wat wij bieden</h2>\n",
      "<ul class=\"list--squares\"><li>Je verdient een lekker salaris van €12,62 per uur vanaf 21 jaar;</li><li>Je krijgt een reiskostenvergoeding vanaf 20 km enkele reis;</li><li>Je krijgt veel verantwoordelijkheden;</li><li>Deze baan is goed te combineren met een andere baan, studie of hobby!</li></ul>\n",
      "<div class=\"mt-4x mb-4x\">\n",
      "<h2>Wat wij vragen:</h2>\n",
      "<ul class=\"list--squares\"><li>Er is geen minimale opleiding vereist. </li><li>Ervaring in de horeca is mooi meegenomen maar geen must;</li><li>Je bent flexibel en servicegericht;</li><li>Je spreekt Nederlands en een klein beetje Engels.</li></ul>\n",
      "</div>\n",
      "<h2>Solliciteren</h2>\n",
      "<p></p><p>Ben jij de perfecte kandidaat voor deze vacature en voldoe je aan de eisen? Klik dan op de knop 'Solliciteer direct!' en we nemen zo snel mogelijk contact met je op!</p><p></p>\n",
      "<h2 class=\"mt-4x\">Extra informatie</h2>\n",
      "<p>#indebuurt</p>\n",
      "<dl class=\"mt-2x\">\n",
      "<dt>Status</dt>\n",
      "<dd itemprop=\"status\"><span class=\"job_opening__status--active\"><i class=\"nyc-icon nyc-icon-circle\"></i>Open</span></dd>\n",
      "<dt>Opleidingsniveaus</dt>\n",
      "<dd itemprop=\"eduTypes\"> Middelbare school, MBO, HBO, Universiteit</dd>\n",
      "<dt>Plaats</dt>\n",
      "<dd itemprop=\"jobLocation\">Eindhoven</dd>\n",
      "<dt>Werkuren per week</dt>\n",
      "<dd itemprop=\"workingHours\">16 - 38</dd>\n",
      "<dt>Dienstverbanden</dt>\n",
      "<dd itemprop=\"employmentType\">Fulltime (startersfunctie), Parttime (overdag), Avondwerk, Weekendwerk, Vakantiewerk, Tijdelijke fulltime baan</dd>\n",
      "<dt>Salarisindicatie</dt>\n",
      "<dd itemprop=\"estimatedSalary\">\n",
      "      Tussen €6,61 en €12,62 per uur\n",
      "    </dd>\n",
      "<dt>Verantwoordelijk voor</dt>\n",
      "<dd>Broodjes bereiden, kassawerkzaamheden en zorgen dat de winkel er netjes uit ziet.</dd>\n",
      "<dt>Gepubliceerd op</dt>\n",
      "<dd itemprop=\"publishedAt\">28-08-2023</dd>\n",
      "</dl>\n",
      "</div>\n"
     ]
    }
   ],
   "source": [
    "print(soup.find('div', {'class':\"card__body job-opening__description\", 'itemprop':\"description\", 'p':\"\"}))"
   ]
  },
  {
   "cell_type": "code",
   "execution_count": 35,
   "metadata": {},
   "outputs": [
    {
     "data": {
      "text/plain": [
       "<span class=\"ml-1x\">Middelbare school, MBO, HBO, Universiteit</span>"
      ]
     },
     "execution_count": 35,
     "metadata": {},
     "output_type": "execute_result"
    }
   ],
   "source": [
    "soup"
   ]
  },
  {
   "cell_type": "code",
   "execution_count": 25,
   "metadata": {},
   "outputs": [
    {
     "name": "stdout",
     "output_type": "stream",
     "text": [
      "Eindhoven\n",
      "16 - 38 uur per week\n",
      "Tussen €6,61 en €12,62 per uur\n",
      "Middelbare school, MBO, HBO, Universiteit\n"
     ]
    }
   ],
   "source": [
    "for soup in soup.find_all('span', {'class':\"ml-1x\"}):\n",
    "    print(soup.text.strip())"
   ]
  },
  {
   "cell_type": "code",
   "execution_count": 33,
   "metadata": {},
   "outputs": [
    {
     "name": "stdout",
     "output_type": "stream",
     "text": [
      "None\n"
     ]
    }
   ],
   "source": [
    "\n",
    "print(soup.find('div', {'class':\"card__body job-opening__description\", 'itemprop':\"description\"}))"
   ]
  },
  {
   "cell_type": "code",
   "execution_count": 24,
   "metadata": {},
   "outputs": [
    {
     "data": {
      "text/plain": [
       "'Fulltime kassamedewerker bij een tankstation in Eindhoven'"
      ]
     },
     "execution_count": 24,
     "metadata": {},
     "output_type": "execute_result"
    }
   ],
   "source": [
    "soup.find('h1', {'itemprop':\"title\"}).text.strip()"
   ]
  },
  {
   "cell_type": "code",
   "execution_count": 20,
   "metadata": {},
   "outputs": [
    {
     "data": {
      "text/plain": [
       "'Fulltime kassamedewerker bij een tankstation in Eindhoven'"
      ]
     },
     "execution_count": 20,
     "metadata": {},
     "output_type": "execute_result"
    }
   ],
   "source": [
    "job_title.text"
   ]
  },
  {
   "cell_type": "code",
   "execution_count": 16,
   "metadata": {},
   "outputs": [
    {
     "data": {
      "text/plain": [
       "''"
      ]
     },
     "execution_count": 16,
     "metadata": {},
     "output_type": "execute_result"
    }
   ],
   "source": [
    "job_title.text"
   ]
  },
  {
   "cell_type": "code",
   "execution_count": null,
   "metadata": {},
   "outputs": [],
   "source": [
    "body > div:nth-child(10) > main > div > div.col-xs-12.col-md-8.sticky-title__moving-target > div > div.card.card--top.job-opening__body.printable > div.card__body.card__body--sticky > div.row.-no > div.job-opening__title.col-xs-12 > div.flex-row.between-xs > h1"
   ]
  },
  {
   "cell_type": "code",
   "execution_count": 10,
   "metadata": {},
   "outputs": [
    {
     "data": {
      "text/plain": [
       "<selenium.webdriver.remote.webelement.WebElement (session=\"f802f151910335a233ba4778ab342d68\", element=\"7AD810BFAC967424C9FA0E97A29ED251_element_65\")>"
      ]
     },
     "execution_count": 10,
     "metadata": {},
     "output_type": "execute_result"
    }
   ],
   "source": [
    "body > div:nth-child(10) > main > div > div.col-xs-12.col-md-4.mt-md-4x.job-opening-information-section.no-printing > div.job-opening-persisted-elems > div > div > div > div:nth-child(1) > span\n",
    "body > div:nth-child(10) > main > div > div.col-xs-12.col-md-4.mt-md-4x.job-opening-information-section.no-printing > div.job-opening-persisted-elems > div > div > div > div:nth-child(2) > span\n",
    "body > div:nth-child(10) > main > div > div.col-xs-12.col-md-4.mt-md-4x.job-opening-information-section.no-printing > div.job-opening-persisted-elems > div > div > div > div:nth-child(4) > span"
   ]
  },
  {
   "cell_type": "code",
   "execution_count": null,
   "metadata": {},
   "outputs": [],
   "source": [
    "# Wat ga je doen?\n",
    "body > div:nth-child(10) > main > div > div.col-xs-12.col-md-8.sticky-title__moving-target > div > div.card.card--top.job-opening__body.printable > div.card__body.job-opening__description > p:nth-child(2)\n",
    "body > div:nth-child(10) > main > div > div.col-xs-12.col-md-8.sticky-title__moving-target > div > div.card.card--top.job-opening__body.printable > div.card__body.job-opening__description > p:nth-child(3)\n",
    "body > div:nth-child(10) > main > div > div.col-xs-12.col-md-8.sticky-title__moving-target > div > div.card.card--top.job-opening__body.printable > div.card__body.job-opening__description > p:nth-child(6)"
   ]
  }
 ],
 "metadata": {
  "kernelspec": {
   "display_name": "venv",
   "language": "python",
   "name": "python3"
  },
  "language_info": {
   "codemirror_mode": {
    "name": "ipython",
    "version": 3
   },
   "file_extension": ".py",
   "mimetype": "text/x-python",
   "name": "python",
   "nbconvert_exporter": "python",
   "pygments_lexer": "ipython3",
   "version": "3.8.8"
  },
  "orig_nbformat": 4
 },
 "nbformat": 4,
 "nbformat_minor": 2
}
