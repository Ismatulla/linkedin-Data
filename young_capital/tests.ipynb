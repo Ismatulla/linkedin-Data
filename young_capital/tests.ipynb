{
 "cells": [
  {
   "cell_type": "code",
   "execution_count": null,
   "metadata": {},
   "outputs": [],
   "source": [
    "# \\u00e9\n",
    "# \\u00a0\n",
    "# \\u00e\n",
    "# \\u00a0\n",
    "# \\u00f3"
   ]
  },
  {
   "cell_type": "code",
   "execution_count": null,
   "metadata": {},
   "outputs": [],
   "source": [
    "text = \"This is some text with special characters: \\u00e0, \\u00e9, \\u00ec, \\u00f2, \\u00fa.\"\n",
    "\n",
    "replacements = {\n",
    "    \"\\u00e0\": \"a\",\n",
    "    \"\\u00e9\": \"e\",\n",
    "    \"\\u00ec\": \"i\",\n",
    "    \"\\u00f2\": \"o\",\n",
    "    \"\\u00fa\": \"u\"\n",
    "}\n",
    "\n",
    "for original, replacement in replacements.items():\n",
    "    text = text.replace(original, replacement)\n",
    "\n",
    "print(text)\n"
   ]
  },
  {
   "cell_type": "code",
   "execution_count": 32,
   "metadata": {},
   "outputs": [],
   "source": [
    "import json\n",
    "\n",
    "with open(\"data.json\", \"r\") as json_file:\n",
    "    data = json.load(json_file)"
   ]
  },
  {
   "cell_type": "code",
   "execution_count": 33,
   "metadata": {},
   "outputs": [
    {
     "data": {
      "text/plain": [
       "486"
      ]
     },
     "execution_count": 33,
     "metadata": {},
     "output_type": "execute_result"
    }
   ],
   "source": [
    "len(data)"
   ]
  },
  {
   "cell_type": "code",
   "execution_count": 18,
   "metadata": {},
   "outputs": [
    {
     "name": "stdout",
     "output_type": "stream",
     "text": [
      "êsd\n"
     ]
    }
   ],
   "source": [
    "text = \"\\u00easd\".replace(\"\\u00e0\", \"\")\n",
    "print(text)"
   ]
  },
  {
   "cell_type": "code",
   "execution_count": null,
   "metadata": {},
   "outputs": [],
   "source": [
    "# files=['my.json','files.json',...,'name.json']\n",
    "\n",
    "def merge_JsonFiles():\n",
    "    result = list()\n",
    "    # for f1 in filename:\n",
    "    for i in range(10, 43):\n",
    "        with open(f\"data{i}.json\", 'r') as infile:\n",
    "            result.extend(json.load(infile))\n",
    "\n",
    "    with open('data1.json', 'w') as output_file:\n",
    "        json.dump(result, output_file, indent=4)\n",
    "\n",
    "merge_JsonFiles()"
   ]
  }
 ],
 "metadata": {
  "kernelspec": {
   "display_name": "venv",
   "language": "python",
   "name": "python3"
  },
  "language_info": {
   "codemirror_mode": {
    "name": "ipython",
    "version": 3
   },
   "file_extension": ".py",
   "mimetype": "text/x-python",
   "name": "python",
   "nbconvert_exporter": "python",
   "pygments_lexer": "ipython3",
   "version": "3.8.8"
  },
  "orig_nbformat": 4
 },
 "nbformat": 4,
 "nbformat_minor": 2
}
