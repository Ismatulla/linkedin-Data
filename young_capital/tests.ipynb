{
 "cells": [
  {
   "cell_type": "code",
   "execution_count": null,
   "metadata": {},
   "outputs": [],
   "source": [
    "# \\u00e9\n",
    "# \\u00a0\n",
    "# \\u00e\n",
    "# \\u00a0\n",
    "# \\u00f3"
   ]
  },
  {
   "cell_type": "code",
   "execution_count": null,
   "metadata": {},
   "outputs": [],
   "source": [
    "text = \"This is some text with special characters: \\u00e0, \\u00e9, \\u00ec, \\u00f2, \\u00fa.\"\n",
    "\n",
    "replacements = {\n",
    "    \"\\u00e0\": \"a\",\n",
    "    \"\\u00e9\": \"e\",\n",
    "    \"\\u00ec\": \"i\",\n",
    "    \"\\u00f2\": \"o\",\n",
    "    \"\\u00fa\": \"u\"\n",
    "}\n",
    "\n",
    "for original, replacement in replacements.items():\n",
    "    text = text.replace(original, replacement)\n",
    "\n",
    "print(text)\n"
   ]
  },
  {
   "cell_type": "code",
   "execution_count": 32,
   "metadata": {},
   "outputs": [],
   "source": [
    "import json\n",
    "\n",
    "with open(\"data.json\", \"r\") as json_file:\n",
    "    data = json.load(json_file)"
   ]
  },
  {
   "cell_type": "code",
   "execution_count": 33,
   "metadata": {},
   "outputs": [
    {
     "data": {
      "text/plain": [
       "486"
      ]
     },
     "execution_count": 33,
     "metadata": {},
     "output_type": "execute_result"
    }
   ],
   "source": [
    "len(data)"
   ]
  },
  {
   "cell_type": "code",
   "execution_count": 18,
   "metadata": {},
   "outputs": [
    {
     "name": "stdout",
     "output_type": "stream",
     "text": [
      "êsd\n"
     ]
    }
   ],
   "source": [
    "text = \"\\u00easd\".replace(\"\\u00e0\", \"\")\n",
    "print(text)"
   ]
  },
  {
   "cell_type": "code",
   "execution_count": 2,
   "metadata": {},
   "outputs": [],
   "source": [
    "# files=['my.json','files.json',...,'name.json']\n",
    "import json\n",
    "def merge_JsonFiles():\n",
    "    result = list()\n",
    "    # for f1 in filename:\n",
    "    for i in range(10, 43):\n",
    "        with open(f\"data{i}.json\", 'r') as infile:\n",
    "            result.extend(json.load(infile))\n",
    "\n",
    "    with open('data10_42.json', 'w') as output_file:\n",
    "        json.dump(result, output_file, indent=4)\n",
    "\n",
    "merge_JsonFiles()"
   ]
  },
  {
   "cell_type": "code",
   "execution_count": 7,
   "metadata": {},
   "outputs": [],
   "source": [
    "with open('data10_42.json', 'r') as file:\n",
    "    vacancies = json.load(file)"
   ]
  },
  {
   "cell_type": "markdown",
   "metadata": {},
   "source": [
    "Counselor (Si), Initiator (DI), Encourager (Is), Analyst (C)\n",
    "Captain (D),Motivator (I) Influencer (Id)Harmonizer (IS)\n",
    "Supporter (S)Planner (Sc)Stabilizer (SC)"
   ]
  },
  {
   "cell_type": "code",
   "execution_count": 25,
   "metadata": {},
   "outputs": [],
   "source": [
    "list_=[\"Counselor (Si)\", \"Initiator (DI)\", \"Encourager (Is)\", \"Analyst (C)\",\n",
    "\"Captain (D)\", \"Motivator (I)\", \"Influencer (Id)\", \"Harmonizer (IS)\",\n",
    "\"Supporter (S)\",\"Planner (Sc)\", \"Stabilizer (SC)\", \"Editor (Cs)\", \n",
    "\"Skeptic (Cd)\",\"Questioner (CD)\", \"Architect (Dc)\", \"Driver (Di)\"\n",
    "]"
   ]
  },
  {
   "cell_type": "code",
   "execution_count": 26,
   "metadata": {},
   "outputs": [
    {
     "name": "stdout",
     "output_type": "stream",
     "text": [
      "0\n",
      "1\n",
      "40\n",
      "2\n",
      "80\n",
      "3\n",
      "120\n",
      "4\n",
      "160\n",
      "5\n",
      "200\n",
      "6\n",
      "240\n",
      "7\n",
      "280\n",
      "8\n",
      "320\n",
      "9\n",
      "360\n",
      "10\n",
      "400\n",
      "11\n",
      "440\n",
      "12\n",
      "480\n",
      "13\n",
      "520\n",
      "14\n",
      "560\n",
      "15\n",
      "600\n",
      "16\n"
     ]
    },
    {
     "ename": "IndexError",
     "evalue": "list index out of range",
     "output_type": "error",
     "traceback": [
      "\u001b[1;31m---------------------------------------------------------------------------\u001b[0m",
      "\u001b[1;31mIndexError\u001b[0m                                Traceback (most recent call last)",
      "Cell \u001b[1;32mIn[26], line 5\u001b[0m\n\u001b[0;32m      3\u001b[0m \u001b[39mif\u001b[39;00m i\u001b[39m%\u001b[39m\u001b[39m40\u001b[39m\u001b[39m==\u001b[39m\u001b[39m0\u001b[39m:\n\u001b[0;32m      4\u001b[0m     \u001b[39mfor\u001b[39;00m vacancy \u001b[39min\u001b[39;00m vacancies[i:i\u001b[39m+\u001b[39m\u001b[39m40\u001b[39m]:\n\u001b[1;32m----> 5\u001b[0m         vacancy[\u001b[39m'\u001b[39m\u001b[39mcharakter\u001b[39m\u001b[39m'\u001b[39m]\u001b[39m=\u001b[39mlist_[j]\n\u001b[0;32m      6\u001b[0m     \u001b[39mprint\u001b[39m(i)\n\u001b[0;32m      7\u001b[0m j\u001b[39m+\u001b[39m\u001b[39m=\u001b[39m\u001b[39m1\u001b[39m\n",
      "\u001b[1;31mIndexError\u001b[0m: list index out of range"
     ]
    }
   ],
   "source": [
    "j=0\n",
    "for i in range(0, 650, 40):\n",
    "    if i%40==0:\n",
    "        for vacancy in vacancies[i:i+40]:\n",
    "            vacancy['charakter']=list_[j]\n",
    "        print(i)\n",
    "    j+=1\n",
    "    print(j)"
   ]
  },
  {
   "cell_type": "code",
   "execution_count": 32,
   "metadata": {},
   "outputs": [
    {
     "data": {
      "text/plain": [
       "{'degree': 'Middelbare school, MBO, HBO',\n",
       " 'location': 'Goes',\n",
       " 'working_hour': '32 - 40',\n",
       " 'employment': 'Fulltime (startersfunctie), Parttime (overdag), Vakantiewerk, Tijdelijke fulltime baan',\n",
       " 'salary': 'Tussen 12,91 en 18,07 per uur',\n",
       " 'job_title': 'Fulltime pakketbezorger bij PostNL in Goes',\n",
       " 'p1': 'Ben jij op zoek naar een afwisselende fulltime baan? Voor PostNL in Goes zijn we op zoek naar enthousiaste pakketbezorgers!',\n",
       " 'p2': 'Als pakketbezorger start jouw dienst met het inladen van je bus bij het PostNL depot in Goes. Alle pakketten leg je op volgorde in je bus, zodat je overzicht hebt tijdens je route. Als je klaar bent met inladen ga je de weg op, waar je iedereen blij maakt met hun nieuwste aankopen.',\n",
       " 'p3': 'Zodra je je laatste pakketje hebt bezorgd, ga je terug naar het depot in Goes. Niet iedereen is thuis geweest die dag en er zijn ook wat pakketten die teruggebracht zullen worden naar het depot. Nadat je deze hebt ingeleverd en alle administratie gecontroleerd en helemaal in orde is, zit je dag er weer op!',\n",
       " 'p4': 'Werkdagen en werktijden',\n",
       " 'p5': 'De dagen zullende ene week van maandag t/m vrijdag zijn en de andere week dinsdag t/m zaterdag. Dit wordt dan ook gerouleerd. De ritten bij PostNL starten tussen 07:00 uur en 11:00 uur en eindigen 8 uur later. Mocht je niet alle dagen kunnen zijn er ook mogelijkheden om parttime of alleen op de zaterdag aan de slag te gaan. Aarzel niet om te solliciteren!',\n",
       " 'p6': '',\n",
       " 'p7': \"Ben jij de perfecte kandidaat voor deze vacature en voldoe je aan de eisen? Klik dan op de knop 'Solliciteer direct!' en we nemen zo snel mogelijk contact met je op!\",\n",
       " 'p8': '',\n",
       " 'p9': 'Goes | Logistieke vacatures | Koerier vacatures | Vacatures pakketbezorger | Fulltime (startersfunctie) | Parttime (overdag) | Vakantiewerk | Tijdelijke fulltime baan | Middelbare school | MBO | HBO',\n",
       " 'id': 639,\n",
       " 'charakter': 'Driver (Di)'}"
      ]
     },
     "execution_count": 32,
     "metadata": {},
     "output_type": "execute_result"
    }
   ],
   "source": [
    "vacancies[639]"
   ]
  },
  {
   "cell_type": "code",
   "execution_count": null,
   "metadata": {},
   "outputs": [],
   "source": [
    "with open('data_for_test.json', 'w') as output_file:\n",
    "    json.dump(vacancies[:640], output_file, indent=4)"
   ]
  },
  {
   "cell_type": "code",
   "execution_count": 24,
   "metadata": {},
   "outputs": [],
   "source": [
    "for i in vacancies[400:440]:\n",
    "    i['character']=\"Stabilizer (SC)\"\n"
   ]
  },
  {
   "cell_type": "code",
   "execution_count": 13,
   "metadata": {},
   "outputs": [
    {
     "data": {
      "text/plain": [
       "{'degree': 'Middelbare school',\n",
       " 'location': 'Noordwijk',\n",
       " 'working_hour': '24 - 38',\n",
       " 'employment': 'Fulltime (startersfunctie), Fulltime (ervaren)',\n",
       " 'salary': 'Tussen 2.000 en 2.300 Per maand',\n",
       " 'job_title': 'Parttime / fulltime cateringmedewerker in Noordwijk',\n",
       " 'p1': 'Wel eens op het strand van Noordwijk geweest? Dit is je kans om er te werken. Start als parttime / fulltime cateringmedewerker in Noordwijk!',\n",
       " 'p2': 'Dit hotel bevindt zich gelijk aan de strandopgang bij Noordwijk aan Zee. Vanuit de voordeur loop je zo het strand op! Daarnaast is dit hotel niet klein, het heeft namelijk 20 vergaderzalen en 100 hotelkamers. Door de weeks komen vooral zakelijke groepen op bezoek en in het weekend of vakanties zijn de toeristen te vinden in het hotel. Vanuit het hotel kijk je naar het strand en de kabbelende golven. Door deze ligging kan en mag je zeker even in de pauze uitwaaien op het strand.',\n",
       " 'p3': 'Wat kan jij verwachten?',\n",
       " 'p4': 'Als parttime / fulltime cateringmedewerker in Noordwijk ben jij aanspreekpunt voor de gasten en heet jij hen welkom in het restaurant. Het is daarom erg prettig als je naast Nederlands ook Engels en/of Duits spreekt.',\n",
       " 'p5': \"Daarnaast maak jij het verblijf van de gasten natuurlijk zo aangenaam mogelijk! Jij mag daar natuurlijk je eigen draai aangeven. Veel vrijheid en afwisseling in je werk dus! Ook werk je samen in een team. Met z'n allen zorg je er voor dat de ontbijt- en lunchbuffetten goed en georganiseerd verlopen. Hiervoor zorgen jullie dat er voldoende glaswerk en servies is. Helaas moet dit natuurlijk uiteindelijk opgeruimd worden... Maar dit gebeurt ook in teamverband.\",\n",
       " 'p6': \"Afwisselend met je collega's draai je ook bardiensten in ons restaurant.\",\n",
       " 'p7': \"Werktijden: 08:00 's ochtends tot 01:00 's nachts.\",\n",
       " 'p8': 'Dit is wat een toekomstige collega\\'s zegt over het huidige team: \"Werken voelt als thuiskomen. Ik werk met ontzettend leuke mensen, zowel collega’s als gasten. Het voelt als één grote familie en we doen het met z’n allen.\"\\xa0Waar wacht je dus nog op? Solliciteer direct!',\n",
       " 'p9': '',\n",
       " 'id': 39,\n",
       " 'character': 'Counselor (Si)'}"
      ]
     },
     "execution_count": 13,
     "metadata": {},
     "output_type": "execute_result"
    }
   ],
   "source": [
    "- Cautious\n",
    "- Precise\n",
    "- Analytical\n",
    "- Deliberate\n",
    "- Questioning\n",
    "- Formal\n",
    "- Competitive\n",
    "- Demanding\n",
    "- Determined\n",
    "- Strong-willed\n",
    "- Purposeful\n",
    "- Caring\n",
    "- Encouring\n",
    "- Sharing\n",
    "- Patient\n",
    "- Relaxed \n",
    "- Sociable\n",
    "- Dynamic\n",
    "- Demonstrative\n",
    "- Enthousiastic\n",
    "- Persuasive\n"
   ]
  },
  {
   "cell_type": "code",
   "execution_count": 33,
   "metadata": {},
   "outputs": [],
   "source": [
    "str_=\"\"\"\n",
    "- Voorzichtig\n",
    "- Nauwkeurig\n",
    "- Analytisch\n",
    "- Gedetailleerd\n",
    "- Objectief\n",
    "- Wilskrachtig\n",
    "- Doelbewust\n",
    "- Veeleisend\n",
    "- Vastberaden\n",
    "- Prestatiegericht\n",
    "- Zorgzaam\n",
    "- Relatiegericht\n",
    "- Harmonieus\n",
    "- Ontspannen\n",
    "- Geduldig\n",
    "- Dynamisch\n",
    "- Enthousiast\n",
    "- Overtuigend\n",
    "- Optimistisch\n",
    "- Expressief\n",
    "\"\"\""
   ]
  },
  {
   "cell_type": "code",
   "execution_count": 34,
   "metadata": {},
   "outputs": [],
   "source": [
    "list_=str_.replace(\"- \", \"\").split(\"\\n\")"
   ]
  },
  {
   "cell_type": "code",
   "execution_count": 10,
   "metadata": {},
   "outputs": [],
   "source": [
    "import json\n",
    "with open('data_for_test.json', 'r') as file:\n",
    "    vacancies = json.load(file)"
   ]
  },
  {
   "cell_type": "code",
   "execution_count": 40,
   "metadata": {},
   "outputs": [],
   "source": [
    "final_list=[]"
   ]
  },
  {
   "cell_type": "code",
   "execution_count": 14,
   "metadata": {},
   "outputs": [
    {
     "data": {
      "text/plain": [
       "dict_keys(['degree', 'location', 'working_hour', 'employment', 'salary', 'job_title', 'p1', 'p2', 'p3', 'p4', 'p5', 'p6', 'p7', 'p8', 'p9', 'id', 'character', 'charakter'])"
      ]
     },
     "execution_count": 14,
     "metadata": {},
     "output_type": "execute_result"
    }
   ],
   "source": [
    "vacancy.keys()"
   ]
  },
  {
   "cell_type": "code",
   "execution_count": 35,
   "metadata": {},
   "outputs": [
    {
     "data": {
      "text/plain": [
       "['',\n",
       " 'Voorzichtig',\n",
       " 'Nauwkeurig',\n",
       " 'Analytisch',\n",
       " 'Gedetailleerd',\n",
       " 'Objectief',\n",
       " 'Wilskrachtig',\n",
       " 'Doelbewust',\n",
       " 'Veeleisend',\n",
       " 'Vastberaden',\n",
       " 'Prestatiegericht',\n",
       " 'Zorgzaam',\n",
       " 'Relatiegericht',\n",
       " 'Harmonieus',\n",
       " 'Ontspannen',\n",
       " 'Geduldig',\n",
       " 'Dynamisch',\n",
       " 'Enthousiast',\n",
       " 'Overtuigend',\n",
       " 'Optimistisch',\n",
       " 'Expressief',\n",
       " '']"
      ]
     },
     "execution_count": 35,
     "metadata": {},
     "output_type": "execute_result"
    }
   ],
   "source": [
    "list_"
   ]
  },
  {
   "cell_type": "code",
   "execution_count": 15,
   "metadata": {},
   "outputs": [],
   "source": [
    "keys=['job_title', 'p1', 'p2', 'p3', 'p4', 'p5', 'p6', 'p7', 'p8', 'p9']"
   ]
  },
  {
   "cell_type": "code",
   "execution_count": 41,
   "metadata": {},
   "outputs": [
    {
     "name": "stdout",
     "output_type": "stream",
     "text": [
      "color is Nauwkeurig, id of the vacancy is 77\n",
      "color is Nauwkeurig, id of the vacancy is 621\n",
      "color is Enthousiast, id of the vacancy is 88\n",
      "color is Enthousiast, id of the vacancy is 116\n",
      "color is Enthousiast, id of the vacancy is 250\n",
      "color is Enthousiast, id of the vacancy is 252\n",
      "color is Enthousiast, id of the vacancy is 255\n",
      "color is Enthousiast, id of the vacancy is 255\n",
      "color is Enthousiast, id of the vacancy is 260\n",
      "color is Enthousiast, id of the vacancy is 506\n",
      "color is Enthousiast, id of the vacancy is 523\n",
      "color is Enthousiast, id of the vacancy is 573\n"
     ]
    }
   ],
   "source": [
    "for color in list_[1:-1]:\n",
    "    for vacancy in vacancies:\n",
    "        for key in keys:\n",
    "            if color in vacancy[key]:\n",
    "                print(f\"color is {color}, id of the vacancy is {vacancy['id']}\")\n",
    "                if vacancy not in final_list:\n",
    "                    final_list.append(vacancy)"
   ]
  },
  {
   "cell_type": "code",
   "execution_count": 42,
   "metadata": {},
   "outputs": [
    {
     "data": {
      "text/plain": [
       "11"
      ]
     },
     "execution_count": 42,
     "metadata": {},
     "output_type": "execute_result"
    }
   ],
   "source": [
    "len(final_list)"
   ]
  }
 ],
 "metadata": {
  "kernelspec": {
   "display_name": "venv",
   "language": "python",
   "name": "python3"
  },
  "language_info": {
   "codemirror_mode": {
    "name": "ipython",
    "version": 3
   },
   "file_extension": ".py",
   "mimetype": "text/x-python",
   "name": "python",
   "nbconvert_exporter": "python",
   "pygments_lexer": "ipython3",
   "version": "3.8.8"
  },
  "orig_nbformat": 4
 },
 "nbformat": 4,
 "nbformat_minor": 2
}
