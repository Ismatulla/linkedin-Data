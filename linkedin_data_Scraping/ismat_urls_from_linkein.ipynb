{
 "cells": [
  {
   "cell_type": "code",
   "execution_count": 11,
   "metadata": {},
   "outputs": [
    {
     "name": "stderr",
     "output_type": "stream",
     "text": [
      "C:\\Users\\dell\\AppData\\Local\\Temp\\ipykernel_3520\\4228896838.py:10: DeprecationWarning: executable_path has been deprecated, please pass in a Service object\n",
      "  driver = webdriver.Chrome(options=options,executable_path='C:/Users/dell/OneDrive/Desktop/chromedriver-win64/chromedriver.exe')\n"
     ]
    },
    {
     "name": "stdout",
     "output_type": "stream",
     "text": [
      "here\n"
     ]
    },
    {
     "ename": "EmptyDataError",
     "evalue": "No columns to parse from file",
     "output_type": "error",
     "traceback": [
      "\u001b[1;31m---------------------------------------------------------------------------\u001b[0m",
      "\u001b[1;31mEmptyDataError\u001b[0m                            Traceback (most recent call last)",
      "Cell \u001b[1;32mIn[11], line 66\u001b[0m\n\u001b[0;32m     62\u001b[0m     n \u001b[39m-\u001b[39m\u001b[39m=\u001b[39m \u001b[39m1\u001b[39m\n\u001b[0;32m     63\u001b[0m df \u001b[39m=\u001b[39m pd\u001b[39m.\u001b[39mDataFrame({\n\u001b[0;32m     64\u001b[0m     \u001b[39m\"\u001b[39m\u001b[39mlinks\u001b[39m\u001b[39m\"\u001b[39m:links\n\u001b[0;32m     65\u001b[0m })\n\u001b[1;32m---> 66\u001b[0m df1\u001b[39m=\u001b[39mpd\u001b[39m.\u001b[39;49mread_csv(\u001b[39m'\u001b[39;49m\u001b[39mdatas/Ismatulla_links/data_Ismatulla4.csv\u001b[39;49m\u001b[39m'\u001b[39;49m)\n\u001b[0;32m     67\u001b[0m df_sum\u001b[39m=\u001b[39mpd\u001b[39m.\u001b[39mconcat([df1, df], axis\u001b[39m=\u001b[39m\u001b[39m0\u001b[39m, ignore_index\u001b[39m=\u001b[39m\u001b[39mTrue\u001b[39;00m)\n\u001b[0;32m     68\u001b[0m df_sum \u001b[39m=\u001b[39m df_sum\u001b[39m.\u001b[39mdrop_duplicates()\n",
      "File \u001b[1;32mc:\\Users\\dell\\OneDrive\\Desktop\\selenium\\Bots_using_selenium\\venv\\lib\\site-packages\\pandas\\util\\_decorators.py:211\u001b[0m, in \u001b[0;36mdeprecate_kwarg.<locals>._deprecate_kwarg.<locals>.wrapper\u001b[1;34m(*args, **kwargs)\u001b[0m\n\u001b[0;32m    209\u001b[0m     \u001b[39melse\u001b[39;00m:\n\u001b[0;32m    210\u001b[0m         kwargs[new_arg_name] \u001b[39m=\u001b[39m new_arg_value\n\u001b[1;32m--> 211\u001b[0m \u001b[39mreturn\u001b[39;00m func(\u001b[39m*\u001b[39margs, \u001b[39m*\u001b[39m\u001b[39m*\u001b[39mkwargs)\n",
      "File \u001b[1;32mc:\\Users\\dell\\OneDrive\\Desktop\\selenium\\Bots_using_selenium\\venv\\lib\\site-packages\\pandas\\util\\_decorators.py:331\u001b[0m, in \u001b[0;36mdeprecate_nonkeyword_arguments.<locals>.decorate.<locals>.wrapper\u001b[1;34m(*args, **kwargs)\u001b[0m\n\u001b[0;32m    325\u001b[0m \u001b[39mif\u001b[39;00m \u001b[39mlen\u001b[39m(args) \u001b[39m>\u001b[39m num_allow_args:\n\u001b[0;32m    326\u001b[0m     warnings\u001b[39m.\u001b[39mwarn(\n\u001b[0;32m    327\u001b[0m         msg\u001b[39m.\u001b[39mformat(arguments\u001b[39m=\u001b[39m_format_argument_list(allow_args)),\n\u001b[0;32m    328\u001b[0m         \u001b[39mFutureWarning\u001b[39;00m,\n\u001b[0;32m    329\u001b[0m         stacklevel\u001b[39m=\u001b[39mfind_stack_level(),\n\u001b[0;32m    330\u001b[0m     )\n\u001b[1;32m--> 331\u001b[0m \u001b[39mreturn\u001b[39;00m func(\u001b[39m*\u001b[39margs, \u001b[39m*\u001b[39m\u001b[39m*\u001b[39mkwargs)\n",
      "File \u001b[1;32mc:\\Users\\dell\\OneDrive\\Desktop\\selenium\\Bots_using_selenium\\venv\\lib\\site-packages\\pandas\\io\\parsers\\readers.py:950\u001b[0m, in \u001b[0;36mread_csv\u001b[1;34m(filepath_or_buffer, sep, delimiter, header, names, index_col, usecols, squeeze, prefix, mangle_dupe_cols, dtype, engine, converters, true_values, false_values, skipinitialspace, skiprows, skipfooter, nrows, na_values, keep_default_na, na_filter, verbose, skip_blank_lines, parse_dates, infer_datetime_format, keep_date_col, date_parser, dayfirst, cache_dates, iterator, chunksize, compression, thousands, decimal, lineterminator, quotechar, quoting, doublequote, escapechar, comment, encoding, encoding_errors, dialect, error_bad_lines, warn_bad_lines, on_bad_lines, delim_whitespace, low_memory, memory_map, float_precision, storage_options)\u001b[0m\n\u001b[0;32m    935\u001b[0m kwds_defaults \u001b[39m=\u001b[39m _refine_defaults_read(\n\u001b[0;32m    936\u001b[0m     dialect,\n\u001b[0;32m    937\u001b[0m     delimiter,\n\u001b[1;32m   (...)\u001b[0m\n\u001b[0;32m    946\u001b[0m     defaults\u001b[39m=\u001b[39m{\u001b[39m\"\u001b[39m\u001b[39mdelimiter\u001b[39m\u001b[39m\"\u001b[39m: \u001b[39m\"\u001b[39m\u001b[39m,\u001b[39m\u001b[39m\"\u001b[39m},\n\u001b[0;32m    947\u001b[0m )\n\u001b[0;32m    948\u001b[0m kwds\u001b[39m.\u001b[39mupdate(kwds_defaults)\n\u001b[1;32m--> 950\u001b[0m \u001b[39mreturn\u001b[39;00m _read(filepath_or_buffer, kwds)\n",
      "File \u001b[1;32mc:\\Users\\dell\\OneDrive\\Desktop\\selenium\\Bots_using_selenium\\venv\\lib\\site-packages\\pandas\\io\\parsers\\readers.py:605\u001b[0m, in \u001b[0;36m_read\u001b[1;34m(filepath_or_buffer, kwds)\u001b[0m\n\u001b[0;32m    602\u001b[0m _validate_names(kwds\u001b[39m.\u001b[39mget(\u001b[39m\"\u001b[39m\u001b[39mnames\u001b[39m\u001b[39m\"\u001b[39m, \u001b[39mNone\u001b[39;00m))\n\u001b[0;32m    604\u001b[0m \u001b[39m# Create the parser.\u001b[39;00m\n\u001b[1;32m--> 605\u001b[0m parser \u001b[39m=\u001b[39m TextFileReader(filepath_or_buffer, \u001b[39m*\u001b[39m\u001b[39m*\u001b[39mkwds)\n\u001b[0;32m    607\u001b[0m \u001b[39mif\u001b[39;00m chunksize \u001b[39mor\u001b[39;00m iterator:\n\u001b[0;32m    608\u001b[0m     \u001b[39mreturn\u001b[39;00m parser\n",
      "File \u001b[1;32mc:\\Users\\dell\\OneDrive\\Desktop\\selenium\\Bots_using_selenium\\venv\\lib\\site-packages\\pandas\\io\\parsers\\readers.py:1442\u001b[0m, in \u001b[0;36mTextFileReader.__init__\u001b[1;34m(self, f, engine, **kwds)\u001b[0m\n\u001b[0;32m   1439\u001b[0m     \u001b[39mself\u001b[39m\u001b[39m.\u001b[39moptions[\u001b[39m\"\u001b[39m\u001b[39mhas_index_names\u001b[39m\u001b[39m\"\u001b[39m] \u001b[39m=\u001b[39m kwds[\u001b[39m\"\u001b[39m\u001b[39mhas_index_names\u001b[39m\u001b[39m\"\u001b[39m]\n\u001b[0;32m   1441\u001b[0m \u001b[39mself\u001b[39m\u001b[39m.\u001b[39mhandles: IOHandles \u001b[39m|\u001b[39m \u001b[39mNone\u001b[39;00m \u001b[39m=\u001b[39m \u001b[39mNone\u001b[39;00m\n\u001b[1;32m-> 1442\u001b[0m \u001b[39mself\u001b[39m\u001b[39m.\u001b[39m_engine \u001b[39m=\u001b[39m \u001b[39mself\u001b[39;49m\u001b[39m.\u001b[39;49m_make_engine(f, \u001b[39mself\u001b[39;49m\u001b[39m.\u001b[39;49mengine)\n",
      "File \u001b[1;32mc:\\Users\\dell\\OneDrive\\Desktop\\selenium\\Bots_using_selenium\\venv\\lib\\site-packages\\pandas\\io\\parsers\\readers.py:1753\u001b[0m, in \u001b[0;36mTextFileReader._make_engine\u001b[1;34m(self, f, engine)\u001b[0m\n\u001b[0;32m   1750\u001b[0m     \u001b[39mraise\u001b[39;00m \u001b[39mValueError\u001b[39;00m(msg)\n\u001b[0;32m   1752\u001b[0m \u001b[39mtry\u001b[39;00m:\n\u001b[1;32m-> 1753\u001b[0m     \u001b[39mreturn\u001b[39;00m mapping[engine](f, \u001b[39m*\u001b[39m\u001b[39m*\u001b[39m\u001b[39mself\u001b[39m\u001b[39m.\u001b[39moptions)\n\u001b[0;32m   1754\u001b[0m \u001b[39mexcept\u001b[39;00m \u001b[39mException\u001b[39;00m:\n\u001b[0;32m   1755\u001b[0m     \u001b[39mif\u001b[39;00m \u001b[39mself\u001b[39m\u001b[39m.\u001b[39mhandles \u001b[39mis\u001b[39;00m \u001b[39mnot\u001b[39;00m \u001b[39mNone\u001b[39;00m:\n",
      "File \u001b[1;32mc:\\Users\\dell\\OneDrive\\Desktop\\selenium\\Bots_using_selenium\\venv\\lib\\site-packages\\pandas\\io\\parsers\\c_parser_wrapper.py:79\u001b[0m, in \u001b[0;36mCParserWrapper.__init__\u001b[1;34m(self, src, **kwds)\u001b[0m\n\u001b[0;32m     76\u001b[0m     kwds\u001b[39m.\u001b[39mpop(key, \u001b[39mNone\u001b[39;00m)\n\u001b[0;32m     78\u001b[0m kwds[\u001b[39m\"\u001b[39m\u001b[39mdtype\u001b[39m\u001b[39m\"\u001b[39m] \u001b[39m=\u001b[39m ensure_dtype_objs(kwds\u001b[39m.\u001b[39mget(\u001b[39m\"\u001b[39m\u001b[39mdtype\u001b[39m\u001b[39m\"\u001b[39m, \u001b[39mNone\u001b[39;00m))\n\u001b[1;32m---> 79\u001b[0m \u001b[39mself\u001b[39m\u001b[39m.\u001b[39m_reader \u001b[39m=\u001b[39m parsers\u001b[39m.\u001b[39mTextReader(src, \u001b[39m*\u001b[39m\u001b[39m*\u001b[39mkwds)\n\u001b[0;32m     81\u001b[0m \u001b[39mself\u001b[39m\u001b[39m.\u001b[39munnamed_cols \u001b[39m=\u001b[39m \u001b[39mself\u001b[39m\u001b[39m.\u001b[39m_reader\u001b[39m.\u001b[39munnamed_cols\n\u001b[0;32m     83\u001b[0m \u001b[39m# error: Cannot determine type of 'names'\u001b[39;00m\n",
      "File \u001b[1;32mc:\\Users\\dell\\OneDrive\\Desktop\\selenium\\Bots_using_selenium\\venv\\lib\\site-packages\\pandas\\_libs\\parsers.pyx:554\u001b[0m, in \u001b[0;36mpandas._libs.parsers.TextReader.__cinit__\u001b[1;34m()\u001b[0m\n",
      "\u001b[1;31mEmptyDataError\u001b[0m: No columns to parse from file"
     ]
    }
   ],
   "source": [
    "from selenium.webdriver.common.by import By\n",
    "from selenium.webdriver.chrome.options import Options\n",
    "from selenium import webdriver\n",
    "import time\n",
    "import pandas as pd\n",
    "from bs4 import BeautifulSoup\n",
    "options = Options()\n",
    "options.add_argument(\"user-data-dir=C:/Users/dell/AppData/Local/Google/Chrome/User Data/Profile 1\")\n",
    "                                                        #C:\\Users\\fayyo\\Downloads\\chromedriver-win32.zip\\chromedriver-win32\n",
    "driver = webdriver.Chrome(options=options,executable_path='C:/Users/dell/OneDrive/Desktop/chromedriver-win64/chromedriver.exe')\n",
    "# country names\n",
    "list_items = [\n",
    "    \"New Plymouth\",\n",
    "    \"Whangarei\",\n",
    "    \"Invercargill\",\n",
    "    \"Whanganui\",\n",
    "    \"Gisborne\",\n",
    "    \"Timaru\",\n",
    "    \"Blenheim\",\n",
    "    \"Queenstown\",\n",
    "    \"Taupo\",\n",
    "    \"Greymouth\",\n",
    "    \"Masterton\",\n",
    "    \"Ashburton\",\n",
    "    \"Westport\",\n",
    "    \"Oamaru\",\n",
    "]\n",
    "\n",
    "for item  in list_items[:]:\n",
    "    links = [] # save links here\n",
    "    for study in ['math', 'physics']:\n",
    "        driver.get(f'https://www.google.com/search?q=site:nl.linkedin.com/in/+AND+%22{item}+AND+%22{study}')\n",
    "        time.sleep(5) # to make slower \n",
    "        n=30\n",
    "        while n > 0:\n",
    "            time.sleep(5)\n",
    "            print(\"here\")\n",
    "            initialScroll = 0\n",
    "            finalScroll = 1000\n",
    "            start = time.time()\n",
    "            while True:\n",
    "                driver.execute_script(f\"window.scrollTo({initialScroll}, {finalScroll})\")\n",
    "                initialScroll = finalScroll\n",
    "                finalScroll += 1000\n",
    "                time.sleep(3)\n",
    "                end = time.time()\n",
    "                if round(end - start) > 25:\n",
    "                    break\n",
    "            src = driver.page_source\n",
    "            soup = BeautifulSoup(src, 'lxml')\n",
    "            linksed_links=soup.find_all(\"a\", {\"jsname\":\"UWckNb\"})\n",
    "            for i in linksed_links:\n",
    "                links.append(i.get('href').split(\"?\")[0])\n",
    "            try:\n",
    "                next_button = driver.find_element(By.XPATH, '//*[@id=\"pnnext\"]') # clicking next button \n",
    "                next_button.click()\n",
    "            except Exception as e:\n",
    "                driver.get(f'https://www.google.com/search?q=site:nl.linkedin.com/in/+AND+%22{item}+AND+%22{study}')\n",
    "                n=1\n",
    "                # print(\"\")\n",
    "            # print(f'{n} pages left!')\n",
    "            n -= 1\n",
    "        df = pd.DataFrame({\n",
    "            \"links\":links\n",
    "        })\n",
    "        df1=pd.read_csv('datas/Ismatulla_links/data_Ismatulla4.csv')\n",
    "        df_sum=pd.concat([df1, df], axis=0, ignore_index=True)\n",
    "        df_sum = df_sum.drop_duplicates()\n",
    "        df_sum.to_csv(f'datas/Ismatulla_links/data_Ismatulla4.csv', index=False)\n",
    "        print(f'I am done ---> {item}')"
   ]
  },
  {
   "cell_type": "code",
   "execution_count": 12,
   "metadata": {},
   "outputs": [
    {
     "ename": "NameError",
     "evalue": "name 'clean_url' is not defined",
     "output_type": "error",
     "traceback": [
      "\u001b[1;31m---------------------------------------------------------------------------\u001b[0m",
      "\u001b[1;31mNameError\u001b[0m                                 Traceback (most recent call last)",
      "Cell \u001b[1;32mIn[12], line 1\u001b[0m\n\u001b[1;32m----> 1\u001b[0m clean_url\n",
      "\u001b[1;31mNameError\u001b[0m: name 'clean_url' is not defined"
     ]
    }
   ],
   "source": [
    "clean_url"
   ]
  },
  {
   "cell_type": "code",
   "execution_count": 6,
   "metadata": {},
   "outputs": [
    {
     "name": "stdout",
     "output_type": "stream",
     "text": [
      "I am done ---> Algeria\n"
     ]
    }
   ],
   "source": [
    "df = pd.DataFrame({\n",
    "    \"links\":links\n",
    "})\n",
    "df1=pd.read_csv('datas/Ismatulla_links/data_Ismatulla.csv')\n",
    "df_sum=pd.concat([df1, df], axis=0, ignore_index=True)\n",
    "df_sum = df_sum.drop_duplicates()\n",
    "df_sum.to_csv(f'datas/Ismatulla_links/data_Ismatulla.csv', index=False)\n",
    "print(f'I am done ---> {item}')"
   ]
  },
  {
   "cell_type": "code",
   "execution_count": 2,
   "metadata": {},
   "outputs": [
    {
     "name": "stderr",
     "output_type": "stream",
     "text": [
      "C:\\Users\\fayyo\\AppData\\Local\\Temp\\ipykernel_7384\\4203283928.py:9: DeprecationWarning: executable_path has been deprecated, please pass in a Service object\n",
      "  driver = webdriver.Chrome(options=options,executable_path='C:/Users/dell/OneDrive/Desktop/chromedriver-win64/chromedriver.exe')\n",
      "Incompatible release of chromedriver (version 111.0.5563.64) detected in PATH: c:\\Users\\GitHub\\Bots_using_selenium\\linkedin_data_Scraping\\chromedriver.exe\n"
     ]
    },
    {
     "ename": "SessionNotCreatedException",
     "evalue": "Message: session not created: This version of ChromeDriver only supports Chrome version 114\nCurrent browser version is 116.0.5845.97 with binary path C:\\Program Files\\Google\\Chrome\\Application\\chrome.exe\nStacktrace:\nBacktrace:\n\tGetHandleVerifier [0x00FAA813+48355]\n\t(No symbol) [0x00F3C4B1]\n\t(No symbol) [0x00E45358]\n\t(No symbol) [0x00E661AC]\n\t(No symbol) [0x00E61EF3]\n\t(No symbol) [0x00E60579]\n\t(No symbol) [0x00E90C55]\n\t(No symbol) [0x00E9093C]\n\t(No symbol) [0x00E8A536]\n\t(No symbol) [0x00E682DC]\n\t(No symbol) [0x00E693DD]\n\tGetHandleVerifier [0x0120AABD+2539405]\n\tGetHandleVerifier [0x0124A78F+2800735]\n\tGetHandleVerifier [0x0124456C+2775612]\n\tGetHandleVerifier [0x010351E0+616112]\n\t(No symbol) [0x00F45F8C]\n\t(No symbol) [0x00F42328]\n\t(No symbol) [0x00F4240B]\n\t(No symbol) [0x00F34FF7]\n\tBaseThreadInitThunk [0x768800C9+25]\n\tRtlGetAppContainerNamedObjectPath [0x77947B1E+286]\n\tRtlGetAppContainerNamedObjectPath [0x77947AEE+238]\n",
     "output_type": "error",
     "traceback": [
      "\u001b[1;31m---------------------------------------------------------------------------\u001b[0m",
      "\u001b[1;31mSessionNotCreatedException\u001b[0m                Traceback (most recent call last)",
      "Cell \u001b[1;32mIn[2], line 9\u001b[0m\n\u001b[0;32m      7\u001b[0m options \u001b[39m=\u001b[39m Options()\n\u001b[0;32m      8\u001b[0m options\u001b[39m.\u001b[39madd_argument(\u001b[39m\"\u001b[39m\u001b[39muser-data-dir=C:/Users/dell/AppData/Local/Google/Chrome/User Data/Profile 18\u001b[39m\u001b[39m\"\u001b[39m) \n\u001b[1;32m----> 9\u001b[0m driver \u001b[39m=\u001b[39m webdriver\u001b[39m.\u001b[39;49mChrome(options\u001b[39m=\u001b[39;49moptions,executable_path\u001b[39m=\u001b[39;49m\u001b[39m'\u001b[39;49m\u001b[39mC:/Users/dell/OneDrive/Desktop/chromedriver-win64/chromedriver.exe\u001b[39;49m\u001b[39m'\u001b[39;49m)  \n\u001b[0;32m     10\u001b[0m \u001b[39m# options.add_argument(\"user-data-dir=C:\\\\Users\\\\Username\\\\AppData\\\\Local\\\\Google\\\\Chrome\\\\User Data\")\u001b[39;00m\n\u001b[0;32m     11\u001b[0m \u001b[39m# driver = webdriver.Chrome(options=options)\u001b[39;00m\n\u001b[0;32m     12\u001b[0m \u001b[39m# 'Mathematics and Bachelor words are used as a default, it is changeble\u001b[39;00m\n\u001b[0;32m     13\u001b[0m \u001b[39mfor\u001b[39;00m j \u001b[39min\u001b[39;00m \u001b[39mrange\u001b[39m(\u001b[39m417\u001b[39m,\u001b[39m418\u001b[39m):\n",
      "File \u001b[1;32mc:\\Users\\GitHub\\Bots_using_selenium\\venv\\lib\\site-packages\\selenium\\webdriver\\chrome\\webdriver.py:84\u001b[0m, in \u001b[0;36mWebDriver.__init__\u001b[1;34m(self, executable_path, port, options, service_args, desired_capabilities, service_log_path, chrome_options, service, keep_alive)\u001b[0m\n\u001b[0;32m     81\u001b[0m     service \u001b[39m=\u001b[39m Service(executable_path, port, service_args, service_log_path)\n\u001b[0;32m     82\u001b[0m service\u001b[39m.\u001b[39mpath \u001b[39m=\u001b[39m DriverFinder\u001b[39m.\u001b[39mget_path(service, options)\n\u001b[1;32m---> 84\u001b[0m \u001b[39msuper\u001b[39;49m()\u001b[39m.\u001b[39;49m\u001b[39m__init__\u001b[39;49m(\n\u001b[0;32m     85\u001b[0m     DesiredCapabilities\u001b[39m.\u001b[39;49mCHROME[\u001b[39m\"\u001b[39;49m\u001b[39mbrowserName\u001b[39;49m\u001b[39m\"\u001b[39;49m],\n\u001b[0;32m     86\u001b[0m     \u001b[39m\"\u001b[39;49m\u001b[39mgoog\u001b[39;49m\u001b[39m\"\u001b[39;49m,\n\u001b[0;32m     87\u001b[0m     port,\n\u001b[0;32m     88\u001b[0m     options,\n\u001b[0;32m     89\u001b[0m     service_args,\n\u001b[0;32m     90\u001b[0m     desired_capabilities,\n\u001b[0;32m     91\u001b[0m     service_log_path,\n\u001b[0;32m     92\u001b[0m     service,\n\u001b[0;32m     93\u001b[0m     keep_alive,\n\u001b[0;32m     94\u001b[0m )\n",
      "File \u001b[1;32mc:\\Users\\GitHub\\Bots_using_selenium\\venv\\lib\\site-packages\\selenium\\webdriver\\chromium\\webdriver.py:104\u001b[0m, in \u001b[0;36mChromiumDriver.__init__\u001b[1;34m(self, browser_name, vendor_prefix, port, options, service_args, desired_capabilities, service_log_path, service, keep_alive)\u001b[0m\n\u001b[0;32m    101\u001b[0m \u001b[39mself\u001b[39m\u001b[39m.\u001b[39mservice\u001b[39m.\u001b[39mstart()\n\u001b[0;32m    103\u001b[0m \u001b[39mtry\u001b[39;00m:\n\u001b[1;32m--> 104\u001b[0m     \u001b[39msuper\u001b[39;49m()\u001b[39m.\u001b[39;49m\u001b[39m__init__\u001b[39;49m(\n\u001b[0;32m    105\u001b[0m         command_executor\u001b[39m=\u001b[39;49mChromiumRemoteConnection(\n\u001b[0;32m    106\u001b[0m             remote_server_addr\u001b[39m=\u001b[39;49m\u001b[39mself\u001b[39;49m\u001b[39m.\u001b[39;49mservice\u001b[39m.\u001b[39;49mservice_url,\n\u001b[0;32m    107\u001b[0m             browser_name\u001b[39m=\u001b[39;49mbrowser_name,\n\u001b[0;32m    108\u001b[0m             vendor_prefix\u001b[39m=\u001b[39;49mvendor_prefix,\n\u001b[0;32m    109\u001b[0m             keep_alive\u001b[39m=\u001b[39;49mkeep_alive,\n\u001b[0;32m    110\u001b[0m             ignore_proxy\u001b[39m=\u001b[39;49m_ignore_proxy,\n\u001b[0;32m    111\u001b[0m         ),\n\u001b[0;32m    112\u001b[0m         options\u001b[39m=\u001b[39;49moptions,\n\u001b[0;32m    113\u001b[0m     )\n\u001b[0;32m    114\u001b[0m \u001b[39mexcept\u001b[39;00m \u001b[39mException\u001b[39;00m:\n\u001b[0;32m    115\u001b[0m     \u001b[39mself\u001b[39m\u001b[39m.\u001b[39mquit()\n",
      "File \u001b[1;32mc:\\Users\\GitHub\\Bots_using_selenium\\venv\\lib\\site-packages\\selenium\\webdriver\\remote\\webdriver.py:286\u001b[0m, in \u001b[0;36mWebDriver.__init__\u001b[1;34m(self, command_executor, desired_capabilities, browser_profile, proxy, keep_alive, file_detector, options)\u001b[0m\n\u001b[0;32m    284\u001b[0m \u001b[39mself\u001b[39m\u001b[39m.\u001b[39m_authenticator_id \u001b[39m=\u001b[39m \u001b[39mNone\u001b[39;00m\n\u001b[0;32m    285\u001b[0m \u001b[39mself\u001b[39m\u001b[39m.\u001b[39mstart_client()\n\u001b[1;32m--> 286\u001b[0m \u001b[39mself\u001b[39;49m\u001b[39m.\u001b[39;49mstart_session(capabilities, browser_profile)\n",
      "File \u001b[1;32mc:\\Users\\GitHub\\Bots_using_selenium\\venv\\lib\\site-packages\\selenium\\webdriver\\remote\\webdriver.py:378\u001b[0m, in \u001b[0;36mWebDriver.start_session\u001b[1;34m(self, capabilities, browser_profile)\u001b[0m\n\u001b[0;32m    376\u001b[0m w3c_caps \u001b[39m=\u001b[39m _make_w3c_caps(capabilities)\n\u001b[0;32m    377\u001b[0m parameters \u001b[39m=\u001b[39m {\u001b[39m\"\u001b[39m\u001b[39mcapabilities\u001b[39m\u001b[39m\"\u001b[39m: w3c_caps}\n\u001b[1;32m--> 378\u001b[0m response \u001b[39m=\u001b[39m \u001b[39mself\u001b[39;49m\u001b[39m.\u001b[39;49mexecute(Command\u001b[39m.\u001b[39;49mNEW_SESSION, parameters)\n\u001b[0;32m    379\u001b[0m \u001b[39mif\u001b[39;00m \u001b[39m\"\u001b[39m\u001b[39msessionId\u001b[39m\u001b[39m\"\u001b[39m \u001b[39mnot\u001b[39;00m \u001b[39min\u001b[39;00m response:\n\u001b[0;32m    380\u001b[0m     response \u001b[39m=\u001b[39m response[\u001b[39m\"\u001b[39m\u001b[39mvalue\u001b[39m\u001b[39m\"\u001b[39m]\n",
      "File \u001b[1;32mc:\\Users\\GitHub\\Bots_using_selenium\\venv\\lib\\site-packages\\selenium\\webdriver\\remote\\webdriver.py:440\u001b[0m, in \u001b[0;36mWebDriver.execute\u001b[1;34m(self, driver_command, params)\u001b[0m\n\u001b[0;32m    438\u001b[0m response \u001b[39m=\u001b[39m \u001b[39mself\u001b[39m\u001b[39m.\u001b[39mcommand_executor\u001b[39m.\u001b[39mexecute(driver_command, params)\n\u001b[0;32m    439\u001b[0m \u001b[39mif\u001b[39;00m response:\n\u001b[1;32m--> 440\u001b[0m     \u001b[39mself\u001b[39;49m\u001b[39m.\u001b[39;49merror_handler\u001b[39m.\u001b[39;49mcheck_response(response)\n\u001b[0;32m    441\u001b[0m     response[\u001b[39m\"\u001b[39m\u001b[39mvalue\u001b[39m\u001b[39m\"\u001b[39m] \u001b[39m=\u001b[39m \u001b[39mself\u001b[39m\u001b[39m.\u001b[39m_unwrap_value(response\u001b[39m.\u001b[39mget(\u001b[39m\"\u001b[39m\u001b[39mvalue\u001b[39m\u001b[39m\"\u001b[39m, \u001b[39mNone\u001b[39;00m))\n\u001b[0;32m    442\u001b[0m     \u001b[39mreturn\u001b[39;00m response\n",
      "File \u001b[1;32mc:\\Users\\GitHub\\Bots_using_selenium\\venv\\lib\\site-packages\\selenium\\webdriver\\remote\\errorhandler.py:245\u001b[0m, in \u001b[0;36mErrorHandler.check_response\u001b[1;34m(self, response)\u001b[0m\n\u001b[0;32m    243\u001b[0m         alert_text \u001b[39m=\u001b[39m value[\u001b[39m\"\u001b[39m\u001b[39malert\u001b[39m\u001b[39m\"\u001b[39m]\u001b[39m.\u001b[39mget(\u001b[39m\"\u001b[39m\u001b[39mtext\u001b[39m\u001b[39m\"\u001b[39m)\n\u001b[0;32m    244\u001b[0m     \u001b[39mraise\u001b[39;00m exception_class(message, screen, stacktrace, alert_text)  \u001b[39m# type: ignore[call-arg]  # mypy is not smart enough here\u001b[39;00m\n\u001b[1;32m--> 245\u001b[0m \u001b[39mraise\u001b[39;00m exception_class(message, screen, stacktrace)\n",
      "\u001b[1;31mSessionNotCreatedException\u001b[0m: Message: session not created: This version of ChromeDriver only supports Chrome version 114\nCurrent browser version is 116.0.5845.97 with binary path C:\\Program Files\\Google\\Chrome\\Application\\chrome.exe\nStacktrace:\nBacktrace:\n\tGetHandleVerifier [0x00FAA813+48355]\n\t(No symbol) [0x00F3C4B1]\n\t(No symbol) [0x00E45358]\n\t(No symbol) [0x00E661AC]\n\t(No symbol) [0x00E61EF3]\n\t(No symbol) [0x00E60579]\n\t(No symbol) [0x00E90C55]\n\t(No symbol) [0x00E9093C]\n\t(No symbol) [0x00E8A536]\n\t(No symbol) [0x00E682DC]\n\t(No symbol) [0x00E693DD]\n\tGetHandleVerifier [0x0120AABD+2539405]\n\tGetHandleVerifier [0x0124A78F+2800735]\n\tGetHandleVerifier [0x0124456C+2775612]\n\tGetHandleVerifier [0x010351E0+616112]\n\t(No symbol) [0x00F45F8C]\n\t(No symbol) [0x00F42328]\n\t(No symbol) [0x00F4240B]\n\t(No symbol) [0x00F34FF7]\n\tBaseThreadInitThunk [0x768800C9+25]\n\tRtlGetAppContainerNamedObjectPath [0x77947B1E+286]\n\tRtlGetAppContainerNamedObjectPath [0x77947AEE+238]\n"
     ]
    }
   ],
   "source": [
    "from selenium.webdriver.common.by import By\n",
    "from selenium.webdriver.chrome.options import Options\n",
    "from selenium import webdriver\n",
    "import time\n",
    "import pandas as pd\n",
    "\n",
    "options = Options()\n",
    "options.add_argument(\"user-data-dir=C:/Users/dell/AppData/Local/Google/Chrome/User Data/Profile 18\") \n",
    "driver = webdriver.Chrome(options=options,executable_path='C:/Users/dell/OneDrive/Desktop/chromedriver-win64/chromedriver.exe')  \n",
    "# options.add_argument(\"user-data-dir=C:\\\\Users\\\\Username\\\\AppData\\\\Local\\\\Google\\\\Chrome\\\\User Data\")\n",
    "# driver = webdriver.Chrome(options=options)\n",
    "# 'Mathematics and Bachelor words are used as a default, it is changeble\n",
    "for j in range(417,418):\n",
    "    driver.get(f'https://www.google.com/search?q=site:nl.linkedin.com/in/ Eritrea')\n",
    "    time.sleep(10) # to make slower \n",
    "    # n is the number of pages\n",
    "    links = [] # save links here\n",
    "    n=30\n",
    "    while n > 0:\n",
    "        time.sleep(5)\n",
    "        for i in range(1, 11): # google uses paginator, every page has 10 urls\n",
    "            time.sleep(6)\n",
    "            try:    #/html/body/div[6]/div/div[13]/div/div[2]/div[2]/div/div/div[1]/div/div/div[1]/div/div/a\n",
    "                    #/html/body/div[6]/div/div[13]/div/div[2]/div[2]/div/div/div[4]/div/div/div[1]/div/div/a\n",
    "                    #/html/body/div[6]/div/div[13]/div/div[2]/div[2]/div/div/div[9]/div/div/div/div[1]/div/div/a\n",
    "                elems = driver.find_elements(By.XPATH, '/html/body/div[6]/div/div[12]/div/div[2]/div[2]/div/div/div['+str(i)+']/div/div/div[1]/div/div/a')\n",
    "                for elem in elems:                     #/html/body/div[6]/div/div[12]/div/div[2]/div[2]/div/div/div[3]/div/div/div[1]/div/div/a\n",
    "                                                        #/html/body/div[6]/div/div[12]/div/div[2]/div[2]/div/div/div[2]/div/div/div[1]/div/div/a\n",
    "                    clean_url = elem.get_attribute(\"href\") # extracting url \n",
    "                    base_url = \"linkedin.com/in/\"\n",
    "                    if clean_url.find(base_url) != -1 and '%' not in clean_url: # sometimes google gives no Ln urls, so clean it\n",
    "                        links.append(clean_url)\n",
    "                        print(f\"url is --->{clean_url}\")\n",
    "            except Exception as e:\n",
    "                print(e)\n",
    "                pass\n",
    "        try:\n",
    "            next_button = driver.find_element(By.XPATH, '//*[@id=\"pnnext\"]') # clicking next button \n",
    "            next_button.click()\n",
    "        except Exception as e:\n",
    "            print(e)\n",
    "        print(f'{n} pages left!')\n",
    "        n -= 1\n",
    "    df = pd.DataFrame({\n",
    "        \"links\":links\n",
    "    })\n",
    "    df = df.drop_duplicates()\n",
    "    df.to_csv(f'datas/linkedin_links_29_06/data{str(j)}.csv', index=False)\n",
    "    print(f'I am done ---> {str(j)}')\n",
    "    print(f'if there is a problem, start with {str(j+1)}')\n"
   ]
  }
 ],
 "metadata": {
  "kernelspec": {
   "display_name": "venv",
   "language": "python",
   "name": "python3"
  },
  "language_info": {
   "codemirror_mode": {
    "name": "ipython",
    "version": 3
   },
   "file_extension": ".py",
   "mimetype": "text/x-python",
   "name": "python",
   "nbconvert_exporter": "python",
   "pygments_lexer": "ipython3",
   "version": "3.10.7"
  },
  "orig_nbformat": 4
 },
 "nbformat": 4,
 "nbformat_minor": 2
}
