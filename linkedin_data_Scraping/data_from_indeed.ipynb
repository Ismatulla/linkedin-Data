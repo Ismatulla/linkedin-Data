{
 "cells": [
  {
   "cell_type": "code",
   "execution_count": 5,
   "metadata": {},
   "outputs": [
    {
     "name": "stderr",
     "output_type": "stream",
     "text": [
      "C:\\Users\\fayyo\\AppData\\Local\\Temp\\ipykernel_5028\\1634561166.py:16: DeprecationWarning: executable_path has been deprecated, please pass in a Service object\n",
      "  browser = webdriver.Chrome(options=options,executable_path='C:/User/fayyo/chromedriver')\n",
      "Incompatible release of chromedriver (version 111.0.5563.64) detected in PATH: c:\\Users\\GitHub\\Bots_using_selenium\\linkedin_data_Scraping\\chromedriver.exe\n"
     ]
    },
    {
     "ename": "KeyboardInterrupt",
     "evalue": "",
     "output_type": "error",
     "traceback": [
      "\u001b[1;31m---------------------------------------------------------------------------\u001b[0m",
      "\u001b[1;31mKeyboardInterrupt\u001b[0m                         Traceback (most recent call last)",
      "Cell \u001b[1;32mIn[5], line 18\u001b[0m\n\u001b[0;32m     16\u001b[0m browser \u001b[39m=\u001b[39m webdriver\u001b[39m.\u001b[39mChrome(options\u001b[39m=\u001b[39moptions,executable_path\u001b[39m=\u001b[39m\u001b[39m'\u001b[39m\u001b[39mC:/User/fayyo/chromedriver\u001b[39m\u001b[39m'\u001b[39m)\n\u001b[0;32m     17\u001b[0m browser\u001b[39m.\u001b[39mget(\u001b[39m'\u001b[39m\u001b[39mhttps://nl.indeed.com/vacatures?q=Sustainability&Consultant&sc=0kf\u001b[39m\u001b[39m%\u001b[39m\u001b[39m3Aattr\u001b[39m\u001b[39m%\u001b[39m\u001b[39m28HFDVW\u001b[39m\u001b[39m%29%\u001b[39;00m\u001b[39m3B&vjk=bdfbb81f7f2b8882\u001b[39m\u001b[39m'\u001b[39m)\n\u001b[1;32m---> 18\u001b[0m time\u001b[39m.\u001b[39;49msleep(\u001b[39m10\u001b[39;49m)\n",
      "\u001b[1;31mKeyboardInterrupt\u001b[0m: "
     ]
    },
    {
     "ename": "",
     "evalue": "",
     "output_type": "error",
     "traceback": [
      "\u001b[1;31mThe Kernel crashed while executing code in the the current cell or a previous cell. Please review the code in the cell(s) to identify a possible cause of the failure. Click <a href='https://aka.ms/vscodeJupyterKernelCrash'>here</a> for more info. View Jupyter <a href='command:jupyter.viewOutput'>log</a> for further details."
     ]
    }
   ],
   "source": [
    "from bs4 import BeautifulSoup\n",
    "import time\n",
    "from selenium.webdriver.chrome.options import Options\n",
    "from selenium import webdriver\n",
    "from selenium.webdriver.common.by import By\n",
    "import pandas as pd\n",
    "from selenium import webdriver\n",
    "\n",
    "\n",
    "# driver= webdriver.Chrome('C:/User/fayyo/chromedriver')\n",
    "\n",
    "options = Options()\n",
    "options.add_argument(\"user-data-dir=C:\\\\Users\\\\Username\\\\AppData\\\\Local\\\\Google\\\\Chrome\\\\User Data\\\\Person 3\")\n",
    "options.add_argument(\"--disable-gpu\")\n",
    "# driver = webdriver.Chrome(options=options)\n",
    "browser = webdriver.Chrome(options=options,executable_path='C:/User/fayyo/chromedriver')\n",
    "browser.get('https://www.glassdoor.com/Job/netherlands-software-engineer-jobs-SRCH_IL.0,11_IN178_KO12,29.htm?context=Jobs&clickSource=searchBox')\n",
    "time.sleep(10)"
   ]
  },
  {
   "cell_type": "code",
   "execution_count": null,
   "metadata": {},
   "outputs": [],
   "source": []
  }
 ],
 "metadata": {
  "kernelspec": {
   "display_name": "venv",
   "language": "python",
   "name": "python3"
  },
  "language_info": {
   "codemirror_mode": {
    "name": "ipython",
    "version": 3
   },
   "file_extension": ".py",
   "mimetype": "text/x-python",
   "name": "python",
   "nbconvert_exporter": "python",
   "pygments_lexer": "ipython3",
   "version": "3.8.8"
  },
  "orig_nbformat": 4
 },
 "nbformat": 4,
 "nbformat_minor": 2
}
