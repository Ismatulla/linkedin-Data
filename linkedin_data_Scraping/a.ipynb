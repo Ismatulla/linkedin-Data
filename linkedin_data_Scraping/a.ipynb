{
 "cells": [
  {
   "cell_type": "code",
   "execution_count": 64,
   "metadata": {},
   "outputs": [],
   "source": [
    "import pandas as pd\n",
    "from selenium import webdriver\n",
    "import time\n",
    "from selenium.webdriver.common.by import By\n",
    "import random\n",
    "from selenium.webdriver.chrome.options import Options\n",
    "from selenium.webdriver.common.keys import Keys\n",
    "from selenium.webdriver.support.ui import WebDriverWait\n",
    "from selenium.webdriver.support import expected_conditions as EC\n",
    "from bs4 import BeautifulSoup\n"
   ]
  },
  {
   "attachments": {},
   "cell_type": "markdown",
   "metadata": {},
   "source": [
    "\n",
    "company is done, "
   ]
  },
  {
   "attachments": {},
   "cell_type": "markdown",
   "metadata": {},
   "source": [
    ",Name,Link,Location,University,Degree and Studie,Company,Job"
   ]
  },
  {
   "cell_type": "code",
   "execution_count": 7,
   "metadata": {},
   "outputs": [
    {
     "data": {
      "text/plain": [
       "[(' lyft', 16),\n",
       " (' homemade server', 16),\n",
       " (' north carolina high school athletics association', 16),\n",
       " (' recreational sports in fayetteville', 16),\n",
       " (' alisonideas  freelance', 16),\n",
       " (' verbier art summit', 16),\n",
       " (' national network of abortion funds', 16),\n",
       " (' brookline learning center', 16),\n",
       " ('emergo textile projects etp  part-time', 16),\n",
       " (' saxion lectoraat sustainable  functional textiles   internship', 16),\n",
       " (' magic bodyfashion  internship', 16),\n",
       " (' emergo textile projects etp  internship', 16),\n",
       " ('technische universiteit delft  full-time', 15),\n",
       " (' leiden science - universiteit leiden  part-time', 15),\n",
       " (' lorentz center', 15),\n",
       " (' leiden science - universiteit leiden', 15),\n",
       " ('milence  full-time', 15),\n",
       " (' klm royal dutch airlines  full-time', 15),\n",
       " (' tata consultancy services  full-time', 15),\n",
       " (' gli europe b.v.', 15)]"
      ]
     },
     "execution_count": 7,
     "metadata": {},
     "output_type": "execute_result"
    }
   ],
   "source": [
    "from itertools import chain\n",
    "from collections import Counter\n",
    "list_=[]\n",
    "import re\n",
    "\n",
    "for i in range(len(df_last.Company)):\n",
    "    \n",
    "    l = re.sub('[^,. A-Za-z0-9-]+', '', df_last.Company[i]).lstrip().split(',')\n",
    "    list_to_remove = [' part-time',' full-time', ' part-time', '2 yrs 1 mo','8 yrs 11 mos',' full-time','freelance  4 yrs 5 mos',' 5 yrs', '1 yr 6 mos',' 4 yrs 10 mos',' internship',' 4 yrs 2 mos',' 4 yrs 11 mos',' 2 yrs 11 mos',' contract',' 10 mos',' 5 yrs 1 mo',' 6 yrs 1 mo',' 1 yr 8 mos',' contract',' internship','','full-time  2 yrs 7 mos',]\n",
    "    for k in list_to_remove:\n",
    "        if k in l:\n",
    "            l.remove(k)\n",
    "    list_.append(l)\n",
    "# final_list = list(set(list_) - set([\"['2 yrs 1 mo'\",  \"'part-time'\", \"['8 yrs 11 mos'\", \"'full-time'\"]))\n",
    "# list_.remove(\"['2 yrs 1 mo',  'part-time', ['8 yrs 11 mos', 'full-time'\")\n",
    "Counter(chain(*list_)).most_common(20)\n",
    "# [('tomato', 2), ('apple', 1), ('banana', 1), ('tree', 1), ('pikachu', 1)]"
   ]
  },
  {
   "cell_type": "code",
   "execution_count": null,
   "metadata": {},
   "outputs": [],
   "source": [
    "start = time.time()\n",
    "options = Options()\n",
    "options.add_argument(\"user-data-dir=C:\\\\Users\\\\Username\\\\AppData\\\\Local\\\\Google\\\\Chrome\\\\User Data\")\n",
    "driver = webdriver.Chrome(options=options)\n",
    "\n",
    "def comp_univer_degree(intros):\n",
    "    degree_studie = [] \n",
    "    university    = []\n",
    "    job_type      = [] \n",
    "    companies     = [] \n",
    "\n",
    "    for i in intros: #len(intros)\n",
    "        print(intros.index(i))  # number of intro\n",
    "        # if the length of intro less than three it means lack of data, so we don't need it\n",
    "        if 3 < len(i):\n",
    "            k = 2 \n",
    "            if len(i) > 5: # if itnro length grater than 5, user have 'About' section\n",
    "                k = 3 \n",
    "            exps = i[k].find_all(\"span\", {'class': 't-14 t-normal'})\n",
    "            a = []\n",
    "            for exp in exps:\n",
    "                for j in [i[: len(i)//2] for i in [exp.get_text().strip()]]:\n",
    "                    a.append(j)\n",
    "                # [exp.get_text().strip()]\n",
    "            degree_studie.append(a)\n",
    "\n",
    "            univers = i[k].find_all(\"span\", {'class': 'mr1 hoverable-link-text t-bold'})\n",
    "            b = []\n",
    "            for univer in univers:\n",
    "                for j in [i[: len(i)//2] for i in [univer.get_text().strip()]]:\n",
    "                    b.append(j)\n",
    "            university.append(b)\n",
    "\n",
    "            q = 1\n",
    "            if len(i) > 5:\n",
    "                q = 2\n",
    "            job_typ = i[q].find_all(\"span\", {'class': 'mr1 t-bold'})\n",
    "            c = []\n",
    "            for job in job_typ:\n",
    "                for j in [i[: len(i)//2] for i in [job.get_text().strip()]]:\n",
    "                    c.append(j)\n",
    "            job_type.append(c)\n",
    "\n",
    "            comps = i[q].find_all(\"span\", {'class': 't-14 t-normal'})\n",
    "            d = []\n",
    "            for com in comps:\n",
    "                for j in [i[: len(i)//2] for i in [com.get_text().strip()]]:\n",
    "                    d.append(j)\n",
    "            companies.append(d)\n",
    "        else :\n",
    "            degree_studie.append([])\n",
    "            university.append([])\n",
    "            job_type.append([]) \n",
    "            companies.append([]) \n",
    "    "
   ]
  },
  {
   "cell_type": "code",
   "execution_count": 21,
   "metadata": {},
   "outputs": [
    {
     "data": {
      "text/plain": [
       "[('University of Twente', 5),\n",
       " ('Stichting Studiebegeleiding Leiden', 4),\n",
       " ('Nan', 4),\n",
       " ('Eindhoven University of Technology', 4),\n",
       " ('University of Groningen', 3),\n",
       " ('Leiden University', 3),\n",
       " ('Radboud University', 3),\n",
       " ('Universiteit Leiden', 2),\n",
       " ('ING', 2),\n",
       " ('University of Amsterdam', 2),\n",
       " ('Tigerway', 2),\n",
       " ('Rabobank', 2),\n",
       " ('TNO', 2),\n",
       " ('Jongerenwerkgroep voor Sterrenkunde', 1),\n",
       " ('ABN AMRO Bank N.V.', 1),\n",
       " ('Danone', 1),\n",
       " ('Booking.com', 1),\n",
       " ('wasoe', 1),\n",
       " ('JetBrains', 1),\n",
       " ('CISPA Helmholtz Center for Information Security', 1)]"
      ]
     },
     "execution_count": 21,
     "metadata": {},
     "output_type": "execute_result"
    }
   ],
   "source": [
    "from itertools import chain\n",
    "from collections import Counter\n",
    "list_=[]\n",
    "import re\n",
    "\n",
    "    \n",
    "# final_list = list(set(list_) - set([\"['2 yrs 1 mo'\",  \"'part-time'\", \"['8 yrs 11 mos'\", \"'full-time'\"]))\n",
    "# list_.remove(\"['2 yrs 1 mo',  'part-time', ['8 yrs 11 mos', 'full-time'\")\n",
    "Counter(df.Company[:150]).most_common(20)"
   ]
  },
  {
   "cell_type": "code",
   "execution_count": 2,
   "metadata": {},
   "outputs": [],
   "source": [
    "from selenium import webdriver\n",
    "import time\n",
    "from selenium.webdriver.chrome.options import Options\n",
    "import pandas as pd\n",
    "\n",
    "start = time.time()\n",
    "options = Options()\n",
    "options.add_argument(\"user-data-dir=C:\\\\Users\\\\Username\\\\AppData\\\\Local\\\\Google\\\\Chrome\\\\User Data\")\n",
    "driver = webdriver.Chrome(options=options)"
   ]
  },
  {
   "cell_type": "code",
   "execution_count": 18,
   "metadata": {},
   "outputs": [
    {
     "name": "stdout",
     "output_type": "stream",
     "text": [
      "[<div class=\"mr1 artdeco-entity-lockup__image artdeco-entity-lockup__image--type-square ember-view\" id=\"ember144\" type=\"square\">\n",
      "<img alt=\"Logo van Walters People\" class=\"ember-view\" id=\"ember145\" src=\"https://media.licdn.com/dms/image/C4E0BAQHPknV3GbOB9g/company-logo_100_100/0/1656685055029?e=1685577600&amp;v=beta&amp;t=8Ru_m1iQLPgXmceLLN7BwDTdKSjY4Mjo1OIsFf4n8r4\" title=\"Walters People\"/>\n",
      "</div>, <div class=\"mr1 artdeco-entity-lockup__image artdeco-entity-lockup__image--type-square ember-view\" id=\"ember155\" type=\"square\">\n",
      "<img alt=\"Logo van Walters People\" class=\"ember-view\" id=\"ember156\" src=\"https://media.licdn.com/dms/image/C4E0BAQHPknV3GbOB9g/company-logo_100_100/0/1656685055029?e=1685577600&amp;v=beta&amp;t=8Ru_m1iQLPgXmceLLN7BwDTdKSjY4Mjo1OIsFf4n8r4\" title=\"Walters People\"/>\n",
      "</div>, <div class=\"mr1 artdeco-entity-lockup__image artdeco-entity-lockup__image--type-square ember-view\" id=\"ember166\" type=\"square\">\n",
      "<img alt=\"Logo van Cefetra Group\" class=\"ember-view\" id=\"ember167\" src=\"https://media.licdn.com/dms/image/C4E0BAQEM5HOPZTfyWA/company-logo_100_100/0/1609968886279?e=1685577600&amp;v=beta&amp;t=qE7WnZTKoy7ROK2NoekCCs2QDakJkTXIWw6-Rd6gXO4\" title=\"Cefetra Group\"/>\n",
      "</div>, <div class=\"mr1 artdeco-entity-lockup__image artdeco-entity-lockup__image--type-square ember-view\" id=\"ember177\" type=\"square\">\n",
      "<img alt=\"Logo van Linden-IT\" class=\"ember-view\" id=\"ember178\" src=\"https://media.licdn.com/dms/image/C4D0BAQFxEuO7fYMTDg/company-logo_100_100/0/1647511045670?e=1685577600&amp;v=beta&amp;t=Mf2GtV6DeEp1XNOZfKiZdWp5eExZdCkRhruQ6Ni7i5w\" title=\"Linden-IT\"/>\n",
      "</div>, <div class=\"mr1 artdeco-entity-lockup__image artdeco-entity-lockup__image--type-square ember-view\" id=\"ember188\" type=\"square\">\n",
      "<img alt=\"Logo van adesso Netherlands\" class=\"ember-view\" id=\"ember189\" src=\"https://media.licdn.com/dms/image/C4E0BAQHcslOyLtx_eQ/company-logo_100_100/0/1646310395993?e=1685577600&amp;v=beta&amp;t=gnTbINu6VArwXJrr9fuiesgqc6EbQGTOcar0UFVUjks\" title=\"adesso Netherlands\"/>\n",
      "</div>, <div class=\"mr1 artdeco-entity-lockup__image artdeco-entity-lockup__image--type-square ember-view\" id=\"ember199\" type=\"square\">\n",
      "<img alt=\"Logo van Walters People\" class=\"ember-view\" id=\"ember200\" src=\"https://media.licdn.com/dms/image/C4E0BAQHPknV3GbOB9g/company-logo_100_100/0/1656685055029?e=1685577600&amp;v=beta&amp;t=8Ru_m1iQLPgXmceLLN7BwDTdKSjY4Mjo1OIsFf4n8r4\" title=\"Walters People\"/>\n",
      "</div>, <div class=\"mr1 artdeco-entity-lockup__image artdeco-entity-lockup__image--type-square ember-view\" id=\"ember210\" type=\"square\">\n",
      "<img alt=\"Logo van Scorito.com\" class=\"ember-view\" id=\"ember211\" src=\"https://media.licdn.com/dms/image/C560BAQGRkhitJYgfCQ/company-logo_100_100/0/1519887091929?e=1685577600&amp;v=beta&amp;t=iA91tJMyGxFd25m2UA0XhCp1Cl_uqJaJGmzB7Am6Qks\" title=\"Scorito.com\"/>\n",
      "</div>, <div class=\"mr1 artdeco-entity-lockup__image artdeco-entity-lockup__image--type-square ember-view\" id=\"ember315\" type=\"square\">\n",
      "<img alt=\"Logo van Walters People\" class=\"ember-view\" id=\"ember316\" src=\"https://media.licdn.com/dms/image/C4E0BAQHPknV3GbOB9g/company-logo_100_100/0/1656685055029?e=1685577600&amp;v=beta&amp;t=8Ru_m1iQLPgXmceLLN7BwDTdKSjY4Mjo1OIsFf4n8r4\" title=\"Walters People\"/>\n",
      "</div>, <div class=\"mr1 artdeco-entity-lockup__image artdeco-entity-lockup__image--type-square ember-view\" id=\"ember325\" type=\"square\">\n",
      "<img alt=\"Logo van Walters People\" class=\"ember-view\" id=\"ember326\" src=\"https://media.licdn.com/dms/image/C4E0BAQHPknV3GbOB9g/company-logo_100_100/0/1656685055029?e=1685577600&amp;v=beta&amp;t=8Ru_m1iQLPgXmceLLN7BwDTdKSjY4Mjo1OIsFf4n8r4\" title=\"Walters People\"/>\n",
      "</div>, <div class=\"mr1 artdeco-entity-lockup__image artdeco-entity-lockup__image--type-square ember-view\" id=\"ember295\" type=\"square\">\n",
      "<img alt=\"Logo van Movella\" class=\"ember-view\" id=\"ember296\" src=\"https://media.licdn.com/dms/image/C4E0BAQGAoriZcsF0hw/company-logo_100_100/0/1632728325072?e=1685577600&amp;v=beta&amp;t=aWZKZqxI_Uui2b99g39qlnPT2cQIfoTYaxDJoJ20pw4\" title=\"Movella\"/>\n",
      "</div>, <div class=\"mr1 artdeco-entity-lockup__image artdeco-entity-lockup__image--type-square ember-view\" id=\"ember285\" type=\"square\">\n",
      "<img alt=\"Logo van Picturae\" class=\"ember-view\" id=\"ember286\" src=\"https://media.licdn.com/dms/image/C560BAQFDw91gt9eEEg/company-logo_100_100/0/1530786195797?e=1685577600&amp;v=beta&amp;t=OBglUn5SQT0FIeQFgMc3psabwYhReet9iowROe4Db_M\" title=\"Picturae\"/>\n",
      "</div>, <div class=\"mr1 artdeco-entity-lockup__image artdeco-entity-lockup__image--type-square ember-view\" id=\"ember305\" type=\"square\">\n",
      "<img alt=\"Logo van Interpulse Automatisering B.V.\" class=\"ember-view\" id=\"ember306\" src=\"https://media.licdn.com/dms/image/C4D0BAQEybPk_bx7KzQ/company-logo_100_100/0/1536667479364?e=1685577600&amp;v=beta&amp;t=xXDQ4lFUlxHK6Kgd6NqS_ruBd2Gh6kLCMtjyLoqdmx8\" title=\"Interpulse Automatisering B.V.\"/>\n",
      "</div>]\n",
      "<div class=\"mr1 artdeco-entity-lockup__image artdeco-entity-lockup__image--type-square ember-view\" id=\"ember144\" type=\"square\">\n",
      "<img alt=\"Logo van Walters People\" class=\"ember-view\" id=\"ember145\" src=\"https://media.licdn.com/dms/image/C4E0BAQHPknV3GbOB9g/company-logo_100_100/0/1656685055029?e=1685577600&amp;v=beta&amp;t=8Ru_m1iQLPgXmceLLN7BwDTdKSjY4Mjo1OIsFf4n8r4\" title=\"Walters People\"/>\n",
      "</div>\n",
      "<div class=\"mr1 artdeco-entity-lockup__image artdeco-entity-lockup__image--type-square ember-view\" id=\"ember155\" type=\"square\">\n",
      "<img alt=\"Logo van Walters People\" class=\"ember-view\" id=\"ember156\" src=\"https://media.licdn.com/dms/image/C4E0BAQHPknV3GbOB9g/company-logo_100_100/0/1656685055029?e=1685577600&amp;v=beta&amp;t=8Ru_m1iQLPgXmceLLN7BwDTdKSjY4Mjo1OIsFf4n8r4\" title=\"Walters People\"/>\n",
      "</div>\n",
      "<div class=\"mr1 artdeco-entity-lockup__image artdeco-entity-lockup__image--type-square ember-view\" id=\"ember166\" type=\"square\">\n",
      "<img alt=\"Logo van Cefetra Group\" class=\"ember-view\" id=\"ember167\" src=\"https://media.licdn.com/dms/image/C4E0BAQEM5HOPZTfyWA/company-logo_100_100/0/1609968886279?e=1685577600&amp;v=beta&amp;t=qE7WnZTKoy7ROK2NoekCCs2QDakJkTXIWw6-Rd6gXO4\" title=\"Cefetra Group\"/>\n",
      "</div>\n",
      "<div class=\"mr1 artdeco-entity-lockup__image artdeco-entity-lockup__image--type-square ember-view\" id=\"ember177\" type=\"square\">\n",
      "<img alt=\"Logo van Linden-IT\" class=\"ember-view\" id=\"ember178\" src=\"https://media.licdn.com/dms/image/C4D0BAQFxEuO7fYMTDg/company-logo_100_100/0/1647511045670?e=1685577600&amp;v=beta&amp;t=Mf2GtV6DeEp1XNOZfKiZdWp5eExZdCkRhruQ6Ni7i5w\" title=\"Linden-IT\"/>\n",
      "</div>\n",
      "<div class=\"mr1 artdeco-entity-lockup__image artdeco-entity-lockup__image--type-square ember-view\" id=\"ember188\" type=\"square\">\n",
      "<img alt=\"Logo van adesso Netherlands\" class=\"ember-view\" id=\"ember189\" src=\"https://media.licdn.com/dms/image/C4E0BAQHcslOyLtx_eQ/company-logo_100_100/0/1646310395993?e=1685577600&amp;v=beta&amp;t=gnTbINu6VArwXJrr9fuiesgqc6EbQGTOcar0UFVUjks\" title=\"adesso Netherlands\"/>\n",
      "</div>\n",
      "<div class=\"mr1 artdeco-entity-lockup__image artdeco-entity-lockup__image--type-square ember-view\" id=\"ember199\" type=\"square\">\n",
      "<img alt=\"Logo van Walters People\" class=\"ember-view\" id=\"ember200\" src=\"https://media.licdn.com/dms/image/C4E0BAQHPknV3GbOB9g/company-logo_100_100/0/1656685055029?e=1685577600&amp;v=beta&amp;t=8Ru_m1iQLPgXmceLLN7BwDTdKSjY4Mjo1OIsFf4n8r4\" title=\"Walters People\"/>\n",
      "</div>\n",
      "<div class=\"mr1 artdeco-entity-lockup__image artdeco-entity-lockup__image--type-square ember-view\" id=\"ember210\" type=\"square\">\n",
      "<img alt=\"Logo van Scorito.com\" class=\"ember-view\" id=\"ember211\" src=\"https://media.licdn.com/dms/image/C560BAQGRkhitJYgfCQ/company-logo_100_100/0/1519887091929?e=1685577600&amp;v=beta&amp;t=iA91tJMyGxFd25m2UA0XhCp1Cl_uqJaJGmzB7Am6Qks\" title=\"Scorito.com\"/>\n",
      "</div>\n",
      "<div class=\"mr1 artdeco-entity-lockup__image artdeco-entity-lockup__image--type-square ember-view\" id=\"ember315\" type=\"square\">\n",
      "<img alt=\"Logo van Walters People\" class=\"ember-view\" id=\"ember316\" src=\"https://media.licdn.com/dms/image/C4E0BAQHPknV3GbOB9g/company-logo_100_100/0/1656685055029?e=1685577600&amp;v=beta&amp;t=8Ru_m1iQLPgXmceLLN7BwDTdKSjY4Mjo1OIsFf4n8r4\" title=\"Walters People\"/>\n",
      "</div>\n",
      "<div class=\"mr1 artdeco-entity-lockup__image artdeco-entity-lockup__image--type-square ember-view\" id=\"ember325\" type=\"square\">\n",
      "<img alt=\"Logo van Walters People\" class=\"ember-view\" id=\"ember326\" src=\"https://media.licdn.com/dms/image/C4E0BAQHPknV3GbOB9g/company-logo_100_100/0/1656685055029?e=1685577600&amp;v=beta&amp;t=8Ru_m1iQLPgXmceLLN7BwDTdKSjY4Mjo1OIsFf4n8r4\" title=\"Walters People\"/>\n",
      "</div>\n",
      "<div class=\"mr1 artdeco-entity-lockup__image artdeco-entity-lockup__image--type-square ember-view\" id=\"ember295\" type=\"square\">\n",
      "<img alt=\"Logo van Movella\" class=\"ember-view\" id=\"ember296\" src=\"https://media.licdn.com/dms/image/C4E0BAQGAoriZcsF0hw/company-logo_100_100/0/1632728325072?e=1685577600&amp;v=beta&amp;t=aWZKZqxI_Uui2b99g39qlnPT2cQIfoTYaxDJoJ20pw4\" title=\"Movella\"/>\n",
      "</div>\n",
      "<div class=\"mr1 artdeco-entity-lockup__image artdeco-entity-lockup__image--type-square ember-view\" id=\"ember285\" type=\"square\">\n",
      "<img alt=\"Logo van Picturae\" class=\"ember-view\" id=\"ember286\" src=\"https://media.licdn.com/dms/image/C560BAQFDw91gt9eEEg/company-logo_100_100/0/1530786195797?e=1685577600&amp;v=beta&amp;t=OBglUn5SQT0FIeQFgMc3psabwYhReet9iowROe4Db_M\" title=\"Picturae\"/>\n",
      "</div>\n",
      "<div class=\"mr1 artdeco-entity-lockup__image artdeco-entity-lockup__image--type-square ember-view\" id=\"ember305\" type=\"square\">\n",
      "<img alt=\"Logo van Interpulse Automatisering B.V.\" class=\"ember-view\" id=\"ember306\" src=\"https://media.licdn.com/dms/image/C4D0BAQEybPk_bx7KzQ/company-logo_100_100/0/1536667479364?e=1685577600&amp;v=beta&amp;t=xXDQ4lFUlxHK6Kgd6NqS_ruBd2Gh6kLCMtjyLoqdmx8\" title=\"Interpulse Automatisering B.V.\"/>\n",
      "</div>\n"
     ]
    }
   ],
   "source": [
    "from urllib.request import urlopen\n",
    "from bs4 import BeautifulSoup\n",
    "start = time.time()\n",
    "options = Options()\n",
    "options.add_argument(\"user-data-dir=C:\\\\Users\\\\Username\\\\AppData\\\\Local\\\\Google\\\\Chrome\\\\User Data\")\n",
    "driver = webdriver.Chrome(options=options)\n",
    "site = \"https://www.linkedin.com/jobs/search/?currentJobId=3393361053&geoId=102890719&keywords=data-scientist&location=Nederland&refresh=true&start=25\"\n",
    "html = urlopen(site)\n",
    "bs = BeautifulSoup(html, 'html.parser')\n",
    "\n",
    "driver.get(site)\n",
    "time.sleep(20)\n",
    "src = driver.page_source\n",
    "soup = BeautifulSoup(src, 'html')\n",
    "# \"span\", {'class': 'text-body-small inline t-black--light break-words'}\n",
    "images = soup.find_all(\"div\", {\"class\": \"mr1 artdeco-entity-lockup__image artdeco-entity-lockup__image--type-square ember-view\"})\n",
    "print(images)                   \n",
    "for img in images:\n",
    "    # if img.has_attr('url'):\n",
    "    print(img)"
   ]
  },
  {
   "cell_type": "code",
   "execution_count": null,
   "metadata": {},
   "outputs": [],
   "source": [
    "# from urllib.request import urlopen\n",
    "# from bs4 import BeautifulSoup\n",
    "# start = time.time()\n",
    "# options = Options()\n",
    "# options.add_argument(\"user-data-dir=C:\\\\Users\\\\Username\\\\AppData\\\\Local\\\\Google\\\\Chrome\\\\User Data\")\n",
    "# driver = webdriver.Chrome(options=options)\n",
    "# site = \"from urllib.request import urlopen\n",
    "from bs4 import BeautifulSoup\n",
    "start = time.time()\n",
    "options = Options()\n",
    "options.add_argument(\"user-data-dir=C:\\\\Users\\\\Username\\\\AppData\\\\Local\\\\Google\\\\Chrome\\\\User Data\")\n",
    "driver = webdriver.Chrome(options=options)\n",
    "site = \"https://www.linkedin.com/jobs/search/?currentJobId=3393361053&geoId=102890719&keywords=data-scientist&location=Nederland&refresh=true&start=25\"\n",
    "html = urlopen(site)\n",
    "bs = BeautifulSoup(html, 'html.parser')\n",
    "\n",
    "driver.get(site)\n",
    "time.sleep(20)\n",
    "src = driver.page_source\n",
    "soup = BeautifulSoup(src, 'html')\n",
    "# \"span\", {'class': 'text-body-small inline t-black--light break-words'}\n",
    "images = soup.find_all(\"div\", {\"class\": \"mr1 artdeco-entity-lockup__image artdeco-entity-lockup__image--type-square ember-view\"})\n",
    "print(images)                   \n",
    "# for img in images:\n",
    "    # if img.has_attr('url'):\n",
    "    # print(img)\"\n",
    "html = urlopen(site)\n",
    "bs = BeautifulSoup(html, 'html.parser')\n",
    "\n",
    "driver.get(site)\n",
    "time.sleep(20)\n",
    "src = driver.page_source\n",
    "soup = BeautifulSoup(src, 'html')\n",
    "# \"span\", {'class': 'text-body-small inline t-black--light break-words'}\n",
    "images = soup.find_all(\"div\", {\"class\": \"mr1 artdeco-entity-lockup__image artdeco-entity-lockup__image--type-square ember-view\"})\n",
    "print(images)                   \n",
    "for img in images:\n",
    "    # if img.has_attr('url'):\n",
    "    print(img)"
   ]
  },
  {
   "cell_type": "code",
   "execution_count": 10,
   "metadata": {},
   "outputs": [
    {
     "name": "stdout",
     "output_type": "stream",
     "text": [
      "[]\n",
      "[<p class=\"mt-0 mb-0 pb v2__EIReviewDetailsV2__bodyColor v2__EIReviewDetailsV2__lineHeightLarge v2__EIReviewDetailsV2__isCollapsed\"><span data-test=\"pros\">Been there 6 months, has never been a better job for a young person.</span></p>, <p class=\"mt-0 mb-0 pb v2__EIReviewDetailsV2__bodyColor v2__EIReviewDetailsV2__lineHeightLarge v2__EIReviewDetailsV2__isCollapsed\"><span data-test=\"cons\">Nothing is wrong with the company</span></p>, <p class=\"mt-0 mb-0 pb v2__EIReviewDetailsV2__bodyColor v2__EIReviewDetailsV2__lineHeightLarge v2__EIReviewDetailsV2__isCollapsed\"><span data-test=\"pros\">Pay is competitive for energy majors, being a European company they are a little more relaxed and better work life balance than what I've heard from others at US based energy majors. A big focus on safety and trying their best to do the right thing.</span></p>, <p class=\"mt-0 mb-0 pb v2__EIReviewDetailsV2__bodyColor v2__EIReviewDetailsV2__lineHeightLarge v2__EIReviewDetailsV2__isCollapsed\"><span data-test=\"cons\">So much corporate politics and bureaucracy. Hard to get things done. Seems like there has been a \"re-org\" and layoffs every 2-3 years since 2015. Many high flying managers get shuffled around quickly and by the time they get to upper management, they haven't ever really stayed in any part of the business long enough to see all the cost cutting measures they took start to backfire. Continuous shift towards treating our projects and engineering/staff as a simple generic commodity that can be outsourced to shorter term contract workers, and HVEC (High Value Engineering Center) aka low cost places. IT and HR was completely gutted and outsourced, it's a nightmare now trying to get help from those support functions.</span></p>, <p class=\"mt-0 mb-0 pb v2__EIReviewDetailsV2__bodyColor v2__EIReviewDetailsV2__lineHeightLarge v2__EIReviewDetailsV2__isCollapsed\"><span data-test=\"pros\">Smart people. Interesting work. Excellent compensation.</span></p>, <p class=\"mt-0 mb-0 pb v2__EIReviewDetailsV2__bodyColor v2__EIReviewDetailsV2__lineHeightLarge v2__EIReviewDetailsV2__isCollapsed\"><span data-test=\"cons\">Big corporate atmosphere hard to take sometimes. Endless turnover at mid-mgmt level with lots of churn at the asset level as new managers on their way up the ladder stop on your department's rung, make lots of changes, and climb on.</span></p>, <p class=\"mt-0 mb-0 pb v2__EIReviewDetailsV2__bodyColor v2__EIReviewDetailsV2__lineHeightLarge v2__EIReviewDetailsV2__isCollapsed\"><span data-test=\"pros\">Processes and procedures are first class. Pay is great.</span></p>, <p class=\"mt-0 mb-0 pb v2__EIReviewDetailsV2__bodyColor v2__EIReviewDetailsV2__lineHeightLarge v2__EIReviewDetailsV2__isCollapsed\"><span data-test=\"cons\">Big company so there is bureaucracy and red tape. Most people are good to work with/for but with so many employees you will come across bad ones.</span></p>, <p class=\"mt-0 mb-0 pb v2__EIReviewDetailsV2__bodyColor v2__EIReviewDetailsV2__lineHeightLarge v2__EIReviewDetailsV2__isCollapsed\"><span data-test=\"pros\">Great place to work and grow as an individual with focus on people. DE&amp;I is one of the core focuses of Shell culture on how it treats its employees.</span></p>, <p class=\"mt-0 mb-0 pb v2__EIReviewDetailsV2__bodyColor v2__EIReviewDetailsV2__lineHeightLarge v2__EIReviewDetailsV2__isCollapsed\"><span data-test=\"cons\">Not any significant ones besides any role or situation dependent ones.</span></p>, <p class=\"mt-0 mb-0 pb v2__EIReviewDetailsV2__bodyColor v2__EIReviewDetailsV2__lineHeightLarge v2__EIReviewDetailsV2__isCollapsed\"><span data-test=\"pros\">Good Pay. Lot's of training amd education. Very interesting work.</span></p>, <p class=\"mt-0 mb-0 pb v2__EIReviewDetailsV2__bodyColor v2__EIReviewDetailsV2__lineHeightLarge v2__EIReviewDetailsV2__isCollapsed\"><span data-test=\"cons\">I wanted to move from New Orleans to Houston, and a team in Houston said they wanted me on their team. The New Orleans team blocked the move. If you want to advance your career or want a change, do it externally to Shell, don't let Shell hold you back. Poor work life balance, lots of after hours calls and a typical week is already 60 hours. Company continues to make this worse by laying people off. People are frequently promoted into roles they are not qualified for. This is frustrating when you have to teach senior people how to do their job, but also stressfill when it happens to you . Management of Change process is very cumbersome. Very poor software is used. Shell was very cowardly about oil and gas outlook in 2020. When oil was cheap and we should have been spending big money on maintenance and refurbishment, they focused on laying off employees. By the time \"project reshape\" was executed, gas was back to $80 per barrel.</span></p>, <p class=\"mt-0 mb-0 pb v2__EIReviewDetailsV2__bodyColor v2__EIReviewDetailsV2__lineHeightLarge v2__EIReviewDetailsV2__isCollapsed\"><span data-test=\"pros\">work schedule, pay and benefits, quality of life, safety culture</span></p>, <p class=\"mt-0 mb-0 pb v2__EIReviewDetailsV2__bodyColor v2__EIReviewDetailsV2__lineHeightLarge v2__EIReviewDetailsV2__isCollapsed\"><span data-test=\"cons\">accountability, senior level mentoring/sponsorship, work environment,</span></p>]\n"
     ]
    },
    {
     "ename": "NoSuchElementException",
     "evalue": "Message: no such element: Unable to locate element: {\"method\":\"xpath\",\"selector\":\"/html/body/div[2]/div[1]/div[2]/main/div[5]/div/ol/li[10]/div/div/div[2]/div/div[2]/div[1]/p[2]/span\"}\n  (Session info: chrome=110.0.5481.177)\nStacktrace:\nBacktrace:\n\t(No symbol) [0x002A37D3]\n\t(No symbol) [0x00238B81]\n\t(No symbol) [0x0013B36D]\n\t(No symbol) [0x0016D382]\n\t(No symbol) [0x0016D4BB]\n\t(No symbol) [0x001A3302]\n\t(No symbol) [0x0018B464]\n\t(No symbol) [0x001A1215]\n\t(No symbol) [0x0018B216]\n\t(No symbol) [0x00160D97]\n\t(No symbol) [0x0016253D]\n\tGetHandleVerifier [0x0051ABF2+2510930]\n\tGetHandleVerifier [0x00548EC1+2700065]\n\tGetHandleVerifier [0x0054C86C+2714828]\n\tGetHandleVerifier [0x00353480+645344]\n\t(No symbol) [0x00240FD2]\n\t(No symbol) [0x00246C68]\n\t(No symbol) [0x00246D4B]\n\t(No symbol) [0x00250D6B]\n\tBaseThreadInitThunk [0x752700F9+25]\n\tRtlGetAppContainerNamedObjectPath [0x773F7BBE+286]\n\tRtlGetAppContainerNamedObjectPath [0x773F7B8E+238]\n\t(No symbol) [0x00000000]\n",
     "output_type": "error",
     "traceback": [
      "\u001b[1;31m---------------------------------------------------------------------------\u001b[0m",
      "\u001b[1;31mNoSuchElementException\u001b[0m                    Traceback (most recent call last)",
      "Cell \u001b[1;32mIn [10], line 36\u001b[0m\n\u001b[0;32m     34\u001b[0m a \u001b[39m=\u001b[39msoup\u001b[39m.\u001b[39mfind_all(\u001b[39m'\u001b[39m\u001b[39mp\u001b[39m\u001b[39m'\u001b[39m, {\u001b[39m'\u001b[39m\u001b[39mclass\u001b[39m\u001b[39m'\u001b[39m:\u001b[39m\"\u001b[39m\u001b[39mmt-0 mb-0 pb v2__EIReviewDetailsV2__bodyColor v2__EIReviewDetailsV2__lineHeightLarge v2__EIReviewDetailsV2__isCollapsed\u001b[39m\u001b[39m\"\u001b[39m})\n\u001b[0;32m     35\u001b[0m \u001b[39mprint\u001b[39m(a)\n\u001b[1;32m---> 36\u001b[0m b\u001b[39m=\u001b[39mdriver\u001b[39m.\u001b[39;49mfind_element(By\u001b[39m.\u001b[39;49mXPATH, \u001b[39m\"\u001b[39;49m\u001b[39m/html/body/div[2]/div[1]/div[2]/main/div[5]/div/ol/li[10]/div/div/div[2]/div/div[2]/div[1]/p[2]/span\u001b[39;49m\u001b[39m\"\u001b[39;49m)\n",
      "File \u001b[1;32mc:\\Users\\GitHub\\auto_send_question\\env\\lib\\site-packages\\selenium\\webdriver\\remote\\webdriver.py:861\u001b[0m, in \u001b[0;36mWebDriver.find_element\u001b[1;34m(self, by, value)\u001b[0m\n\u001b[0;32m    858\u001b[0m     by \u001b[39m=\u001b[39m By\u001b[39m.\u001b[39mCSS_SELECTOR\n\u001b[0;32m    859\u001b[0m     value \u001b[39m=\u001b[39m \u001b[39m'\u001b[39m\u001b[39m[name=\u001b[39m\u001b[39m\"\u001b[39m\u001b[39m%s\u001b[39;00m\u001b[39m\"\u001b[39m\u001b[39m]\u001b[39m\u001b[39m'\u001b[39m \u001b[39m%\u001b[39m value\n\u001b[1;32m--> 861\u001b[0m \u001b[39mreturn\u001b[39;00m \u001b[39mself\u001b[39;49m\u001b[39m.\u001b[39;49mexecute(Command\u001b[39m.\u001b[39;49mFIND_ELEMENT, {\u001b[39m\"\u001b[39;49m\u001b[39musing\u001b[39;49m\u001b[39m\"\u001b[39;49m: by, \u001b[39m\"\u001b[39;49m\u001b[39mvalue\u001b[39;49m\u001b[39m\"\u001b[39;49m: value})[\u001b[39m\"\u001b[39m\u001b[39mvalue\u001b[39m\u001b[39m\"\u001b[39m]\n",
      "File \u001b[1;32mc:\\Users\\GitHub\\auto_send_question\\env\\lib\\site-packages\\selenium\\webdriver\\remote\\webdriver.py:444\u001b[0m, in \u001b[0;36mWebDriver.execute\u001b[1;34m(self, driver_command, params)\u001b[0m\n\u001b[0;32m    442\u001b[0m response \u001b[39m=\u001b[39m \u001b[39mself\u001b[39m\u001b[39m.\u001b[39mcommand_executor\u001b[39m.\u001b[39mexecute(driver_command, params)\n\u001b[0;32m    443\u001b[0m \u001b[39mif\u001b[39;00m response:\n\u001b[1;32m--> 444\u001b[0m     \u001b[39mself\u001b[39;49m\u001b[39m.\u001b[39;49merror_handler\u001b[39m.\u001b[39;49mcheck_response(response)\n\u001b[0;32m    445\u001b[0m     response[\u001b[39m\"\u001b[39m\u001b[39mvalue\u001b[39m\u001b[39m\"\u001b[39m] \u001b[39m=\u001b[39m \u001b[39mself\u001b[39m\u001b[39m.\u001b[39m_unwrap_value(response\u001b[39m.\u001b[39mget(\u001b[39m\"\u001b[39m\u001b[39mvalue\u001b[39m\u001b[39m\"\u001b[39m, \u001b[39mNone\u001b[39;00m))\n\u001b[0;32m    446\u001b[0m     \u001b[39mreturn\u001b[39;00m response\n",
      "File \u001b[1;32mc:\\Users\\GitHub\\auto_send_question\\env\\lib\\site-packages\\selenium\\webdriver\\remote\\errorhandler.py:249\u001b[0m, in \u001b[0;36mErrorHandler.check_response\u001b[1;34m(self, response)\u001b[0m\n\u001b[0;32m    247\u001b[0m         alert_text \u001b[39m=\u001b[39m value[\u001b[39m\"\u001b[39m\u001b[39malert\u001b[39m\u001b[39m\"\u001b[39m]\u001b[39m.\u001b[39mget(\u001b[39m\"\u001b[39m\u001b[39mtext\u001b[39m\u001b[39m\"\u001b[39m)\n\u001b[0;32m    248\u001b[0m     \u001b[39mraise\u001b[39;00m exception_class(message, screen, stacktrace, alert_text)  \u001b[39m# type: ignore[call-arg]  # mypy is not smart enough here\u001b[39;00m\n\u001b[1;32m--> 249\u001b[0m \u001b[39mraise\u001b[39;00m exception_class(message, screen, stacktrace)\n",
      "\u001b[1;31mNoSuchElementException\u001b[0m: Message: no such element: Unable to locate element: {\"method\":\"xpath\",\"selector\":\"/html/body/div[2]/div[1]/div[2]/main/div[5]/div/ol/li[10]/div/div/div[2]/div/div[2]/div[1]/p[2]/span\"}\n  (Session info: chrome=110.0.5481.177)\nStacktrace:\nBacktrace:\n\t(No symbol) [0x002A37D3]\n\t(No symbol) [0x00238B81]\n\t(No symbol) [0x0013B36D]\n\t(No symbol) [0x0016D382]\n\t(No symbol) [0x0016D4BB]\n\t(No symbol) [0x001A3302]\n\t(No symbol) [0x0018B464]\n\t(No symbol) [0x001A1215]\n\t(No symbol) [0x0018B216]\n\t(No symbol) [0x00160D97]\n\t(No symbol) [0x0016253D]\n\tGetHandleVerifier [0x0051ABF2+2510930]\n\tGetHandleVerifier [0x00548EC1+2700065]\n\tGetHandleVerifier [0x0054C86C+2714828]\n\tGetHandleVerifier [0x00353480+645344]\n\t(No symbol) [0x00240FD2]\n\t(No symbol) [0x00246C68]\n\t(No symbol) [0x00246D4B]\n\t(No symbol) [0x00250D6B]\n\tBaseThreadInitThunk [0x752700F9+25]\n\tRtlGetAppContainerNamedObjectPath [0x773F7BBE+286]\n\tRtlGetAppContainerNamedObjectPath [0x773F7B8E+238]\n\t(No symbol) [0x00000000]\n"
     ]
    }
   ],
   "source": [
    "from bs4 import BeautifulSoup\n",
    "import time\n",
    "from selenium.webdriver.chrome.options import Options\n",
    "from selenium import webdriver\n",
    "options = Options()\n",
    "options.add_argument(\"user-data-dir=C:\\\\Users\\\\Username\\\\AppData\\\\Local\\\\Google\\\\Chrome\\\\User Data\")\n",
    "driver = webdriver.Chrome(options=options)\n",
    "site = \"https://www.glassdoor.com/Reviews/Shell-Reviews-E5833.htm\"\n",
    "        # https://www.glassdoor.com/Reviews/Shell-Reviews-E5833.htm\n",
    "        # https://www.glassdoor.com/Reviews/ABN-AMRO-Reviews-E10499.htm\n",
    "        # https://www.glassdoor.com/Reviews/CircleCI-Reviews-E919755.htm\n",
    "from selenium.webdriver.common.by import By\n",
    "driver.get(site)\n",
    "time.sleep(20)\n",
    "initialScroll = 0\n",
    "finalScroll = 1000\n",
    "start = time.time()\n",
    "while True:\n",
    "    driver.execute_script(f\"window.scrollTo({initialScroll}, {finalScroll})\")\n",
    "    initialScroll = finalScroll\n",
    "    finalScroll += 1000\n",
    "    time.sleep(3)\n",
    "    end = time.time()\n",
    "    if round(end - start) > 20:\n",
    "        break\n",
    "src = driver.page_source\n",
    "soup = BeautifulSoup(src, 'lxml')\n",
    "# Pros_s=driver.find_elements(By.XPATH, '//*[@id=\"empReview\"]/div/div/div[2]/div/div[2]/div[1]/p[2]/span')\n",
    "\n",
    "Pros_s=soup.find_all('p',{'class':\"mt-0 mb-0 pb v2__EIReviewDetailsV2__bodyColor v2__EIReviewDetailsV2__lineHeightLarge v2__EIReviewDetailsV2__isCollapsed \"})\n",
    "print(Pros_s)                 #//*[@id=\"empReview_68686222\"]/div/div/div[2]/div/div[2]/div[1]/p[2]/span\n",
    "for pro in Pros_s:\n",
    "    print(pro)\n",
    "a =soup.find_all('p', {'class':\"mt-0 mb-0 pb v2__EIReviewDetailsV2__bodyColor v2__EIReviewDetailsV2__lineHeightLarge v2__EIReviewDetailsV2__isCollapsed\"})\n",
    "print(a)                        #mt-0 mb-0 pb v2__EIReviewDetailsV2__bodyColor v2__EIReviewDetailsV2__lineHeightLarge v2__EIReviewDetailsV2__isCollapsed \n",
    "b=driver.find_element(By.XPATH, \"/html/body/div[2]/div[1]/div[2]/main/div[5]/div/ol/li[10]/div/div/div[2]/div/div[2]/div[1]/p[2]/span\")"
   ]
  },
  {
   "cell_type": "code",
   "execution_count": 3,
   "metadata": {},
   "outputs": [
    {
     "name": "stdout",
     "output_type": "stream",
     "text": [
      "Great to work for ING, lots of possibilities since it is a big company. They are still caring for their employees when personal circumstances require flexibility.\n",
      "'NoneType' object has no attribute 'text'\n",
      "Goede secundaire avw en goed salaris en goede scholing\n",
      "'NoneType' object has no attribute 'text'\n",
      "ING is een fijne werkgever met goede salarissen, een prachtig hoofdkantoor en vriendelijke collega's.\n",
      "'NoneType' object has no attribute 'text'\n",
      "- a lot of work to do\n",
      "- chance to get on interesting project\n",
      "- a lot of things to learn\n",
      "- some talented people\n",
      "- sometimes interesting tech to work on\n",
      "'NoneType' object has no attribute 'text'\n",
      "Goede werkgever, geweldige collega's maar te hoge werkdruk.\n",
      "'NoneType' object has no attribute 'text'\n",
      "Pluspunten \n",
      "- goed salaris als starter in IT \n",
      "- goede secundaire arbeidsvoorwaarde (gratis reizen met OV bijv) \n",
      "- groei potentieel als de 50+ers die in de management lagen zitten je mogen\n",
      "'NoneType' object has no attribute 'text'\n"
     ]
    }
   ],
   "source": [
    "list_pros=[]\n",
    "for i in a:\n",
    "    try:\n",
    "        print(i.find('span', {'data-test':\"pros\"}).text.strip())\n",
    "        list_pros.append(i.find('span', {'data-test':\"pros\"}).text.strip())\n",
    "    except Exception as e:\n",
    "        print(e)"
   ]
  },
  {
   "cell_type": "code",
   "execution_count": 65,
   "metadata": {},
   "outputs": [],
   "source": [
    "list_cons=[]\n",
    "for i in a:\n",
    "    try:\n",
    "        print(i.find('span', {'data-test':\"cons\"}).text.strip())\n",
    "        list_cons.append(i.find('span', {'data-test':\"cons\"}).text.strip())\n",
    "    except Exception as e:\n",
    "        print(e)"
   ]
  },
  {
   "cell_type": "code",
   "execution_count": 12,
   "metadata": {},
   "outputs": [],
   "source": [
    "ING_list_pros=list_pros"
   ]
  },
  {
   "cell_type": "code",
   "execution_count": null,
   "metadata": {},
   "outputs": [],
   "source": [
    "mbo = college\n",
    "hbo / university = uni\n"
   ]
  },
  {
   "cell_type": "code",
   "execution_count": 10,
   "metadata": {},
   "outputs": [],
   "source": [
    "job_desc_Math_teacher={\n",
    "    \n",
    "}"
   ]
  },
  {
   "cell_type": "code",
   "execution_count": 13,
   "metadata": {},
   "outputs": [
    {
     "data": {
      "text/plain": [
       "dict_keys([2, 3, 4, 5, 6, 7, 8, 9, 10, 11])"
      ]
     },
     "execution_count": 13,
     "metadata": {},
     "output_type": "execute_result"
    }
   ],
   "source": [
    "job_desc_Math_teacher.keys()"
   ]
  },
  {
   "cell_type": "code",
   "execution_count": 12,
   "metadata": {},
   "outputs": [],
   "source": [
    "from bs4 import BeautifulSoup\n",
    "import time\n",
    "from selenium.webdriver.chrome.options import Options\n",
    "from selenium import webdriver\n",
    "from selenium.webdriver.common.by import By\n",
    "\n",
    "options = Options()\n",
    "options.add_argument(\"user-data-dir=C:\\\\Users\\\\Username\\\\AppData\\\\Local\\\\Google\\\\Chrome\\\\User Data\")\n",
    "driver = webdriver.Chrome(options=options)\n",
    "site = \"https://www.glassdoor.com/Job/netherlands-it-job-jobs-SRCH_IL.0,11_IN178_KO12,18.htm?industryNId=10011\"\n",
    "\n",
    "driver.get(site)\n",
    "time.sleep(20)\n",
    "initialScroll = 0\n",
    "finalScroll = 1000\n",
    "start = time.time()\n",
    "while True:\n",
    "    driver.execute_script(f\"window.scrollTo({initialScroll}, {finalScroll})\")\n",
    "    initialScroll = finalScroll\n",
    "    finalScroll += 1000\n",
    "    time.sleep(3)\n",
    "    end = time.time()\n",
    "    if round(end - start) > 25:\n",
    "        break\n",
    "# src = driver.page_source\n",
    "jobs=[]\n",
    "\n",
    "try:                                # react-job-listing css-wp148e eigr9kq3\n",
    "    for i in range(2, 12):\n",
    "        # try:\n",
    "        job_desc_butt=driver.find_element(By.XPATH, '/html/body/div[2]/div/div/div/div/div[2]/section/article/div[1]/ul/li['+str(i)+']')\n",
    "        job_desc_butt.click()\n",
    "        time.sleep(7)\n",
    "        src = driver.page_source\n",
    "        soup = BeautifulSoup(src, 'lxml')\n",
    "        job_descript=soup.find('div', {'class':'jobDescriptionContent desc'})\n",
    "        # print(f'job desc is:   {job_descript}')\n",
    "        job_description=job_descript.get_text()\n",
    "        job_desc_Math_teacher[i]=job_description\n",
    "except Exception as e:\n",
    "    print(e)\n",
    "\n",
    "src = driver.page_source\n",
    "jobs=soup.find_all('li',{'class':\"react-job-listing css-wp148e eigr9kq3\"})"
   ]
  },
  {
   "cell_type": "code",
   "execution_count": 14,
   "metadata": {},
   "outputs": [
    {
     "data": {
      "text/plain": [
       "29"
      ]
     },
     "execution_count": 14,
     "metadata": {},
     "output_type": "execute_result"
    }
   ],
   "source": [
    "len(jobs)"
   ]
  },
  {
   "cell_type": "code",
   "execution_count": 15,
   "metadata": {},
   "outputs": [],
   "source": [
    "images=[]\n",
    "salaries=[]\n",
    "companies=[]\n",
    "job_titles=[]\n",
    "locations=[]"
   ]
  },
  {
   "cell_type": "code",
   "execution_count": 16,
   "metadata": {},
   "outputs": [
    {
     "name": "stdout",
     "output_type": "stream",
     "text": [
      "salaries_error--> 'NoneType' object has no attribute 'text'\n",
      "salaries_error--> 'NoneType' object has no attribute 'text'\n",
      "salaries_error--> 'NoneType' object has no attribute 'text'\n",
      "salaries_error--> 'NoneType' object has no attribute 'text'\n",
      "salaries_error--> 'NoneType' object has no attribute 'text'\n"
     ]
    }
   ],
   "source": [
    "for pro in jobs[1:11]:\n",
    "    try:\n",
    "        image=pro.find('img')['src']\n",
    "        images.append(image)\n",
    "    except Exception as e:\n",
    "        print(f\"images_error--> {e}\")\n",
    "        images.append(\"nan\")\n",
    "    try:\n",
    "        salary=pro.find('span', {\"data-test\":\"detailSalary\"}).text.strip()\n",
    "        salaries.append(salary)\n",
    "    except Exception as e:\n",
    "        print(f\"salaries_error--> {e}\")\n",
    "        salaries.append(\"nan\")\n",
    "    try:\n",
    "        company=pro.find('a', {\"class\":\"css-l2wjgv e1n63ojh0 jobLink\"}).text.strip()\n",
    "        companies.append(company)\n",
    "    except Exception as e:\n",
    "        print(f\"companies_error--> {e}\")\n",
    "        companies.append(\"nan\")\n",
    "    try:\n",
    "        job=pro.find('a', {\"class\":\"jobLink css-1rd3saf eigr9kq2\"}).text.strip()\n",
    "        job_titles.append(job)\n",
    "    except Exception as e:\n",
    "        print(f\"job_titles_error--> {e}\")\n",
    "        job_titles.append(\"nan\")\n",
    "    try:\n",
    "        loc=pro.find('span', {\"data-test\":\"emp-location\"}).text.strip()\n",
    "        locations.append(loc)\n",
    "    except Exception as e:\n",
    "        print(f\"locations_error--> {e}\")\n",
    "        locations.append(\"nan\")"
   ]
  },
  {
   "cell_type": "code",
   "execution_count": 17,
   "metadata": {},
   "outputs": [
    {
     "name": "stdout",
     "output_type": "stream",
     "text": [
      "10\n",
      "10\n",
      "10\n",
      "10\n",
      "10\n"
     ]
    }
   ],
   "source": [
    "print(len(salaries))\n",
    "print(len(companies))\n",
    "print(len(job_titles))\n",
    "print(len(locations))\n",
    "print(len(images))"
   ]
  },
  {
   "cell_type": "code",
   "execution_count": 18,
   "metadata": {},
   "outputs": [],
   "source": [
    "pros=[]\n",
    "cons=[]"
   ]
  },
  {
   "cell_type": "code",
   "execution_count": 176,
   "metadata": {},
   "outputs": [],
   "source": [
    "pros.append(['nan'])\n",
    "cons.append(['nan'])"
   ]
  },
  {
   "cell_type": "code",
   "execution_count": 19,
   "metadata": {},
   "outputs": [
    {
     "data": {
      "text/plain": [
       "0"
      ]
     },
     "execution_count": 19,
     "metadata": {},
     "output_type": "execute_result"
    }
   ],
   "source": [
    "len(pros)\n",
    "len(cons)"
   ]
  },
  {
   "cell_type": "code",
   "execution_count": 20,
   "metadata": {},
   "outputs": [
    {
     "name": "stdout",
     "output_type": "stream",
     "text": [
      "'NoneType' object has no attribute 'text'\n",
      "'NoneType' object has no attribute 'text'\n",
      "'NoneType' object has no attribute 'text'\n",
      "'NoneType' object has no attribute 'text'\n",
      "'NoneType' object has no attribute 'text'\n",
      "'NoneType' object has no attribute 'text'\n",
      "'NoneType' object has no attribute 'text'\n",
      "'NoneType' object has no attribute 'text'\n",
      "'NoneType' object has no attribute 'text'\n",
      "'NoneType' object has no attribute 'text'\n",
      "'NoneType' object has no attribute 'text'\n",
      "'NoneType' object has no attribute 'text'\n",
      "'NoneType' object has no attribute 'text'\n",
      "'NoneType' object has no attribute 'text'\n",
      "'NoneType' object has no attribute 'text'\n",
      "'NoneType' object has no attribute 'text'\n",
      "'NoneType' object has no attribute 'text'\n",
      "'NoneType' object has no attribute 'text'\n",
      "'NoneType' object has no attribute 'text'\n",
      "'NoneType' object has no attribute 'text'\n",
      "'NoneType' object has no attribute 'text'\n",
      "'NoneType' object has no attribute 'text'\n",
      "'NoneType' object has no attribute 'text'\n",
      "'NoneType' object has no attribute 'text'\n",
      "'NoneType' object has no attribute 'text'\n",
      "'NoneType' object has no attribute 'text'\n",
      "'NoneType' object has no attribute 'text'\n",
      "'NoneType' object has no attribute 'text'\n",
      "'NoneType' object has no attribute 'text'\n",
      "'NoneType' object has no attribute 'text'\n",
      "'NoneType' object has no attribute 'text'\n",
      "'NoneType' object has no attribute 'text'\n",
      "'NoneType' object has no attribute 'text'\n",
      "'NoneType' object has no attribute 'text'\n",
      "'NoneType' object has no attribute 'text'\n",
      "'NoneType' object has no attribute 'text'\n",
      "'NoneType' object has no attribute 'text'\n",
      "'NoneType' object has no attribute 'text'\n",
      "'NoneType' object has no attribute 'text'\n",
      "'NoneType' object has no attribute 'text'\n",
      "'NoneType' object has no attribute 'text'\n",
      "'NoneType' object has no attribute 'text'\n",
      "'NoneType' object has no attribute 'text'\n",
      "'NoneType' object has no attribute 'text'\n",
      "'NoneType' object has no attribute 'text'\n",
      "'NoneType' object has no attribute 'text'\n",
      "'NoneType' object has no attribute 'text'\n",
      "'NoneType' object has no attribute 'text'\n",
      "'NoneType' object has no attribute 'text'\n",
      "'NoneType' object has no attribute 'text'\n",
      "'NoneType' object has no attribute 'text'\n",
      "'NoneType' object has no attribute 'text'\n",
      "'NoneType' object has no attribute 'text'\n",
      "'NoneType' object has no attribute 'text'\n",
      "'NoneType' object has no attribute 'text'\n",
      "'NoneType' object has no attribute 'text'\n",
      "'NoneType' object has no attribute 'text'\n",
      "'NoneType' object has no attribute 'text'\n",
      "'NoneType' object has no attribute 'text'\n",
      "'NoneType' object has no attribute 'text'\n",
      "'NoneType' object has no attribute 'text'\n",
      "'NoneType' object has no attribute 'text'\n",
      "'NoneType' object has no attribute 'text'\n",
      "'NoneType' object has no attribute 'text'\n",
      "'NoneType' object has no attribute 'text'\n",
      "'NoneType' object has no attribute 'text'\n",
      "'NoneType' object has no attribute 'text'\n",
      "'NoneType' object has no attribute 'text'\n",
      "'NoneType' object has no attribute 'text'\n",
      "'NoneType' object has no attribute 'text'\n",
      "'NoneType' object has no attribute 'text'\n",
      "'NoneType' object has no attribute 'text'\n",
      "'NoneType' object has no attribute 'text'\n",
      "'NoneType' object has no attribute 'text'\n",
      "'NoneType' object has no attribute 'text'\n",
      "'NoneType' object has no attribute 'text'\n",
      "'NoneType' object has no attribute 'text'\n",
      "'NoneType' object has no attribute 'text'\n"
     ]
    }
   ],
   "source": [
    "from bs4 import BeautifulSoup\n",
    "import time\n",
    "from selenium.webdriver.chrome.options import Options\n",
    "from selenium import webdriver\n",
    "from selenium.webdriver.common.by import By\n",
    "options = Options()\n",
    "options.add_argument(\"user-data-dir=C:\\\\Users\\\\Username\\\\AppData\\\\Local\\\\Google\\\\Chrome\\\\User Data\")\n",
    "driver = webdriver.Chrome(options=options)\n",
    "site = \"https://www.glassdoor.com/Search/results.htm?keyword=&locId=178&locT=N&locName=Netherlands\"\n",
    "# location=\"Netherlands\"\n",
    "\n",
    "for comp in companies:   \n",
    "    driver.get(site)\n",
    "    time.sleep(20)                          #//*[@id=\"sc.keyword\"]\n",
    "    comp_input=driver.find_element(By.XPATH, '//*[@id=\"sc.keyword\"] ')  #//*[@id=\"sc.location\"]\n",
    "    time.sleep(5)\n",
    "    comp_input.click()\n",
    "    comp_input.clear()\n",
    "    comp_input.send_keys(comp)\n",
    "    time.sleep(5)\n",
    "\n",
    "    search_button=driver.find_element(By.XPATH, '//*[@id=\"scBar\"]/div/button')\n",
    "    search_button.click()\n",
    "    time.sleep(5)\n",
    "\n",
    "    first_comp=driver.find_element(By.XPATH, '//*[@id=\"Discover\"]/div/div/div[1]/div[1]/div[1]/a[1]')\n",
    "    first_comp.click()\n",
    "    time.sleep(5)\n",
    "                                                          #eiCell cell reviews \n",
    "    comp_review_button=driver.find_element(By.XPATH, '/html/body/div[3]/div/div/div/div/div/div/div[1]/article[1]/div[1]/div[2]/div/div[2]/div/div[1]/div/a[1]')\n",
    "    comp_review_button.click()\n",
    "    # //*[@id=\"EIProductHeaders\"]/div/a[1]\n",
    "    time.sleep(5)\n",
    "    \n",
    "    initialScroll = 0                    \n",
    "    finalScroll = 1000\n",
    "    start = time.time()\n",
    "    while True:\n",
    "        driver.execute_script(f\"window.scrollTo({initialScroll}, {finalScroll})\")\n",
    "        initialScroll = finalScroll\n",
    "        finalScroll += 1000\n",
    "        time.sleep(3)\n",
    "        end = time.time()\n",
    "        if round(end - start) > 20:\n",
    "            break\n",
    "    src = driver.page_source\n",
    "    soup = BeautifulSoup(src, 'lxml')\n",
    "\n",
    "    # Pros_s=soup.find_all('li',{'class':\"react-job-listing css-wp148e eigr9kq3\"})\n",
    "    \n",
    "    a =soup.find_all('p', {'class':\"mt-0 mb-0 pb v2__EIReviewDetailsV2__bodyColor v2__EIReviewDetailsV2__lineHeightLarge v2__EIReviewDetailsV2__isCollapsed\"})\n",
    "    \n",
    "    list_cons=[]\n",
    "    list_pros=[]\n",
    "    for i in a:\n",
    "        try:\n",
    "            list_cons.append(i.find('span', {'data-test':\"cons\"}).text.strip())\n",
    "        except Exception as e:\n",
    "            print(e)\n",
    "    for i in a:\n",
    "        try:\n",
    "            list_pros.append(i.find('span', {'data-test':\"pros\"}).text.strip())\n",
    "        except Exception as e:\n",
    "            print(e)\n",
    "    if len(list_cons)==0:\n",
    "        list_cons.append('NG')\n",
    "    if len(list_pros)==0:\n",
    "        list_pros.append('NG')\n",
    "\n",
    "    pros.append(list_pros)\n",
    "    cons.append(list_cons)\n",
    "driver.close()"
   ]
  },
  {
   "cell_type": "code",
   "execution_count": 21,
   "metadata": {},
   "outputs": [
    {
     "data": {
      "text/plain": [
       "10"
      ]
     },
     "execution_count": 21,
     "metadata": {},
     "output_type": "execute_result"
    }
   ],
   "source": [
    "len(list(job_desc_Math_teacher.values())[:17])"
   ]
  },
  {
   "cell_type": "code",
   "execution_count": 23,
   "metadata": {},
   "outputs": [],
   "source": [
    "import pandas as pd\n",
    "df = pd.DataFrame(\n",
    "    \n",
    ")"
   ]
  },
  {
   "cell_type": "code",
   "execution_count": 24,
   "metadata": {},
   "outputs": [],
   "source": [
    "df_teache=pd.DataFrame({\n",
    "    \"job_titles\":job_titles,\n",
    "    \"job_description\":list(job_desc_Math_teacher.values()),\n",
    "    \"images\":images,\n",
    "    \"locations\":locations,\n",
    "    \"salaries\":salaries,\n",
    "    \"companies\":companies,\n",
    "    \"pros\":pros,\n",
    "    \"cons\":cons\n",
    "    }\n",
    ")\n",
    "df_teache.to_csv(\"Legal_MATH_last.csv\", sep=',', index=False)"
   ]
  },
  {
   "cell_type": "code",
   "execution_count": 218,
   "metadata": {},
   "outputs": [
    {
     "data": {
      "text/plain": [
       "'LUMC'"
      ]
     },
     "execution_count": 218,
     "metadata": {},
     "output_type": "execute_result"
    }
   ],
   "source": [
    "a = \"Machine Learning Engineer?company=LUMC\"\n",
    "a.split('?')[1][8:]"
   ]
  },
  {
   "cell_type": "code",
   "execution_count": 206,
   "metadata": {},
   "outputs": [
    {
     "data": {
      "text/plain": [
       "pandas.core.frame.DataFrame"
      ]
     },
     "execution_count": 206,
     "metadata": {},
     "output_type": "execute_result"
    }
   ],
   "source": [
    "df_teachers"
   ]
  },
  {
   "cell_type": "code",
   "execution_count": 47,
   "metadata": {},
   "outputs": [
    {
     "name": "stdout",
     "output_type": "stream",
     "text": [
      "'NoneType' object has no attribute 'text'\n",
      "No complaint, except maybe the quality of the cantine, but then again the slection is really large.\n",
      "'NoneType' object has no attribute 'text'\n",
      "Life-work balance was not good, and overworking was common during weekends and holidays ..\n",
      "'NoneType' object has no attribute 'text'\n",
      "Hybrid status between employee and student Demanding load among personal project and education Flexibility of the programme (which is good) leads to intricate schedule sometimes\n",
      "'NoneType' object has no attribute 'text'\n",
      "nothing really that I can mention\n"
     ]
    }
   ],
   "source": [
    "list_cons=[]\n",
    "for i in a:\n",
    "    try:\n",
    "        print(i.find('span', {'data-test':\"cons\"}).text.strip())\n",
    "        list_cons.append(i.find('span', {'data-test':\"cons\"}).text.strip())\n",
    "    except Exception as e:\n",
    "        print(e)"
   ]
  },
  {
   "cell_type": "code",
   "execution_count": 49,
   "metadata": {},
   "outputs": [
    {
     "name": "stdout",
     "output_type": "stream",
     "text": [
      "Excellent work environment; great interaction with student, professors and researchers; great campus with sport center on site; Salary is fair particularly compared to other European countries\n",
      "'NoneType' object has no attribute 'text'\n",
      "Highly international environment and community. Lot of resources to do research. Good location and facilities. All collegas were very motivated and friendly. Get to work with top-level researchers.\n",
      "'NoneType' object has no attribute 'text'\n",
      "Protected environment Project is ongoing for the 2 years, and clear since the beginning Mentoring on personal and professional development Interesting workshops and trainings on communication, negotiation, leadership, etc.\n",
      "'NoneType' object has no attribute 'text'\n",
      "easy access to high technology instrumentation and research\n",
      "'NoneType' object has no attribute 'text'\n"
     ]
    }
   ],
   "source": [
    "list_pros=[]\n",
    "for i in a:\n",
    "    try:\n",
    "        print(i.find('span', {'data-test':\"pros\"}).text.strip())\n",
    "        list_cons.append(i.find('span', {'data-test':\"pros\"}).text.strip())\n",
    "    except Exception as e:\n",
    "        print(e)"
   ]
  },
  {
   "cell_type": "code",
   "execution_count": 210,
   "metadata": {},
   "outputs": [
    {
     "ename": "AttributeError",
     "evalue": "'str' object has no attribute 'to_frame'",
     "output_type": "error",
     "traceback": [
      "\u001b[1;31m---------------------------------------------------------------------------\u001b[0m",
      "\u001b[1;31mAttributeError\u001b[0m                            Traceback (most recent call last)",
      "Cell \u001b[1;32mIn [210], line 1\u001b[0m\n\u001b[1;32m----> 1\u001b[0m df_teachers\u001b[39m.\u001b[39;49mto_csv(\u001b[39m\"\u001b[39;49m\u001b[39mAI_MATH_last.csv\u001b[39;49m\u001b[39m\"\u001b[39;49m, sep\u001b[39m=\u001b[39;49m\u001b[39m'\u001b[39;49m\u001b[39m,\u001b[39;49m\u001b[39m'\u001b[39;49m, index\u001b[39m=\u001b[39;49m\u001b[39mFalse\u001b[39;49;00m)\n",
      "File \u001b[1;32mc:\\Users\\GitHub\\auto_send_question\\env\\lib\\site-packages\\pandas\\util\\_decorators.py:211\u001b[0m, in \u001b[0;36mdeprecate_kwarg.<locals>._deprecate_kwarg.<locals>.wrapper\u001b[1;34m(*args, **kwargs)\u001b[0m\n\u001b[0;32m    209\u001b[0m     \u001b[39melse\u001b[39;00m:\n\u001b[0;32m    210\u001b[0m         kwargs[new_arg_name] \u001b[39m=\u001b[39m new_arg_value\n\u001b[1;32m--> 211\u001b[0m \u001b[39mreturn\u001b[39;00m func(\u001b[39m*\u001b[39;49margs, \u001b[39m*\u001b[39;49m\u001b[39m*\u001b[39;49mkwargs)\n",
      "File \u001b[1;32mc:\\Users\\GitHub\\auto_send_question\\env\\lib\\site-packages\\pandas\\core\\generic.py:3709\u001b[0m, in \u001b[0;36mNDFrame.to_csv\u001b[1;34m(self, path_or_buf, sep, na_rep, float_format, columns, header, index, index_label, mode, encoding, compression, quoting, quotechar, lineterminator, chunksize, date_format, doublequote, escapechar, decimal, errors, storage_options)\u001b[0m\n\u001b[0;32m   3536\u001b[0m \u001b[39m@final\u001b[39m\n\u001b[0;32m   3537\u001b[0m \u001b[39m@doc\u001b[39m(\n\u001b[0;32m   3538\u001b[0m     storage_options\u001b[39m=\u001b[39m_shared_docs[\u001b[39m\"\u001b[39m\u001b[39mstorage_options\u001b[39m\u001b[39m\"\u001b[39m],\n\u001b[1;32m   (...)\u001b[0m\n\u001b[0;32m   3564\u001b[0m     storage_options: StorageOptions \u001b[39m=\u001b[39m \u001b[39mNone\u001b[39;00m,\n\u001b[0;32m   3565\u001b[0m ) \u001b[39m-\u001b[39m\u001b[39m>\u001b[39m \u001b[39mstr\u001b[39m \u001b[39m|\u001b[39m \u001b[39mNone\u001b[39;00m:\n\u001b[0;32m   3566\u001b[0m     \u001b[39mr\u001b[39m\u001b[39m\"\"\"\u001b[39;00m\n\u001b[0;32m   3567\u001b[0m \u001b[39m    Write object to a comma-separated values (csv) file.\u001b[39;00m\n\u001b[0;32m   3568\u001b[0m \n\u001b[1;32m   (...)\u001b[0m\n\u001b[0;32m   3707\u001b[0m \u001b[39m    >>> df.to_csv('folder/subfolder/out.csv')  # doctest: +SKIP\u001b[39;00m\n\u001b[0;32m   3708\u001b[0m \u001b[39m    \"\"\"\u001b[39;00m\n\u001b[1;32m-> 3709\u001b[0m     df \u001b[39m=\u001b[39m \u001b[39mself\u001b[39m \u001b[39mif\u001b[39;00m \u001b[39misinstance\u001b[39m(\u001b[39mself\u001b[39m, ABCDataFrame) \u001b[39melse\u001b[39;00m \u001b[39mself\u001b[39;49m\u001b[39m.\u001b[39;49mto_frame()\n\u001b[0;32m   3711\u001b[0m     formatter \u001b[39m=\u001b[39m DataFrameFormatter(\n\u001b[0;32m   3712\u001b[0m         frame\u001b[39m=\u001b[39mdf,\n\u001b[0;32m   3713\u001b[0m         header\u001b[39m=\u001b[39mheader,\n\u001b[1;32m   (...)\u001b[0m\n\u001b[0;32m   3717\u001b[0m         decimal\u001b[39m=\u001b[39mdecimal,\n\u001b[0;32m   3718\u001b[0m     )\n\u001b[0;32m   3720\u001b[0m     \u001b[39mreturn\u001b[39;00m DataFrameRenderer(formatter)\u001b[39m.\u001b[39mto_csv(\n\u001b[0;32m   3721\u001b[0m         path_or_buf,\n\u001b[0;32m   3722\u001b[0m         lineterminator\u001b[39m=\u001b[39mlineterminator,\n\u001b[1;32m   (...)\u001b[0m\n\u001b[0;32m   3736\u001b[0m         storage_options\u001b[39m=\u001b[39mstorage_options,\n\u001b[0;32m   3737\u001b[0m     )\n",
      "\u001b[1;31mAttributeError\u001b[0m: 'str' object has no attribute 'to_frame'"
     ]
    }
   ],
   "source": [
    "df_teachers.to_csv(\"AI_MATH_last.csv\", sep=',', index=False)"
   ]
  },
  {
   "cell_type": "code",
   "execution_count": 45,
   "metadata": {},
   "outputs": [],
   "source": [
    "options = Options()\n",
    "options.add_argument(\"user-data-dir=C:\\\\Users\\\\Username\\\\AppData\\\\Local\\\\Google\\\\Chrome\\\\User Data\")\n",
    "driver = webdriver.Chrome(options=options)\n",
    "\n",
    "driver.get(\"https://www.glassdoor.com/Overview/Working-at-TU-e-EI_IE156538.11,15.htm\")\n",
    "time.sleep(20)\n",
    "comp_review_button=driver.find_element(By.XPATH, '/html/body/div[3]/div/div/div/div/div/div/div[1]/article[1]/div[1]/div[2]/div/div[2]/div/div[1]/div/a[1]')\n",
    "comp_review_button.click()"
   ]
  },
  {
   "cell_type": "code",
   "execution_count": 63,
   "metadata": {},
   "outputs": [],
   "source": [
    "b = pd.DataFrame(a)"
   ]
  },
  {
   "cell_type": "code",
   "execution_count": 65,
   "metadata": {},
   "outputs": [
    {
     "data": {
      "text/plain": [
       "['a', 'b', 'c', 'd']"
      ]
     },
     "execution_count": 65,
     "metadata": {},
     "output_type": "execute_result"
    }
   ],
   "source": [
    "b.olma[100]"
   ]
  },
  {
   "cell_type": "code",
   "execution_count": 3,
   "metadata": {},
   "outputs": [],
   "source": [
    "import pandas as pd"
   ]
  },
  {
   "cell_type": "code",
   "execution_count": 4,
   "metadata": {},
   "outputs": [
    {
     "name": "stdout",
     "output_type": "stream",
     "text": [
      "<class 'pandas.core.frame.DataFrame'>\n",
      "RangeIndex: 2 entries, 0 to 1\n",
      "Data columns (total 74 columns):\n",
      " #   Column                                Non-Null Count  Dtype \n",
      "---  ------                                --------------  ----- \n",
      " 0   MT Engineering                        2 non-null      object\n",
      " 1   NLC                                   2 non-null      object\n",
      " 2   Solvay                                2 non-null      object\n",
      " 3   Advidi                                2 non-null      object\n",
      " 4   Aidence.com                           2 non-null      object\n",
      " 5   Layer                                 2 non-null      object\n",
      " 6   LUMC                                  2 non-null      object\n",
      " 7   TMC                                   2 non-null      object\n",
      " 8   GX Software                           2 non-null      object\n",
      " 9   Amelia                                2 non-null      object\n",
      " 10  PANCOMPANY                            2 non-null      object\n",
      " 11  Yokoy                                 2 non-null      object\n",
      " 12  ASML                                  2 non-null      object\n",
      " 13  Cognizant                             2 non-null      object\n",
      " 14  Capgemini                             2 non-null      object\n",
      " 15  Yokogawa                              2 non-null      object\n",
      " 16  Amsterdam UMC                         2 non-null      object\n",
      " 17  Accenture                             2 non-null      object\n",
      " 18  TU Delft                              2 non-null      object\n",
      " 19  Rabobank                              2 non-null      object\n",
      " 20  IG Design Group                       2 non-null      object\n",
      " 21  Synopsys                              2 non-null      object\n",
      " 22  Euflex                                2 non-null      object\n",
      " 23  OVSoftware                            2 non-null      object\n",
      " 24  Lumanity                              2 non-null      object\n",
      " 25  Thermo Fisher Scientific              2 non-null      object\n",
      " 26  Pula.io                               2 non-null      object\n",
      " 27  GiveDirectly                          2 non-null      object\n",
      " 28  HNM Solutions                         2 non-null      object\n",
      " 29  Shell                                 2 non-null      object\n",
      " 30  ING                                   2 non-null      object\n",
      " 31  Royal HaskoningDHV                    2 non-null      object\n",
      " 32  moyee coffee                          2 non-null      object\n",
      " 33  ABN AMRO                              2 non-null      object\n",
      " 34  Tilburg University                    2 non-null      object\n",
      " 35  Collective Benefits                   2 non-null      object\n",
      " 36  Radboudumc                            2 non-null      object\n",
      " 37  Erasmus MC                            2 non-null      object\n",
      " 38  UMCG                                  2 non-null      object\n",
      " 39  Amity International School Amsterdam  2 non-null      object\n",
      " 40  Adhocdocent                           2 non-null      object\n",
      " 41  American School of The Hague          2 non-null      object\n",
      " 42  International School of The Hague     2 non-null      object\n",
      " 43  Studytree                             2 non-null      object\n",
      " 44  TU Eindhoven                          2 non-null      object\n",
      " 45  Universiteit Leiden                   2 non-null      object\n",
      " 46  International School Groningen        2 non-null      object\n",
      " 47  Het Stedelijk Lyceum                  2 non-null      object\n",
      " 48  Rijksuniversiteit Groningen           2 non-null      object\n",
      " 49  Vrije Universiteit Amsterdam          2 non-null      object\n",
      " 50  Universiteit Twente                   2 non-null      object\n",
      " 51  NewGlobe                              2 non-null      object\n",
      " 52  Sowiso                                2 non-null      object\n",
      " 53  SOWISO                                2 non-null      object\n",
      " 54  KLM                                   2 non-null      object\n",
      " 55  Transavia                             2 non-null      object\n",
      " 56  Royal FloraHolland                    2 non-null      object\n",
      " 57  Brenger                               2 non-null      object\n",
      " 58  NS                                    2 non-null      object\n",
      " 59  Bullhorn, Inc.                        2 non-null      object\n",
      " 60  IKEA                                  2 non-null      object\n",
      " 61  KidsKonnect                           2 non-null      object\n",
      " 62  NXP Semiconductors                    2 non-null      object\n",
      " 63  Cloud Technology Solutions            2 non-null      object\n",
      " 64  TomTom                                2 non-null      object\n",
      " 65  Kryha                                 2 non-null      object\n",
      " 66  Cloudflight                           2 non-null      object\n",
      " 67  HousingAnywhere                       2 non-null      object\n",
      " 68  AgriPlace BV                          2 non-null      object\n",
      " 69  Canyon Bicycles                       2 non-null      object\n",
      " 70  WorldLine                             2 non-null      object\n",
      " 71  Mul BV ontwerpers & adviseurs         2 non-null      object\n",
      " 72  Emburse                               2 non-null      object\n",
      " 73  Canon Production Printing             2 non-null      object\n",
      "dtypes: object(74)\n",
      "memory usage: 1.3+ KB\n"
     ]
    }
   ],
   "source": [
    "df=pd.read_csv('df_companies_pros_cons.csv')"
   ]
  },
  {
   "cell_type": "code",
   "execution_count": 63,
   "metadata": {},
   "outputs": [
    {
     "data": {
      "text/plain": [
       "'Radboudumc'"
      ]
     },
     "execution_count": 63,
     "metadata": {},
     "output_type": "execute_result"
    }
   ],
   "source": [
    "df=pd.read_csv('datas/healthcare_MATH.csv')\n",
    "df.companies[0]"
   ]
  },
  {
   "cell_type": "code",
   "execution_count": 36,
   "metadata": {},
   "outputs": [],
   "source": [
    "from ast import literal_eval"
   ]
  },
  {
   "cell_type": "code",
   "execution_count": 51,
   "metadata": {},
   "outputs": [
    {
     "name": "stdout",
     "output_type": "stream",
     "text": [
      "MT Engineering\n",
      "NLC\n",
      "Solvay\n",
      "Advidi\n",
      "Aidence.com\n",
      "Layer\n",
      "LUMC\n",
      "TMC\n",
      "GX Software\n",
      "Amelia\n",
      "PANCOMPANY\n",
      "Yokoy\n",
      "ASML\n",
      "Cognizant\n",
      "Capgemini\n",
      "Yokogawa\n",
      "Amsterdam UMC\n",
      "Accenture\n",
      "TU Delft\n",
      "Rabobank\n",
      "IG Design Group\n",
      "Synopsys\n",
      "Euflex\n",
      "OVSoftware\n",
      "Lumanity\n",
      "Thermo Fisher Scientific\n",
      "Pula.io\n",
      "GiveDirectly\n",
      "HNM Solutions\n",
      "Shell\n",
      "ING\n",
      "Royal HaskoningDHV\n",
      "moyee coffee\n",
      "ABN AMRO\n",
      "Tilburg University\n",
      "Collective Benefits\n",
      "Radboudumc\n",
      "Erasmus MC\n",
      "UMCG\n",
      "Amity International School Amsterdam\n",
      "Adhocdocent\n",
      "American School of The Hague\n",
      "International School of The Hague\n",
      "Studytree\n",
      "TU Eindhoven\n",
      "Universiteit Leiden\n",
      "International School Groningen\n",
      "Het Stedelijk Lyceum\n",
      "Rijksuniversiteit Groningen\n",
      "Vrije Universiteit Amsterdam\n",
      "Universiteit Twente\n",
      "NewGlobe\n",
      "Sowiso\n",
      "SOWISO\n",
      "KLM\n",
      "Transavia\n",
      "Royal FloraHolland\n",
      "Brenger\n",
      "NS\n",
      "Bullhorn, Inc.\n",
      "IKEA\n",
      "KidsKonnect\n",
      "NXP Semiconductors\n",
      "Cloud Technology Solutions\n",
      "TomTom\n",
      "Kryha\n",
      "Cloudflight\n",
      "HousingAnywhere\n",
      "AgriPlace BV\n",
      "Canyon Bicycles\n",
      "WorldLine\n",
      "Mul BV ontwerpers & adviseurs\n",
      "Emburse\n",
      "Canon Production Printing\n"
     ]
    }
   ],
   "source": [
    "for i in df:\n",
    "    print(i)"
   ]
  },
  {
   "cell_type": "code",
   "execution_count": 54,
   "metadata": {},
   "outputs": [],
   "source": [
    "for i in df:\n",
    "    df[i] = df[i].apply(lambda x: literal_eval(x) if \"[\" in x else x)\n",
    "\n",
    "# df.NLC = df.NLC.apply(lambda x: literal_eval(x) if \"[\" in x else x)"
   ]
  },
  {
   "cell_type": "code",
   "execution_count": 56,
   "metadata": {},
   "outputs": [],
   "source": [
    "df.to_csv(\"separate_by_comma.csv\", sep=',',index=False)"
   ]
  },
  {
   "cell_type": "code",
   "execution_count": 60,
   "metadata": {},
   "outputs": [
    {
     "data": {
      "text/plain": [
       "'[\\'Good company to start with.\\\\r\\\\n Workmates are very helpful in everyone\\\\r\\\\n The workload is fine\\\\r\\\\n Better than handling a voice account in a BPO setup\\', \"All employees start at the entry level position and promotions are based on performance not seniority (or politics).\\\\r\\\\n\\\\r\\\\nGreat team environment! I come to work with all my friends every day and we have many events and fundraisers.  I know some of these people will be business partners of mine in the future because we all have one goal and work together.\\\\r\\\\n\\\\r\\\\nPerformance based pay is a huge plus for me because I know my hard work is rewarded, where as someone else who isn\\'t putting in the effort will not deserve the same as me. I\\'ve always liked to be acknowledged for what I accomplish and I get that at NLC.\\\\r\\\\n\\\\r\\\\nOpportunity is there for the taking to anyone who wants to come grab it. It\\'s hard to find a company that has grown as much as NLC has in a down economy.  I love that no one has ever been laid off so I feel stability here.\", \"I have been working for the organization for about a year now, and I feel like I have learned so much. I was a recent college graduate who wasn\\'t sure how to get started in the work force, but I knew I needed to gain business knowledge and skills. I was hired on the team at NLC, and I immediately started growing as a business professional. Along with the great mentoring and leadership program, there is an awesome company culture. Every week there are cool events planned that allows the employees to really get to know each other, which then makes the position that much more enjoyable. I am very excited for what the future holds with NLC, and I am glad to be a part of a growing organization.\", \\'NLC Inc. has been an amazing experience since I joined the team about a month ago. From day one, I shadowed one of the senior level sales managers and learned what a great opportunity this position entails. He showed me that with hard work, ambition and organization you can honestly achieve your goals. Through this job, I have met so many inspiring people and I really look forward to what NLC Inc. can teach me.\\', \\'Fun high energy and motivating, allot of useful skill to acquire . I loved going to work I would always have a good time if anything . Systems are easy to learn, learned allot about sales and management\\', \\'Great personnel, extremely friendly administrators, team-oriented environment, career oriented, charity outreach with Operation Smile.\\', \\'The company will either sell you on upward mobility, fun team environment, or money. Everyone who works here are awesome people. But that may be a by-product of the constant need to maintain a positive attitude due to the fact that it is door to door sales.\\', \"And amazing team, lots of room for self development, lots of opportunity for advancement, and you can make as much as you want to make, you just need to work hard. But you will get rewarded for hard work, and isn\\'t that the american dream?\", \\'They hire anyone at all.\\']'"
      ]
     },
     "execution_count": 60,
     "metadata": {},
     "output_type": "execute_result"
    }
   ],
   "source": [
    "v = pd.read_csv('separate_by_comma.csv')\n",
    "v.NLC[0]"
   ]
  },
  {
   "cell_type": "code",
   "execution_count": 46,
   "metadata": {},
   "outputs": [
    {
     "data": {
      "text/plain": [
       "list"
      ]
     },
     "execution_count": 46,
     "metadata": {},
     "output_type": "execute_result"
    }
   ],
   "source": [
    "type(df.NLC[0])"
   ]
  },
  {
   "cell_type": "code",
   "execution_count": 6,
   "metadata": {},
   "outputs": [
    {
     "data": {
      "text/plain": [
       "11"
      ]
     },
     "execution_count": 6,
     "metadata": {},
     "output_type": "execute_result"
    }
   ],
   "source": [
    "str_=\"\"\"Chemistry,Psychology,Architecture,Civil Engineering,Data science,Consulting,Sociologie,Marketing,Biologie,Politicologie,Elektrotechniek\"\"\"\n",
    "list_of_subjects=str_.split(',')\n",
    "len(list_of_subjects)"
   ]
  },
  {
   "cell_type": "code",
   "execution_count": 91,
   "metadata": {},
   "outputs": [],
   "source": [
    "recommended_jobs=\"\"\"associate technologist\n",
    "business analyst\n",
    "business consultant\n",
    "business technologies associate\n",
    "data analyst\n",
    "data engineer\n",
    "development engineer\n",
    "geophysicist\n",
    "graduate financial software developer\n",
    "industry data analyst\n",
    "instrumentation researcher and developer\n",
    "MWM consultant\n",
    "performance analyst\n",
    "software developer\n",
    "systems engineer\n",
    "technical director\n",
    "trainee project manager\n",
    "trainee solutions developer\"\"\"\n",
    "recommended_jobs_physics_and_astronomy"
   ]
  },
  {
   "cell_type": "code",
   "execution_count": 92,
   "metadata": {},
   "outputs": [],
   "source": [
    "recommended_jobs_physics_and_astronomy=recommended_jobs.split('\\n')"
   ]
  },
  {
   "cell_type": "code",
   "execution_count": 93,
   "metadata": {},
   "outputs": [
    {
     "data": {
      "text/plain": [
       "['associate technologist',\n",
       " 'business analyst',\n",
       " 'business consultant',\n",
       " 'business technologies associate',\n",
       " 'data analyst',\n",
       " 'data engineer',\n",
       " 'development engineer',\n",
       " 'geophysicist',\n",
       " 'graduate financial software developer',\n",
       " 'industry data analyst',\n",
       " 'instrumentation researcher and developer',\n",
       " 'MWM consultant',\n",
       " 'performance analyst',\n",
       " 'software developer',\n",
       " 'systems engineer',\n",
       " 'technical director',\n",
       " 'trainee project manager',\n",
       " 'trainee solutions developer']"
      ]
     },
     "execution_count": 93,
     "metadata": {},
     "output_type": "execute_result"
    }
   ],
   "source": [
    "recommended_jobs_physics_and_astronomy"
   ]
  },
  {
   "cell_type": "code",
   "execution_count": 35,
   "metadata": {},
   "outputs": [],
   "source": [
    "import pandas as pd\n",
    "aerospace_defence=pd.read_csv('aerospace_defence_MATH_last.csv')\n",
    "Economist_MATH=pd.read_csv('Economist_MATH_last.csv')\n",
    "Healthcare_MATH=pd.read_csv('Healthcare_MATH_last.csv')\n",
    "AI_MATH=pd.read_csv('AI_MATH_last.csv')\n",
    "Legal_MATH=pd.read_csv('Legal_MATH_last.csv')\n",
    "Teacher_MATH=pd.read_csv('Teacher_MATH_last.csv')"
   ]
  },
  {
   "cell_type": "code",
   "execution_count": 40,
   "metadata": {},
   "outputs": [],
   "source": [
    "a = aerospace_defence.to_dict()\n",
    "b = Economist_MATH.to_dict()\n",
    "c = Healthcare_MATH.to_dict()\n",
    "d = AI_MATH.to_dict()\n",
    "e = Legal_MATH.to_dict()\n",
    "f = Teacher_MATH.to_dict()"
   ]
  },
  {
   "cell_type": "code",
   "execution_count": 41,
   "metadata": {},
   "outputs": [],
   "source": [
    "q = pd.DataFrame({\n",
    "    'aerospace_defence_MATH':a,\n",
    "    'economist_MATH':b,\n",
    "    'healthcare_MATH':c,\n",
    "    'AI_MATH':d,\n",
    "    'legal_MATH':e,\n",
    "    'teacher_MATH':f,\n",
    "})"
   ]
  },
  {
   "cell_type": "code",
   "execution_count": 42,
   "metadata": {},
   "outputs": [
    {
     "data": {
      "text/html": [
       "<div>\n",
       "<style scoped>\n",
       "    .dataframe tbody tr th:only-of-type {\n",
       "        vertical-align: middle;\n",
       "    }\n",
       "\n",
       "    .dataframe tbody tr th {\n",
       "        vertical-align: top;\n",
       "    }\n",
       "\n",
       "    .dataframe thead th {\n",
       "        text-align: right;\n",
       "    }\n",
       "</style>\n",
       "<table border=\"1\" class=\"dataframe\">\n",
       "  <thead>\n",
       "    <tr style=\"text-align: right;\">\n",
       "      <th></th>\n",
       "      <th>aerospace_defence_MATH</th>\n",
       "      <th>economist_MATH</th>\n",
       "      <th>healthcare_MATH</th>\n",
       "      <th>AI_MATH</th>\n",
       "      <th>legal_MATH</th>\n",
       "      <th>teacher_MATH</th>\n",
       "    </tr>\n",
       "  </thead>\n",
       "  <tbody>\n",
       "    <tr>\n",
       "      <th>job_titles</th>\n",
       "      <td>{0: 'Studiedeal ICT', 1: 'Applicatie coördinat...</td>\n",
       "      <td>{0: 'Senior Health Economist', 1: 'Postdoc res...</td>\n",
       "      <td>{0: 'Zorgpad – ontwikkelaar Business Intellige...</td>\n",
       "      <td>{0: 'Test Engineer (Artificial Intelligence)',...</td>\n",
       "      <td>{0: 'Applicatiebeheerder', 1: 'Expert Gebruike...</td>\n",
       "      <td>{0: 'Teacher of Mathematics', 1: 'Middle Schoo...</td>\n",
       "    </tr>\n",
       "    <tr>\n",
       "      <th>job_description</th>\n",
       "      <td>{0: 'Ben jij bezig met een MBO 3/4- of HBO/WO-...</td>\n",
       "      <td>{0: 'Overview / About us:\n",
       "\n",
       "Lumanity is dedicat...</td>\n",
       "      <td>{0: 'Wij hebben een unieke positie binnen een ...</td>\n",
       "      <td>{0: 'Voor het AI team met 12 collega’s ga je d...</td>\n",
       "      <td>{0: 'Van applicatiebeheer tot trendanalyses en...</td>\n",
       "      <td>{0: 'Full-time · Senior School VoorschotenWe h...</td>\n",
       "    </tr>\n",
       "    <tr>\n",
       "      <th>images</th>\n",
       "      <td>{0: 'https://media.glassdoor.com/sql/473808/mi...</td>\n",
       "      <td>{0: 'https://media.glassdoor.com/sql/7007154/l...</td>\n",
       "      <td>{0: 'https://media.glassdoor.com/sql/706977/st...</td>\n",
       "      <td>{0: 'https://media.glassdoor.com/sql/379609/uw...</td>\n",
       "      <td>{0: 'https://media.glassdoor.com/sql/656476/be...</td>\n",
       "      <td>{0: nan, 1: 'https://media.glassdoor.com/sql/2...</td>\n",
       "    </tr>\n",
       "    <tr>\n",
       "      <th>locations</th>\n",
       "      <td>{0: 'Netherlands', 1: 'Utrecht', 2: 'The Hague...</td>\n",
       "      <td>{0: 'Utrecht', 1: 'Tilburg', 2: 'Bennekom', 3:...</td>\n",
       "      <td>{0: 'Utrecht', 1: 'Leiden', 2: 'Nijmegen', 3: ...</td>\n",
       "      <td>{0: 'Amsterdam', 1: 'Gelderland', 2: 'Eindhove...</td>\n",
       "      <td>{0: 'Apeldoorn', 1: 'Utrecht', 2: 'Utrecht', 3...</td>\n",
       "      <td>{0: 'The Hague', 1: 'Wassenaar', 2: 'Netherlan...</td>\n",
       "    </tr>\n",
       "    <tr>\n",
       "      <th>salaries</th>\n",
       "      <td>{0: nan, 1: nan, 2: nan, 3: nan, 4: nan, 5: '€...</td>\n",
       "      <td>{0: nan, 1: nan, 2: nan, 3: nan, 4: nan, 5: na...</td>\n",
       "      <td>{0: nan, 1: '€5K (Employer est.)', 2: '€5K - €...</td>\n",
       "      <td>{0: '€5K (Employer est.)', 1: nan, 2: '€60K (E...</td>\n",
       "      <td>{0: '€4K - €5K (Employer est.)', 1: '€3K - €4K...</td>\n",
       "      <td>{0: nan, 1: nan, 2: '€3K - €5K (Employer est.)...</td>\n",
       "    </tr>\n",
       "  </tbody>\n",
       "</table>\n",
       "</div>"
      ],
      "text/plain": [
       "                                            aerospace_defence_MATH  \\\n",
       "job_titles       {0: 'Studiedeal ICT', 1: 'Applicatie coördinat...   \n",
       "job_description  {0: 'Ben jij bezig met een MBO 3/4- of HBO/WO-...   \n",
       "images           {0: 'https://media.glassdoor.com/sql/473808/mi...   \n",
       "locations        {0: 'Netherlands', 1: 'Utrecht', 2: 'The Hague...   \n",
       "salaries         {0: nan, 1: nan, 2: nan, 3: nan, 4: nan, 5: '€...   \n",
       "\n",
       "                                                    economist_MATH  \\\n",
       "job_titles       {0: 'Senior Health Economist', 1: 'Postdoc res...   \n",
       "job_description  {0: 'Overview / About us:\n",
       "\n",
       "Lumanity is dedicat...   \n",
       "images           {0: 'https://media.glassdoor.com/sql/7007154/l...   \n",
       "locations        {0: 'Utrecht', 1: 'Tilburg', 2: 'Bennekom', 3:...   \n",
       "salaries         {0: nan, 1: nan, 2: nan, 3: nan, 4: nan, 5: na...   \n",
       "\n",
       "                                                   healthcare_MATH  \\\n",
       "job_titles       {0: 'Zorgpad – ontwikkelaar Business Intellige...   \n",
       "job_description  {0: 'Wij hebben een unieke positie binnen een ...   \n",
       "images           {0: 'https://media.glassdoor.com/sql/706977/st...   \n",
       "locations        {0: 'Utrecht', 1: 'Leiden', 2: 'Nijmegen', 3: ...   \n",
       "salaries         {0: nan, 1: '€5K (Employer est.)', 2: '€5K - €...   \n",
       "\n",
       "                                                           AI_MATH  \\\n",
       "job_titles       {0: 'Test Engineer (Artificial Intelligence)',...   \n",
       "job_description  {0: 'Voor het AI team met 12 collega’s ga je d...   \n",
       "images           {0: 'https://media.glassdoor.com/sql/379609/uw...   \n",
       "locations        {0: 'Amsterdam', 1: 'Gelderland', 2: 'Eindhove...   \n",
       "salaries         {0: '€5K (Employer est.)', 1: nan, 2: '€60K (E...   \n",
       "\n",
       "                                                        legal_MATH  \\\n",
       "job_titles       {0: 'Applicatiebeheerder', 1: 'Expert Gebruike...   \n",
       "job_description  {0: 'Van applicatiebeheer tot trendanalyses en...   \n",
       "images           {0: 'https://media.glassdoor.com/sql/656476/be...   \n",
       "locations        {0: 'Apeldoorn', 1: 'Utrecht', 2: 'Utrecht', 3...   \n",
       "salaries         {0: '€4K - €5K (Employer est.)', 1: '€3K - €4K...   \n",
       "\n",
       "                                                      teacher_MATH  \n",
       "job_titles       {0: 'Teacher of Mathematics', 1: 'Middle Schoo...  \n",
       "job_description  {0: 'Full-time · Senior School VoorschotenWe h...  \n",
       "images           {0: nan, 1: 'https://media.glassdoor.com/sql/2...  \n",
       "locations        {0: 'The Hague', 1: 'Wassenaar', 2: 'Netherlan...  \n",
       "salaries         {0: nan, 1: nan, 2: '€3K - €5K (Employer est.)...  "
      ]
     },
     "execution_count": 42,
     "metadata": {},
     "output_type": "execute_result"
    }
   ],
   "source": [
    "q.head()"
   ]
  },
  {
   "cell_type": "code",
   "execution_count": 48,
   "metadata": {},
   "outputs": [],
   "source": [
    "atics=pd.DataFrame({\n",
    "    \"MATH\":q.to_dict()\n",
    "})"
   ]
  },
  {
   "cell_type": "code",
   "execution_count": 56,
   "metadata": {},
   "outputs": [
    {
     "data": {
      "text/plain": [
       "'Test Engineer (Artificial Intelligence)'"
      ]
     },
     "execution_count": 56,
     "metadata": {},
     "output_type": "execute_result"
    }
   ],
   "source": [
    "atics.MATH.AI_MATH['job_titles'][0]"
   ]
  },
  {
   "cell_type": "code",
   "execution_count": 58,
   "metadata": {},
   "outputs": [],
   "source": [
    "atics.to_csv(\"data.csv\", sep=',',index=False)"
   ]
  },
  {
   "attachments": {},
   "cell_type": "markdown",
   "metadata": {},
   "source": [
    "BioChemistry, Math, Bilogy, Physics, Art_History, Chemistry"
   ]
  }
 ],
 "metadata": {
  "kernelspec": {
   "display_name": "Python 3.8.8 ('env': venv)",
   "language": "python",
   "name": "python3"
  },
  "language_info": {
   "codemirror_mode": {
    "name": "ipython",
    "version": 3
   },
   "file_extension": ".py",
   "mimetype": "text/x-python",
   "name": "python",
   "nbconvert_exporter": "python",
   "pygments_lexer": "ipython3",
   "version": "3.8.8"
  },
  "orig_nbformat": 4,
  "vscode": {
   "interpreter": {
    "hash": "37dc490a9dff469767c7f0ed35d5ac1c85582e79abad14c432e12386cc4b1e5f"
   }
  }
 },
 "nbformat": 4,
 "nbformat_minor": 2
}
