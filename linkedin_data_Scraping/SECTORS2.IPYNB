{
 "cells": [
  {
   "cell_type": "code",
   "execution_count": 11,
   "metadata": {},
   "outputs": [
    {
     "name": "stderr",
     "output_type": "stream",
     "text": [
      "C:\\Users\\fayyo\\AppData\\Local\\Temp\\ipykernel_10452\\1083021642.py:10: DeprecationWarning: executable_path has been deprecated, please pass in a Service object\n",
      "  driver = webdriver.Chrome(options=options,executable_path='C:/Users/fayyo/Downloads/chromedriver.exe')\n"
     ]
    },
    {
     "name": "stdout",
     "output_type": "stream",
     "text": [
      "I am done ---> Spain\n",
      "I am done ---> Sri Lanka\n"
     ]
    },
    {
     "ename": "WebDriverException",
     "evalue": "Message: unknown error: net::ERR_NAME_NOT_RESOLVED\n  (Session info: chrome=116.0.5845.111)\nStacktrace:\n\tGetHandleVerifier [0x007C37C3+48947]\n\t(No symbol) [0x00758551]\n\t(No symbol) [0x0065C92D]\n\t(No symbol) [0x0065919A]\n\t(No symbol) [0x0064EB79]\n\t(No symbol) [0x0064FB48]\n\t(No symbol) [0x0064EE55]\n\t(No symbol) [0x0064E218]\n\t(No symbol) [0x0064E1BA]\n\t(No symbol) [0x0064D09F]\n\t(No symbol) [0x0064D678]\n\t(No symbol) [0x0065E10A]\n\t(No symbol) [0x006B7B71]\n\t(No symbol) [0x006A508C]\n\t(No symbol) [0x006B75DA]\n\t(No symbol) [0x006A4E86]\n\t(No symbol) [0x006816C7]\n\t(No symbol) [0x0068284D]\n\tGetHandleVerifier [0x00A0FDF9+2458985]\n\tGetHandleVerifier [0x00A5744F+2751423]\n\tGetHandleVerifier [0x00A51361+2726609]\n\tGetHandleVerifier [0x00840680+560624]\n\t(No symbol) [0x0076238C]\n\t(No symbol) [0x0075E268]\n\t(No symbol) [0x0075E392]\n\t(No symbol) [0x007510B7]\n\tBaseThreadInitThunk [0x75E600C9+25]\n\tRtlGetAppContainerNamedObjectPath [0x77137B1E+286]\n\tRtlGetAppContainerNamedObjectPath [0x77137AEE+238]\n",
     "output_type": "error",
     "traceback": [
      "\u001b[1;31m---------------------------------------------------------------------------\u001b[0m",
      "\u001b[1;31mNoSuchElementException\u001b[0m                    Traceback (most recent call last)",
      "Cell \u001b[1;32mIn[11], line 40\u001b[0m\n\u001b[0;32m     39\u001b[0m \u001b[39mtry\u001b[39;00m:\n\u001b[1;32m---> 40\u001b[0m     next_button \u001b[39m=\u001b[39m driver\u001b[39m.\u001b[39;49mfind_element(By\u001b[39m.\u001b[39;49mXPATH, \u001b[39m'\u001b[39;49m\u001b[39m//*[@id=\u001b[39;49m\u001b[39m\"\u001b[39;49m\u001b[39mpnnext\u001b[39;49m\u001b[39m\"\u001b[39;49m\u001b[39m]\u001b[39;49m\u001b[39m'\u001b[39;49m) \u001b[39m# clicking next button \u001b[39;00m\n\u001b[0;32m     41\u001b[0m     next_button\u001b[39m.\u001b[39mclick()\n",
      "File \u001b[1;32mc:\\Users\\GitHub\\Bots_using_selenium\\venv\\lib\\site-packages\\selenium\\webdriver\\remote\\webdriver.py:831\u001b[0m, in \u001b[0;36mWebDriver.find_element\u001b[1;34m(self, by, value)\u001b[0m\n\u001b[0;32m    829\u001b[0m     value \u001b[39m=\u001b[39m \u001b[39mf\u001b[39m\u001b[39m'\u001b[39m\u001b[39m[name=\u001b[39m\u001b[39m\"\u001b[39m\u001b[39m{\u001b[39;00mvalue\u001b[39m}\u001b[39;00m\u001b[39m\"\u001b[39m\u001b[39m]\u001b[39m\u001b[39m'\u001b[39m\n\u001b[1;32m--> 831\u001b[0m \u001b[39mreturn\u001b[39;00m \u001b[39mself\u001b[39;49m\u001b[39m.\u001b[39;49mexecute(Command\u001b[39m.\u001b[39;49mFIND_ELEMENT, {\u001b[39m\"\u001b[39;49m\u001b[39musing\u001b[39;49m\u001b[39m\"\u001b[39;49m: by, \u001b[39m\"\u001b[39;49m\u001b[39mvalue\u001b[39;49m\u001b[39m\"\u001b[39;49m: value})[\u001b[39m\"\u001b[39m\u001b[39mvalue\u001b[39m\u001b[39m\"\u001b[39m]\n",
      "File \u001b[1;32mc:\\Users\\GitHub\\Bots_using_selenium\\venv\\lib\\site-packages\\selenium\\webdriver\\remote\\webdriver.py:440\u001b[0m, in \u001b[0;36mWebDriver.execute\u001b[1;34m(self, driver_command, params)\u001b[0m\n\u001b[0;32m    439\u001b[0m \u001b[39mif\u001b[39;00m response:\n\u001b[1;32m--> 440\u001b[0m     \u001b[39mself\u001b[39;49m\u001b[39m.\u001b[39;49merror_handler\u001b[39m.\u001b[39;49mcheck_response(response)\n\u001b[0;32m    441\u001b[0m     response[\u001b[39m\"\u001b[39m\u001b[39mvalue\u001b[39m\u001b[39m\"\u001b[39m] \u001b[39m=\u001b[39m \u001b[39mself\u001b[39m\u001b[39m.\u001b[39m_unwrap_value(response\u001b[39m.\u001b[39mget(\u001b[39m\"\u001b[39m\u001b[39mvalue\u001b[39m\u001b[39m\"\u001b[39m, \u001b[39mNone\u001b[39;00m))\n",
      "File \u001b[1;32mc:\\Users\\GitHub\\Bots_using_selenium\\venv\\lib\\site-packages\\selenium\\webdriver\\remote\\errorhandler.py:245\u001b[0m, in \u001b[0;36mErrorHandler.check_response\u001b[1;34m(self, response)\u001b[0m\n\u001b[0;32m    244\u001b[0m     \u001b[39mraise\u001b[39;00m exception_class(message, screen, stacktrace, alert_text)  \u001b[39m# type: ignore[call-arg]  # mypy is not smart enough here\u001b[39;00m\n\u001b[1;32m--> 245\u001b[0m \u001b[39mraise\u001b[39;00m exception_class(message, screen, stacktrace)\n",
      "\u001b[1;31mNoSuchElementException\u001b[0m: Message: no such element: Unable to locate element: {\"method\":\"xpath\",\"selector\":\"//*[@id=\"pnnext\"]\"}\n  (Session info: chrome=116.0.5845.111)\nStacktrace:\n\tGetHandleVerifier [0x007C37C3+48947]\n\t(No symbol) [0x00758551]\n\t(No symbol) [0x0065C92D]\n\t(No symbol) [0x00689E38]\n\t(No symbol) [0x00689EFB]\n\t(No symbol) [0x006B8EF2]\n\t(No symbol) [0x006A50D4]\n\t(No symbol) [0x006B75DA]\n\t(No symbol) [0x006A4E86]\n\t(No symbol) [0x006816C7]\n\t(No symbol) [0x0068284D]\n\tGetHandleVerifier [0x00A0FDF9+2458985]\n\tGetHandleVerifier [0x00A5744F+2751423]\n\tGetHandleVerifier [0x00A51361+2726609]\n\tGetHandleVerifier [0x00840680+560624]\n\t(No symbol) [0x0076238C]\n\t(No symbol) [0x0075E268]\n\t(No symbol) [0x0075E392]\n\t(No symbol) [0x007510B7]\n\tBaseThreadInitThunk [0x75E600C9+25]\n\tRtlGetAppContainerNamedObjectPath [0x77137B1E+286]\n\tRtlGetAppContainerNamedObjectPath [0x77137AEE+238]\n",
      "\nDuring handling of the above exception, another exception occurred:\n",
      "\u001b[1;31mWebDriverException\u001b[0m                        Traceback (most recent call last)",
      "Cell \u001b[1;32mIn[11], line 43\u001b[0m\n\u001b[0;32m     41\u001b[0m             next_button\u001b[39m.\u001b[39mclick()\n\u001b[0;32m     42\u001b[0m         \u001b[39mexcept\u001b[39;00m \u001b[39mException\u001b[39;00m \u001b[39mas\u001b[39;00m e:\n\u001b[1;32m---> 43\u001b[0m             driver\u001b[39m.\u001b[39;49mget(\u001b[39mf\u001b[39;49m\u001b[39m'\u001b[39;49m\u001b[39mhttps://www.google.com/search?q=site:nl.linkedin.com/in/+AND+%22\u001b[39;49m\u001b[39m{\u001b[39;49;00mitem\u001b[39m}\u001b[39;49;00m\u001b[39m+AND+%22\u001b[39;49m\u001b[39m{\u001b[39;49;00mstudy\u001b[39m}\u001b[39;49;00m\u001b[39m'\u001b[39;49m)\n\u001b[0;32m     45\u001b[0m         n \u001b[39m-\u001b[39m\u001b[39m=\u001b[39m \u001b[39m1\u001b[39m\n\u001b[0;32m     46\u001b[0m df \u001b[39m=\u001b[39m pd\u001b[39m.\u001b[39mDataFrame({\n\u001b[0;32m     47\u001b[0m     \u001b[39m\"\u001b[39m\u001b[39mlinks\u001b[39m\u001b[39m\"\u001b[39m:links\n\u001b[0;32m     48\u001b[0m })\n",
      "File \u001b[1;32mc:\\Users\\GitHub\\Bots_using_selenium\\venv\\lib\\site-packages\\selenium\\webdriver\\remote\\webdriver.py:449\u001b[0m, in \u001b[0;36mWebDriver.get\u001b[1;34m(self, url)\u001b[0m\n\u001b[0;32m    447\u001b[0m \u001b[39mdef\u001b[39;00m \u001b[39mget\u001b[39m(\u001b[39mself\u001b[39m, url: \u001b[39mstr\u001b[39m) \u001b[39m-\u001b[39m\u001b[39m>\u001b[39m \u001b[39mNone\u001b[39;00m:\n\u001b[0;32m    448\u001b[0m \u001b[39m    \u001b[39m\u001b[39m\"\"\"Loads a web page in the current browser session.\"\"\"\u001b[39;00m\n\u001b[1;32m--> 449\u001b[0m     \u001b[39mself\u001b[39;49m\u001b[39m.\u001b[39;49mexecute(Command\u001b[39m.\u001b[39;49mGET, {\u001b[39m\"\u001b[39;49m\u001b[39murl\u001b[39;49m\u001b[39m\"\u001b[39;49m: url})\n",
      "File \u001b[1;32mc:\\Users\\GitHub\\Bots_using_selenium\\venv\\lib\\site-packages\\selenium\\webdriver\\remote\\webdriver.py:440\u001b[0m, in \u001b[0;36mWebDriver.execute\u001b[1;34m(self, driver_command, params)\u001b[0m\n\u001b[0;32m    438\u001b[0m response \u001b[39m=\u001b[39m \u001b[39mself\u001b[39m\u001b[39m.\u001b[39mcommand_executor\u001b[39m.\u001b[39mexecute(driver_command, params)\n\u001b[0;32m    439\u001b[0m \u001b[39mif\u001b[39;00m response:\n\u001b[1;32m--> 440\u001b[0m     \u001b[39mself\u001b[39;49m\u001b[39m.\u001b[39;49merror_handler\u001b[39m.\u001b[39;49mcheck_response(response)\n\u001b[0;32m    441\u001b[0m     response[\u001b[39m\"\u001b[39m\u001b[39mvalue\u001b[39m\u001b[39m\"\u001b[39m] \u001b[39m=\u001b[39m \u001b[39mself\u001b[39m\u001b[39m.\u001b[39m_unwrap_value(response\u001b[39m.\u001b[39mget(\u001b[39m\"\u001b[39m\u001b[39mvalue\u001b[39m\u001b[39m\"\u001b[39m, \u001b[39mNone\u001b[39;00m))\n\u001b[0;32m    442\u001b[0m     \u001b[39mreturn\u001b[39;00m response\n",
      "File \u001b[1;32mc:\\Users\\GitHub\\Bots_using_selenium\\venv\\lib\\site-packages\\selenium\\webdriver\\remote\\errorhandler.py:245\u001b[0m, in \u001b[0;36mErrorHandler.check_response\u001b[1;34m(self, response)\u001b[0m\n\u001b[0;32m    243\u001b[0m         alert_text \u001b[39m=\u001b[39m value[\u001b[39m\"\u001b[39m\u001b[39malert\u001b[39m\u001b[39m\"\u001b[39m]\u001b[39m.\u001b[39mget(\u001b[39m\"\u001b[39m\u001b[39mtext\u001b[39m\u001b[39m\"\u001b[39m)\n\u001b[0;32m    244\u001b[0m     \u001b[39mraise\u001b[39;00m exception_class(message, screen, stacktrace, alert_text)  \u001b[39m# type: ignore[call-arg]  # mypy is not smart enough here\u001b[39;00m\n\u001b[1;32m--> 245\u001b[0m \u001b[39mraise\u001b[39;00m exception_class(message, screen, stacktrace)\n",
      "\u001b[1;31mWebDriverException\u001b[0m: Message: unknown error: net::ERR_NAME_NOT_RESOLVED\n  (Session info: chrome=116.0.5845.111)\nStacktrace:\n\tGetHandleVerifier [0x007C37C3+48947]\n\t(No symbol) [0x00758551]\n\t(No symbol) [0x0065C92D]\n\t(No symbol) [0x0065919A]\n\t(No symbol) [0x0064EB79]\n\t(No symbol) [0x0064FB48]\n\t(No symbol) [0x0064EE55]\n\t(No symbol) [0x0064E218]\n\t(No symbol) [0x0064E1BA]\n\t(No symbol) [0x0064D09F]\n\t(No symbol) [0x0064D678]\n\t(No symbol) [0x0065E10A]\n\t(No symbol) [0x006B7B71]\n\t(No symbol) [0x006A508C]\n\t(No symbol) [0x006B75DA]\n\t(No symbol) [0x006A4E86]\n\t(No symbol) [0x006816C7]\n\t(No symbol) [0x0068284D]\n\tGetHandleVerifier [0x00A0FDF9+2458985]\n\tGetHandleVerifier [0x00A5744F+2751423]\n\tGetHandleVerifier [0x00A51361+2726609]\n\tGetHandleVerifier [0x00840680+560624]\n\t(No symbol) [0x0076238C]\n\t(No symbol) [0x0075E268]\n\t(No symbol) [0x0075E392]\n\t(No symbol) [0x007510B7]\n\tBaseThreadInitThunk [0x75E600C9+25]\n\tRtlGetAppContainerNamedObjectPath [0x77137B1E+286]\n\tRtlGetAppContainerNamedObjectPath [0x77137AEE+238]\n"
     ]
    }
   ],
   "source": [
    "from selenium.webdriver.common.by import By\n",
    "from selenium.webdriver.chrome.options import Options\n",
    "from selenium import webdriver\n",
    "import time\n",
    "import pandas as pd\n",
    "\n",
    "options = Options()\n",
    "options.add_argument(\"user-data-dir=C:/Users/dell/AppData/Local/Google/Chrome/User Data/Profile 21\")\n",
    "                                                        #C:\\Users\\fayyo\\Downloads\\chromedriver-win32.zip\\chromedriver-win32\n",
    "driver = webdriver.Chrome(options=options,executable_path='C:/Users/fayyo/Downloads/chromedriver.exe')\n",
    "# country names\n",
    "list_items = [\n",
    "     \"Spain\", \"Sri Lanka\", \"Sudan\", \"Suriname\", \"Sweden\", \"Switzerland\",\n",
    "    \"Syria\", \"Taiwan\", \"Tajikistan\", \"Tanzania\", \"Thailand\", \"Timor-Leste\", \"Togo\", \"Tonga\", \"Trinidad and Tobago\",\n",
    "    \"Tunisia\", \"Turkey\", \"Turkmenistan\", \"Tuvalu\", \"Uganda\", \"Ukraine\", \"United Arab Emirates\", \"United Kingdom\",\n",
    "    \"United States\", \"Uruguay\", \"Uzbekistan\", \"Vanuatu\", \"Vatican City\", \"Venezuela\", \"Vietnam\", \"Yemen\",\n",
    "    \"Zambia\", \"Zimbabwe\"\n",
    "]\n",
    "for item  in list_items[:]:\n",
    "    links = [] # save links here\n",
    "    for study in ['master', 'bachelor']:\n",
    "        driver.get(f'https://www.google.com/search?q=site:nl.linkedin.com/in/+AND+%22{item}+AND+%22{study}')\n",
    "        time.sleep(10) # to make slower \n",
    "        n=30\n",
    "        while n > 0:\n",
    "            time.sleep(5)\n",
    "            for i in range(1, 11): # google uses paginator, every page has 10 urls\n",
    "                time.sleep(6)\n",
    "                try:    #/html/body/div[6]/div/div[13]/div/div[2]/div[2]/div/div/div[1]/div/div/div[1]/div/div/a\n",
    "                    elems = driver.find_elements(By.XPATH, '/html/body/div[6]/div/div[12]/div/div[2]/div[2]/div/div/div['+str(i)+']/div/div/div[1]/div/div/a')\n",
    "                    for elem in elems:                     #/html/body/div[6]/div/div[12]/div/div[2]/div[2]/div/div/div[3]/div/div/div[1]/div/div/a\n",
    "                        clean_url = elem.get_attribute(\"href\") # extracting url \n",
    "                        base_url = \"linkedin.com/in/\"\n",
    "                        if clean_url.find(base_url) != -1 and '%' not in clean_url: # sometimes google gives no Ln urls, so clean it\n",
    "                            links.append(clean_url)\n",
    "                except Exception as e:\n",
    "                    print(\"problem with ELEMS\")\n",
    "                    pass\n",
    "            try:\n",
    "                next_button = driver.find_element(By.XPATH, '//*[@id=\"pnnext\"]') # clicking next button \n",
    "                next_button.click()\n",
    "            except Exception as e:\n",
    "                driver.get(f'https://www.google.com/search?q=site:nl.linkedin.com/in/+AND+%22{item}+AND+%22{study}')\n",
    "    \n",
    "            n -= 1\n",
    "    df = pd.DataFrame({\n",
    "        \"links\":links\n",
    "    })\n",
    "    df1=pd.read_csv('datas/Fayyoz_links/data_Fayyoz.csv')\n",
    "    df_sum=pd.concat([df1, df], axis=0, ignore_index=True)\n",
    "    df_sum = df_sum.drop_duplicates()\n",
    "    df_sum.to_csv(f'datas/Fayyoz_links/data_Fayyoz.csv', index=False)\n",
    "    print(f'I am done ---> {item}')\n"
   ]
  },
  {
   "cell_type": "code",
   "execution_count": 10,
   "metadata": {},
   "outputs": [
    {
     "name": "stdout",
     "output_type": "stream",
     "text": [
      "I am done ---> South Sudan\n"
     ]
    }
   ],
   "source": [
    "df = pd.DataFrame({\n",
    "    \"links\":links\n",
    "})\n",
    "df1=pd.read_csv('datas/Fayyoz_links/data_Fayyoz.csv')\n",
    "df_sum=pd.concat([df1, df], axis=0, ignore_index=True)\n",
    "df_sum = df_sum.drop_duplicates()\n",
    "df_sum.to_csv(f'datas/Fayyoz_links/data_Fayyoz.csv', index=False)\n",
    "print(f'I am done ---> {item}')"
   ]
  }
 ],
 "metadata": {
  "kernelspec": {
   "display_name": "venv",
   "language": "python",
   "name": "python3"
  },
  "language_info": {
   "codemirror_mode": {
    "name": "ipython",
    "version": 3
   },
   "file_extension": ".py",
   "mimetype": "text/x-python",
   "name": "python",
   "nbconvert_exporter": "python",
   "pygments_lexer": "ipython3",
   "version": "3.8.8"
  },
  "orig_nbformat": 4
 },
 "nbformat": 4,
 "nbformat_minor": 2
}
