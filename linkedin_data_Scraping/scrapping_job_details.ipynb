{
 "cells": [
  {
   "cell_type": "code",
   "execution_count": 53,
   "metadata": {},
   "outputs": [
    {
     "name": "stderr",
     "output_type": "stream",
     "text": [
      "C:\\Users\\fayyo\\AppData\\Local\\Temp\\ipykernel_4288\\1989218971.py:15: DeprecationWarning: executable_path has been deprecated, please pass in a Service object\n",
      "  driver = webdriver.Chrome(options=options,executable_path='C:/User/fayyo/chromedriver')\n",
      "Incompatible release of chromedriver (version 111.0.5563.64) detected in PATH: c:\\Users\\GitHub\\Bots_using_selenium\\linkedin_data_Scraping\\chromedriver.exe\n"
     ]
    },
    {
     "name": "stdout",
     "output_type": "stream",
     "text": [
      "<div class=\"location mt-xxsm\" data-test=\"emp-location\">California</div>\n",
      "salaries_error--> 'NoneType' object has no attribute 'text'\n",
      "<div class=\"location mt-xxsm\" data-test=\"emp-location\">United States</div>\n",
      "<div class=\"location mt-xxsm\" data-test=\"emp-location\">Austin, TX</div>\n",
      "<div class=\"location mt-xxsm\" data-test=\"emp-location\">Denver, CO</div>\n",
      "<div class=\"location mt-xxsm\" data-test=\"emp-location\">Canton, MI</div>\n",
      "<div class=\"location mt-xxsm\" data-test=\"emp-location\">Honolulu District</div>\n",
      "<div class=\"location mt-xxsm\" data-test=\"emp-location\">Los Angeles, CA</div>\n",
      "<div class=\"location mt-xxsm\" data-test=\"emp-location\">Los Angeles, CA</div>\n",
      "<div class=\"location mt-xxsm\" data-test=\"emp-location\">New York, NY</div>\n",
      "images_error--> 'NoneType' object is not subscriptable\n",
      "<div class=\"location mt-xxsm\" data-test=\"emp-location\">Los Angeles, CA</div>\n",
      "<div class=\"location mt-xxsm\" data-test=\"emp-location\">Springfield, MA</div>\n",
      "<div class=\"location mt-xxsm\" data-test=\"emp-location\">Englewood, CO</div>\n",
      "<div class=\"location mt-xxsm\" data-test=\"emp-location\">Los Angeles, CA</div>\n",
      "<div class=\"location mt-xxsm\" data-test=\"emp-location\">Duluth, GA</div>\n",
      "<div class=\"location mt-xxsm\" data-test=\"emp-location\">Richmond, VA</div>\n",
      "<div class=\"location mt-xxsm\" data-test=\"emp-location\">Los Angeles, CA</div>\n",
      "<div class=\"location mt-xxsm\" data-test=\"emp-location\">Mount Vernon, NY</div>\n",
      "images_error--> 'NoneType' object is not subscriptable\n",
      "<div class=\"location mt-xxsm\" data-test=\"emp-location\">Bothell, WA</div>\n",
      "<div class=\"location mt-xxsm\" data-test=\"emp-location\">Los Angeles, CA</div>\n",
      "<div class=\"location mt-xxsm\" data-test=\"emp-location\">Metairie, LA</div>\n",
      "<div class=\"location mt-xxsm\" data-test=\"emp-location\">Bakersfield, CA</div>\n",
      "<div class=\"location mt-xxsm\" data-test=\"emp-location\">Hayward, CA</div>\n",
      "<div class=\"location mt-xxsm\" data-test=\"emp-location\">San Francisco, CA</div>\n",
      "<div class=\"location mt-xxsm\" data-test=\"emp-location\">Gainesville, FL</div>\n",
      "images_error--> 'NoneType' object is not subscriptable\n",
      "<div class=\"location mt-xxsm\" data-test=\"emp-location\">Mount Pleasant, SC</div>\n",
      "<div class=\"location mt-xxsm\" data-test=\"emp-location\">Avon Lake, OH</div>\n",
      "<div class=\"location mt-xxsm\" data-test=\"emp-location\">Bronx, NY</div>\n",
      "<div class=\"location mt-xxsm\" data-test=\"emp-location\">Long Island-Queens</div>\n",
      "<div class=\"location mt-xxsm\" data-test=\"emp-location\">Colwich, KS</div>\n",
      "creating df\n"
     ]
    },
    {
     "name": "stderr",
     "output_type": "stream",
     "text": [
      "C:\\Users\\fayyo\\AppData\\Local\\Temp\\ipykernel_4288\\1989218971.py:15: DeprecationWarning: executable_path has been deprecated, please pass in a Service object\n",
      "  driver = webdriver.Chrome(options=options,executable_path='C:/User/fayyo/chromedriver')\n",
      "Incompatible release of chromedriver (version 111.0.5563.64) detected in PATH: c:\\Users\\GitHub\\Bots_using_selenium\\linkedin_data_Scraping\\chromedriver.exe\n"
     ]
    },
    {
     "name": "stdout",
     "output_type": "stream",
     "text": [
      "salaries_error--> 'NoneType' object has no attribute 'text'\n",
      "<div class=\"location mt-xxsm\" data-test=\"emp-location\">United States</div>\n",
      "<div class=\"location mt-xxsm\" data-test=\"emp-location\">Denver, CO</div>\n",
      "<div class=\"location mt-xxsm\" data-test=\"emp-location\">Austin, TX</div>\n",
      "<div class=\"location mt-xxsm\" data-test=\"emp-location\">California</div>\n",
      "<div class=\"location mt-xxsm\" data-test=\"emp-location\">Honolulu District</div>\n",
      "<div class=\"location mt-xxsm\" data-test=\"emp-location\">Canton, MI</div>\n",
      "<div class=\"location mt-xxsm\" data-test=\"emp-location\">New York, NY</div>\n",
      "<div class=\"location mt-xxsm\" data-test=\"emp-location\">Duluth, GA</div>\n",
      "<div class=\"location mt-xxsm\" data-test=\"emp-location\">Los Angeles, CA</div>\n",
      "<div class=\"location mt-xxsm\" data-test=\"emp-location\">Englewood, CO</div>\n",
      "<div class=\"location mt-xxsm\" data-test=\"emp-location\">Duluth, GA</div>\n",
      "<div class=\"location mt-xxsm\" data-test=\"emp-location\">Los Angeles, CA</div>\n",
      "<div class=\"location mt-xxsm\" data-test=\"emp-location\">Los Angeles, CA</div>\n",
      "images_error--> 'NoneType' object is not subscriptable\n",
      "<div class=\"location mt-xxsm\" data-test=\"emp-location\">Los Angeles, CA</div>\n",
      "<div class=\"location mt-xxsm\" data-test=\"emp-location\">Richmond, VA</div>\n",
      "images_error--> 'NoneType' object is not subscriptable\n",
      "<div class=\"location mt-xxsm\" data-test=\"emp-location\">Bothell, WA</div>\n",
      "<div class=\"location mt-xxsm\" data-test=\"emp-location\">Hayward, CA</div>\n",
      "<div class=\"location mt-xxsm\" data-test=\"emp-location\">Los Angeles, CA</div>\n",
      "images_error--> 'NoneType' object is not subscriptable\n",
      "<div class=\"location mt-xxsm\" data-test=\"emp-location\">Mount Pleasant, SC</div>\n",
      "<div class=\"location mt-xxsm\" data-test=\"emp-location\">Metairie, LA</div>\n",
      "<div class=\"location mt-xxsm\" data-test=\"emp-location\">Avon Lake, OH</div>\n",
      "<div class=\"location mt-xxsm\" data-test=\"emp-location\">Salt Lake City, UT</div>\n",
      "<div class=\"location mt-xxsm\" data-test=\"emp-location\">Los Angeles, CA</div>\n",
      "<div class=\"location mt-xxsm\" data-test=\"emp-location\">Columbia, SC</div>\n",
      "<div class=\"location mt-xxsm\" data-test=\"emp-location\">Mount Vernon, NY</div>\n",
      "<div class=\"location mt-xxsm\" data-test=\"emp-location\">Gainesville, FL</div>\n",
      "<div class=\"location mt-xxsm\" data-test=\"emp-location\">Jacksonville, FL</div>\n",
      "<div class=\"location mt-xxsm\" data-test=\"emp-location\">Battle Creek, MI</div>\n",
      "<div class=\"location mt-xxsm\" data-test=\"emp-location\">Springfield, MA</div>\n",
      "creating df\n"
     ]
    },
    {
     "name": "stderr",
     "output_type": "stream",
     "text": [
      "C:\\Users\\fayyo\\AppData\\Local\\Temp\\ipykernel_4288\\1989218971.py:15: DeprecationWarning: executable_path has been deprecated, please pass in a Service object\n",
      "  driver = webdriver.Chrome(options=options,executable_path='C:/User/fayyo/chromedriver')\n",
      "Incompatible release of chromedriver (version 111.0.5563.64) detected in PATH: c:\\Users\\GitHub\\Bots_using_selenium\\linkedin_data_Scraping\\chromedriver.exe\n"
     ]
    },
    {
     "name": "stdout",
     "output_type": "stream",
     "text": [
      "<div class=\"location mt-xxsm\" data-test=\"emp-location\">California</div>\n",
      "salaries_error--> 'NoneType' object has no attribute 'text'\n",
      "<div class=\"location mt-xxsm\" data-test=\"emp-location\">United States</div>\n",
      "<div class=\"location mt-xxsm\" data-test=\"emp-location\">Denver, CO</div>\n",
      "<div class=\"location mt-xxsm\" data-test=\"emp-location\">Austin, TX</div>\n",
      "<div class=\"location mt-xxsm\" data-test=\"emp-location\">Honolulu District</div>\n",
      "<div class=\"location mt-xxsm\" data-test=\"emp-location\">Canton, MI</div>\n",
      "<div class=\"location mt-xxsm\" data-test=\"emp-location\">Los Angeles, CA</div>\n",
      "<div class=\"location mt-xxsm\" data-test=\"emp-location\">Columbia, SC</div>\n",
      "<div class=\"location mt-xxsm\" data-test=\"emp-location\">Englewood, CO</div>\n",
      "<div class=\"location mt-xxsm\" data-test=\"emp-location\">Springfield, MA</div>\n",
      "<div class=\"location mt-xxsm\" data-test=\"emp-location\">New York, NY</div>\n",
      "<div class=\"location mt-xxsm\" data-test=\"emp-location\">Los Angeles, CA</div>\n",
      "<div class=\"location mt-xxsm\" data-test=\"emp-location\">Duluth, GA</div>\n",
      "images_error--> 'NoneType' object is not subscriptable\n",
      "<div class=\"location mt-xxsm\" data-test=\"emp-location\">Los Angeles, CA</div>\n",
      "<div class=\"location mt-xxsm\" data-test=\"emp-location\">Los Angeles, CA</div>\n",
      "<div class=\"location mt-xxsm\" data-test=\"emp-location\">Los Angeles, CA</div>\n",
      "<div class=\"location mt-xxsm\" data-test=\"emp-location\">Richmond, VA</div>\n",
      "images_error--> 'NoneType' object is not subscriptable\n",
      "<div class=\"location mt-xxsm\" data-test=\"emp-location\">Bothell, WA</div>\n",
      "<div class=\"location mt-xxsm\" data-test=\"emp-location\">Los Angeles, CA</div>\n",
      "<div class=\"location mt-xxsm\" data-test=\"emp-location\">Bakersfield, CA</div>\n",
      "<div class=\"location mt-xxsm\" data-test=\"emp-location\">Jacksonville, FL</div>\n",
      "<div class=\"location mt-xxsm\" data-test=\"emp-location\">Mount Vernon, NY</div>\n",
      "<div class=\"location mt-xxsm\" data-test=\"emp-location\">Gainesville, FL</div>\n",
      "<div class=\"location mt-xxsm\" data-test=\"emp-location\">Salt Lake City, UT</div>\n",
      "<div class=\"location mt-xxsm\" data-test=\"emp-location\">Germantown, MD</div>\n",
      "images_error--> 'NoneType' object is not subscriptable\n",
      "<div class=\"location mt-xxsm\" data-test=\"emp-location\">Mount Pleasant, SC</div>\n",
      "<div class=\"location mt-xxsm\" data-test=\"emp-location\">Springfield, MA</div>\n",
      "<div class=\"location mt-xxsm\" data-test=\"emp-location\">Alameda, CA</div>\n",
      "<div class=\"location mt-xxsm\" data-test=\"emp-location\">Hayward, CA</div>\n",
      "creating df\n"
     ]
    },
    {
     "name": "stderr",
     "output_type": "stream",
     "text": [
      "C:\\Users\\fayyo\\AppData\\Local\\Temp\\ipykernel_4288\\1989218971.py:15: DeprecationWarning: executable_path has been deprecated, please pass in a Service object\n",
      "  driver = webdriver.Chrome(options=options,executable_path='C:/User/fayyo/chromedriver')\n",
      "Incompatible release of chromedriver (version 111.0.5563.64) detected in PATH: c:\\Users\\GitHub\\Bots_using_selenium\\linkedin_data_Scraping\\chromedriver.exe\n"
     ]
    },
    {
     "name": "stdout",
     "output_type": "stream",
     "text": [
      "<div class=\"location mt-xxsm\" data-test=\"emp-location\">California</div>\n",
      "<div class=\"location mt-xxsm\" data-test=\"emp-location\">Denver, CO</div>\n",
      "salaries_error--> 'NoneType' object has no attribute 'text'\n",
      "<div class=\"location mt-xxsm\" data-test=\"emp-location\">United States</div>\n",
      "<div class=\"location mt-xxsm\" data-test=\"emp-location\">Austin, TX</div>\n",
      "<div class=\"location mt-xxsm\" data-test=\"emp-location\">Honolulu District</div>\n",
      "<div class=\"location mt-xxsm\" data-test=\"emp-location\">Canton, MI</div>\n",
      "<div class=\"location mt-xxsm\" data-test=\"emp-location\">Duluth, GA</div>\n",
      "<div class=\"location mt-xxsm\" data-test=\"emp-location\">Englewood, CO</div>\n",
      "<div class=\"location mt-xxsm\" data-test=\"emp-location\">Columbia, SC</div>\n",
      "<div class=\"location mt-xxsm\" data-test=\"emp-location\">Los Angeles, CA</div>\n",
      "<div class=\"location mt-xxsm\" data-test=\"emp-location\">Los Angeles, CA</div>\n",
      "<div class=\"location mt-xxsm\" data-test=\"emp-location\">Los Angeles, CA</div>\n",
      "<div class=\"location mt-xxsm\" data-test=\"emp-location\">Duluth, GA</div>\n",
      "<div class=\"location mt-xxsm\" data-test=\"emp-location\">Los Angeles, CA</div>\n",
      "<div class=\"location mt-xxsm\" data-test=\"emp-location\">New York, NY</div>\n",
      "images_error--> 'NoneType' object is not subscriptable\n",
      "<div class=\"location mt-xxsm\" data-test=\"emp-location\">Los Angeles, CA</div>\n",
      "<div class=\"location mt-xxsm\" data-test=\"emp-location\">Los Angeles, CA</div>\n",
      "images_error--> 'NoneType' object is not subscriptable\n",
      "<div class=\"location mt-xxsm\" data-test=\"emp-location\">Bothell, WA</div>\n",
      "<div class=\"location mt-xxsm\" data-test=\"emp-location\">Mount Vernon, NY</div>\n",
      "<div class=\"location mt-xxsm\" data-test=\"emp-location\">Jacksonville, FL</div>\n",
      "<div class=\"location mt-xxsm\" data-test=\"emp-location\">Germantown, MD</div>\n",
      "<div class=\"location mt-xxsm\" data-test=\"emp-location\">Bakersfield, CA</div>\n",
      "<div class=\"location mt-xxsm\" data-test=\"emp-location\">Hayward, CA</div>\n",
      "images_error--> 'NoneType' object is not subscriptable\n",
      "<div class=\"location mt-xxsm\" data-test=\"emp-location\">Mount Pleasant, SC</div>\n",
      "<div class=\"location mt-xxsm\" data-test=\"emp-location\">Richmond, VA</div>\n",
      "<div class=\"location mt-xxsm\" data-test=\"emp-location\">Alameda, CA</div>\n",
      "<div class=\"location mt-xxsm\" data-test=\"emp-location\">Avon Lake, OH</div>\n",
      "<div class=\"location mt-xxsm\" data-test=\"emp-location\">Salt Lake City, UT</div>\n",
      "<div class=\"location mt-xxsm\" data-test=\"emp-location\">Colwich, KS</div>\n",
      "creating df\n"
     ]
    },
    {
     "name": "stderr",
     "output_type": "stream",
     "text": [
      "C:\\Users\\fayyo\\AppData\\Local\\Temp\\ipykernel_4288\\1989218971.py:15: DeprecationWarning: executable_path has been deprecated, please pass in a Service object\n",
      "  driver = webdriver.Chrome(options=options,executable_path='C:/User/fayyo/chromedriver')\n",
      "Incompatible release of chromedriver (version 111.0.5563.64) detected in PATH: c:\\Users\\GitHub\\Bots_using_selenium\\linkedin_data_Scraping\\chromedriver.exe\n"
     ]
    },
    {
     "name": "stdout",
     "output_type": "stream",
     "text": [
      "salaries_error--> 'NoneType' object has no attribute 'text'\n",
      "<div class=\"location mt-xxsm\" data-test=\"emp-location\">United States</div>\n",
      "<div class=\"location mt-xxsm\" data-test=\"emp-location\">Denver, CO</div>\n",
      "<div class=\"location mt-xxsm\" data-test=\"emp-location\">California</div>\n",
      "<div class=\"location mt-xxsm\" data-test=\"emp-location\">Duluth, GA</div>\n",
      "<div class=\"location mt-xxsm\" data-test=\"emp-location\">Austin, TX</div>\n",
      "<div class=\"location mt-xxsm\" data-test=\"emp-location\">Canton, MI</div>\n",
      "<div class=\"location mt-xxsm\" data-test=\"emp-location\">Honolulu District</div>\n",
      "<div class=\"location mt-xxsm\" data-test=\"emp-location\">Los Angeles, CA</div>\n",
      "<div class=\"location mt-xxsm\" data-test=\"emp-location\">Los Angeles, CA</div>\n",
      "<div class=\"location mt-xxsm\" data-test=\"emp-location\">Los Angeles, CA</div>\n",
      "<div class=\"location mt-xxsm\" data-test=\"emp-location\">New York, NY</div>\n",
      "images_error--> 'NoneType' object is not subscriptable\n",
      "<div class=\"location mt-xxsm\" data-test=\"emp-location\">Los Angeles, CA</div>\n",
      "<div class=\"location mt-xxsm\" data-test=\"emp-location\">Englewood, CO</div>\n",
      "<div class=\"location mt-xxsm\" data-test=\"emp-location\">Duluth, GA</div>\n",
      "<div class=\"location mt-xxsm\" data-test=\"emp-location\">Los Angeles, CA</div>\n",
      "<div class=\"location mt-xxsm\" data-test=\"emp-location\">Jacksonville, FL</div>\n",
      "<div class=\"location mt-xxsm\" data-test=\"emp-location\">Columbia, SC</div>\n",
      "images_error--> 'NoneType' object is not subscriptable\n",
      "<div class=\"location mt-xxsm\" data-test=\"emp-location\">Mount Pleasant, SC</div>\n",
      "<div class=\"location mt-xxsm\" data-test=\"emp-location\">Germantown, MD</div>\n",
      "<div class=\"location mt-xxsm\" data-test=\"emp-location\">Avon Lake, OH</div>\n",
      "<div class=\"location mt-xxsm\" data-test=\"emp-location\">Bakersfield, CA</div>\n",
      "<div class=\"location mt-xxsm\" data-test=\"emp-location\">Alameda, CA</div>\n",
      "<div class=\"location mt-xxsm\" data-test=\"emp-location\">Hayward, CA</div>\n",
      "<div class=\"location mt-xxsm\" data-test=\"emp-location\">Los Angeles, CA</div>\n",
      "<div class=\"location mt-xxsm\" data-test=\"emp-location\">Richmond, VA</div>\n",
      "images_error--> 'NoneType' object is not subscriptable\n",
      "<div class=\"location mt-xxsm\" data-test=\"emp-location\">Bothell, WA</div>\n",
      "<div class=\"location mt-xxsm\" data-test=\"emp-location\">Lewisville, TX</div>\n",
      "<div class=\"location mt-xxsm\" data-test=\"emp-location\">Long Island-Queens</div>\n",
      "images_error--> 'NoneType' object is not subscriptable\n",
      "<div class=\"location mt-xxsm\" data-test=\"emp-location\">Minneapolis, MN</div>\n",
      "creating df\n"
     ]
    },
    {
     "name": "stderr",
     "output_type": "stream",
     "text": [
      "C:\\Users\\fayyo\\AppData\\Local\\Temp\\ipykernel_4288\\1989218971.py:15: DeprecationWarning: executable_path has been deprecated, please pass in a Service object\n",
      "  driver = webdriver.Chrome(options=options,executable_path='C:/User/fayyo/chromedriver')\n",
      "Incompatible release of chromedriver (version 111.0.5563.64) detected in PATH: c:\\Users\\GitHub\\Bots_using_selenium\\linkedin_data_Scraping\\chromedriver.exe\n"
     ]
    },
    {
     "name": "stdout",
     "output_type": "stream",
     "text": [
      "<div class=\"location mt-xxsm\" data-test=\"emp-location\">Denver, CO</div>\n",
      "salaries_error--> 'NoneType' object has no attribute 'text'\n",
      "<div class=\"location mt-xxsm\" data-test=\"emp-location\">United States</div>\n",
      "<div class=\"location mt-xxsm\" data-test=\"emp-location\">Austin, TX</div>\n",
      "<div class=\"location mt-xxsm\" data-test=\"emp-location\">California</div>\n",
      "<div class=\"location mt-xxsm\" data-test=\"emp-location\">Duluth, GA</div>\n",
      "<div class=\"location mt-xxsm\" data-test=\"emp-location\">Canton, MI</div>\n",
      "<div class=\"location mt-xxsm\" data-test=\"emp-location\">Honolulu District</div>\n",
      "<div class=\"location mt-xxsm\" data-test=\"emp-location\">Los Angeles, CA</div>\n",
      "<div class=\"location mt-xxsm\" data-test=\"emp-location\">Los Angeles, CA</div>\n",
      "<div class=\"location mt-xxsm\" data-test=\"emp-location\">Los Angeles, CA</div>\n",
      "<div class=\"location mt-xxsm\" data-test=\"emp-location\">New York, NY</div>\n",
      "<div class=\"location mt-xxsm\" data-test=\"emp-location\">Alameda, CA</div>\n",
      "images_error--> 'NoneType' object is not subscriptable\n",
      "<div class=\"location mt-xxsm\" data-test=\"emp-location\">Los Angeles, CA</div>\n",
      "<div class=\"location mt-xxsm\" data-test=\"emp-location\">Columbia, SC</div>\n",
      "<div class=\"location mt-xxsm\" data-test=\"emp-location\">Englewood, CO</div>\n",
      "<div class=\"location mt-xxsm\" data-test=\"emp-location\">Los Angeles, CA</div>\n",
      "<div class=\"location mt-xxsm\" data-test=\"emp-location\">Duluth, GA</div>\n",
      "<div class=\"location mt-xxsm\" data-test=\"emp-location\">Bakersfield, CA</div>\n",
      "images_error--> 'NoneType' object is not subscriptable\n",
      "<div class=\"location mt-xxsm\" data-test=\"emp-location\">Mount Pleasant, SC</div>\n",
      "<div class=\"location mt-xxsm\" data-test=\"emp-location\">Germantown, MD</div>\n",
      "<div class=\"location mt-xxsm\" data-test=\"emp-location\">Hayward, CA</div>\n",
      "<div class=\"location mt-xxsm\" data-test=\"emp-location\">Avon Lake, OH</div>\n",
      "<div class=\"location mt-xxsm\" data-test=\"emp-location\">Lewisville, TX</div>\n",
      "images_error--> 'NoneType' object is not subscriptable\n",
      "<div class=\"location mt-xxsm\" data-test=\"emp-location\">Bothell, WA</div>\n",
      "<div class=\"location mt-xxsm\" data-test=\"emp-location\">Los Angeles, CA</div>\n",
      "<div class=\"location mt-xxsm\" data-test=\"emp-location\">Richmond, VA</div>\n",
      "<div class=\"location mt-xxsm\" data-test=\"emp-location\">Long Island-Queens</div>\n",
      "images_error--> 'NoneType' object is not subscriptable\n",
      "<div class=\"location mt-xxsm\" data-test=\"emp-location\">Minneapolis, MN</div>\n",
      "<div class=\"location mt-xxsm\" data-test=\"emp-location\">Jacksonville, FL</div>\n",
      "creating df\n"
     ]
    }
   ],
   "source": [
    "from bs4 import BeautifulSoup\n",
    "import time\n",
    "from selenium.webdriver.chrome.options import Options\n",
    "from selenium import webdriver\n",
    "from selenium.webdriver.common.by import By\n",
    "import pandas as pd\n",
    "import re\n",
    "\n",
    "sectors_physics_and_astronomy={\n",
    "'Banen in construction':'https://www.glassdoor.com/Job/construction-and-architecture-jobs-jobs-SRCH_KO0,34_IP2.htm?includeNoSalaryJobs=true&seniorityType=entrylevel&pgc=AB4AAYEAHgAAAAAAAAAAAAAAAgU2Q9cAMgEBAQkEtbn7H%2BQCd3WqcQgm0Jy3FwEYgMlg7wU7EyhJG%2FU3U62P%2BgJKhXtDO89CrEmVAAA%3D', \n",
    "}                       #https://www.glassdoor.com/Job/jobs.htm?sc.occupationParam=production%2C+asse_IP2.htm?includeNoSalaryJobs=true&seniorityType=entrylevel&pgc=AB4AAYEAHgAAAAAAAAAAAAAAAgVo%2BhAAQwEBAQ4B%2FuAyRqCy9tjSn9T0XBZLeI6jsOcca0fQbqzFYMHfit6cggVisKzDOEjo92fdmD4f%2F4cdrxGsu29OSW%2BvrAYAAA%3D%3D\n",
    "for j in range(2, 15):\n",
    "    options = Options()\n",
    "    options.add_argument(\"user-data-dir=C:\\\\Users\\\\Username\\\\AppData\\\\Local\\\\Google\\\\Chrome\\\\User Data\\\\Person 3\")\n",
    "    driver = webdriver.Chrome(options=options,executable_path='C:/User/fayyo/chromedriver')\n",
    "    job_desc_Math_teacher={}\n",
    "            #https://www.glassdoor.com/Job/jobs.htm?sc.occupationParam=production%2C+asse_IP2.htm?includeNoSalaryJobs=true&seniorityType=entrylevel&pgc=AB4AAYEAHgAAAAAAAAAAAAAAAgVo%2BhAAQwEBAQ4B%2FuAyRqCy9tjSn9T0XBZLeI6jsOcca0fQbqzFYMHfit6cggVisKzDOEjo92fdmD4f%2F4cdrxGsu29OSW%2BvrAYAAA%3D%3D\n",
    "    site = f\"https://www.glassdoor.com/Job/jobs.htm?sc.occupationParam=production%2C+asse_IP{j}.htm?includeNoSalaryJobs=true&seniorityType=entrylevel&pgc=AB4AAYEAHgAAAAAAAAAAAAAAAgVo%2BhAAQwEBAQ4B%2FuAyRqCy9tjSn9T0XBZLeI6jsOcca0fQbqzFYMHfit6cggVisKzDOEjo92fdmD4f%2F4cdrxGsu29OSW%2BvrAYAAA%3D%3D\"\n",
    "    # site = list(sectors_physics_and_astronomy.values())[j]\n",
    "    driver.get(site)\n",
    "    time.sleep(20)\n",
    "    initialScroll = 0\n",
    "    finalScroll = 1000\n",
    "    start = time.time()\n",
    "    while True:\n",
    "        driver.execute_script(f\"window.scrollTo({initialScroll}, {finalScroll})\")\n",
    "        initialScroll = finalScroll\n",
    "        finalScroll += 1000\n",
    "        time.sleep(3)\n",
    "        end = time.time()\n",
    "        if round(end - start) > 25:\n",
    "            break\n",
    "    try:\n",
    "        for i in range(1, 30):                          #'/html/body/div[2]/div/div/div/div/div[2]/section/article/div[1]/ul/li[1]/div/div/a'\n",
    "            job_desc_butt=driver.find_element(By.XPATH, '/html/body/div[2]/div/div/div/div/div[2]/section/article/div[1]/ul/li['+str(i)+']')\n",
    "            job_desc_butt.click()\n",
    "            time.sleep(5)\n",
    "            src = driver.page_source\n",
    "            soup = BeautifulSoup(src, 'lxml')\n",
    "            job_descript=soup.find('div', {'class':'jobDescriptionContent desc'})\n",
    "            job_description=job_descript.get_text()\n",
    "            job_desc_Math_teacher[i]=job_description\n",
    "    except Exception as e:\n",
    "        print(e)\n",
    "    soup = BeautifulSoup(src, 'lxml')\n",
    "    src = driver.page_source\n",
    "    jobs=soup.find_all('li',{'class':re.compile(\"react-job-listing css\")})\n",
    "\n",
    "    images=[]\n",
    "    salaries=[]\n",
    "    companies=[]\n",
    "    job_titles=[]\n",
    "    locations=[]\n",
    "\n",
    "    for pro in jobs[1:30]:\n",
    "        try:\n",
    "            image=pro.find('img')['src']\n",
    "            images.append(image)\n",
    "        except Exception as e:\n",
    "            print(f\"images_error--> {e}\")\n",
    "            images.append(\"nan\")\n",
    "        try:\n",
    "            salary=pro.find('div', {\"class\":\"salary-estimate\"})\n",
    "            # print(salary)\n",
    "            salaries.append(salary.text.strip())\n",
    "        except Exception as e:\n",
    "            print(f\"salaries_error--> {e}\")\n",
    "            salaries.append(\"nan\")\n",
    "        try:\n",
    "            company=pro.find('div', {\"class\":\"ml-xsm job-search-1bgdn7m\"}).text.strip()\n",
    "            # print(company)\n",
    "            companies.append(company)\n",
    "        except Exception as e:\n",
    "            print(f\"companies_error--> {e}\")\n",
    "            companies.append(\"nan\")\n",
    "        try:\n",
    "            job=pro.find('div', {\"class\":\"job-title mt-xsm\"})\n",
    "            # print(job)\n",
    "            job_titles.append(job.text.strip())\n",
    "        except Exception as e:\n",
    "            print(f\"job_titles_error--> {e}\")\n",
    "            job_titles.append(\"nan\")\n",
    "        try:\n",
    "            loc=pro.find('div', {\"class\":\"location\"})\n",
    "            print(loc)\n",
    "            locations.append(loc.text.strip())\n",
    "        except Exception as e:\n",
    "            print(f\"locations_error--> {e}\")\n",
    "            locations.append(\"nan\")\n",
    "    print(\"creating df\")\n",
    "    df_teache=pd.DataFrame({\n",
    "        \"job_titles\":job_titles,\n",
    "        \"job_description\":list(job_desc_Math_teacher.values()),\n",
    "        \"images\":images,\n",
    "        \"locations\":locations,\n",
    "        \"salaries\":salaries,\n",
    "        \"companies\":companies\n",
    "        }\n",
    "    )\n",
    "    df_teache.to_csv(f\"assembly-product{j}.csv\", sep=',', index=False)\n",
    "    driver.close()"
   ]
  },
  {
   "cell_type": "code",
   "execution_count": 6,
   "metadata": {},
   "outputs": [],
   "source": [
    "df_teache=pd.DataFrame({\n",
    "        \"job_titles\":job_titles,\n",
    "        \"job_description\":list(job_desc_Math_teacher.values()),\n",
    "        \"images\":images,\n",
    "        \"locations\":locations,\n",
    "        \"salaries\":salaries,\n",
    "        \"companies\":companies\n",
    "        }\n",
    "    )\n",
    "df_teache.to_csv(f\"data_science{list(sectors_physics_and_astronomy.keys())[j]}.csv\", sep=',', index=False)"
   ]
  },
  {
   "cell_type": "code",
   "execution_count": 10,
   "metadata": {},
   "outputs": [
    {
     "data": {
      "text/plain": [
       "25"
      ]
     },
     "execution_count": 10,
     "metadata": {},
     "output_type": "execute_result"
    }
   ],
   "source": [
    "len(list(job_desc_Math_teacher.values()))"
   ]
  },
  {
   "cell_type": "code",
   "execution_count": 8,
   "metadata": {},
   "outputs": [
    {
     "data": {
      "text/plain": [
       "29"
      ]
     },
     "execution_count": 8,
     "metadata": {},
     "output_type": "execute_result"
    }
   ],
   "source": [
    "# len(list(job_desc_Math_teacher.values()))\n",
    "len(images)"
   ]
  },
  {
   "cell_type": "code",
   "execution_count": 35,
   "metadata": {},
   "outputs": [
    {
     "data": {
      "text/plain": [
       "29"
      ]
     },
     "execution_count": 35,
     "metadata": {},
     "output_type": "execute_result"
    }
   ],
   "source": [
    "len(list(job_desc_Math_teacher.values()))"
   ]
  },
  {
   "cell_type": "code",
   "execution_count": 28,
   "metadata": {},
   "outputs": [
    {
     "data": {
      "text/plain": [
       "['Junior Embedded Software Engineer',\n",
       " '(Bijbaan) Junior software engineer – Maarssen – 8 a 16 uur/week',\n",
       " 'Junior Engineer Routing, Hard- en Software',\n",
       " 'Junior Software Engineer C++',\n",
       " '(junior) Software Engineer',\n",
       " 'Junior Software Engineer',\n",
       " 'Junior Java Software Engineer',\n",
       " 'junior software engineer',\n",
       " 'Junior Software engineer',\n",
       " 'JUNIOR FULL-STACK SOFTWARE ENGINEER',\n",
       " 'Junior/Starter Software Engineer',\n",
       " 'Junior Software Engineer',\n",
       " '(Junior) Software Engineer',\n",
       " 'Junior Software Engineer',\n",
       " 'Junior Software Engineer',\n",
       " 'Trainees (Enterprise systems software engineer and health informatician)',\n",
       " 'Software Engineer (Junior or Senior)',\n",
       " 'Junior Software Engineer',\n",
       " 'Junior Software Engineer',\n",
       " 'Junior Software Engineer',\n",
       " 'Junior Software Engineer',\n",
       " '(Junior) Java Software Engineer',\n",
       " '(Junior) Software engineer',\n",
       " '(Junior) Software Engineer',\n",
       " 'Junior C# Software Engineer',\n",
       " 'Junior Software Engineer',\n",
       " 'Junior Java of C# Cloud Software Engineer',\n",
       " 'Junior Software Engineer',\n",
       " 'Software Engineer I']"
      ]
     },
     "execution_count": 28,
     "metadata": {},
     "output_type": "execute_result"
    }
   ],
   "source": [
    "job_titles"
   ]
  },
  {
   "cell_type": "code",
   "execution_count": null,
   "metadata": {},
   "outputs": [],
   "source": [
    "<div class=\"location mt-xxsm\" data-test=\"emp-location\">Maarssen</div>"
   ]
  },
  {
   "cell_type": "code",
   "execution_count": 23,
   "metadata": {},
   "outputs": [
    {
     "data": {
      "text/plain": [
       "['nan',\n",
       " 'nan',\n",
       " 'nan',\n",
       " 'nan',\n",
       " 'nan',\n",
       " 'nan',\n",
       " 'nan',\n",
       " 'nan',\n",
       " 'nan',\n",
       " 'nan',\n",
       " 'nan',\n",
       " 'nan',\n",
       " 'nan',\n",
       " 'nan',\n",
       " 'nan',\n",
       " 'nan',\n",
       " 'nan',\n",
       " 'nan',\n",
       " 'nan',\n",
       " 'nan',\n",
       " 'nan',\n",
       " 'nan',\n",
       " 'nan',\n",
       " 'nan',\n",
       " 'nan',\n",
       " 'nan',\n",
       " 'nan',\n",
       " 'nan',\n",
       " 'nan']"
      ]
     },
     "execution_count": 23,
     "metadata": {},
     "output_type": "execute_result"
    }
   ],
   "source": [
    "# images\n",
    "# locations\n",
    "# salaries\n",
    "# companies\n",
    "job_titles"
   ]
  },
  {
   "cell_type": "code",
   "execution_count": 36,
   "metadata": {},
   "outputs": [],
   "source": [
    "df = pd.read_csv(\"Neuroscience_Banen in software & informatietechnologie_last.csv\")"
   ]
  },
  {
   "cell_type": "code",
   "execution_count": 40,
   "metadata": {},
   "outputs": [
    {
     "data": {
      "text/plain": [
       "Index(['job_titles', 'job_description', 'images', 'locations', 'salaries',\n",
       "       'companies'],\n",
       "      dtype='object')"
      ]
     },
     "execution_count": 40,
     "metadata": {},
     "output_type": "execute_result"
    }
   ],
   "source": [
    "df.columns"
   ]
  },
  {
   "cell_type": "code",
   "execution_count": 41,
   "metadata": {},
   "outputs": [
    {
     "data": {
      "text/plain": [
       "0                      Capgemini4.0 ★\n",
       "1                     RYSST B.V.4.6 ★\n",
       "2                      ICT Group3.6 ★\n",
       "3                           VIRO3.9 ★\n",
       "4                          Exact3.8 ★\n",
       "5                    Oceaneering3.9 ★\n",
       "6      Canon Production Printing3.5 ★\n",
       "7                        Grafton4.0 ★\n",
       "8                       Rabobank4.2 ★\n",
       "9                         Advidi4.4 ★\n",
       "10     European Medicines Agency3.8 ★\n",
       "11                     Northpool3.6 ★\n",
       "12                         Kryha4.5 ★\n",
       "13                         Energetech\n",
       "14                               OPNT\n",
       "15                 Samotics B.V.4.9 ★\n",
       "16                           Prefound\n",
       "17                       Profit4cloud\n",
       "18                     Capgemini4.0 ★\n",
       "19               WEBB Traders BV4.1 ★\n",
       "20    Oxygen Digital Recruitment5.0 ★\n",
       "21              Cost Engineering3.1 ★\n",
       "22                       Keylane3.9 ★\n",
       "23                     Trinamics3.8 ★\n",
       "24                    Incore Software\n",
       "25                SC Heerenveen Werkt\n",
       "26          Search X Recruitment4.7 ★\n",
       "27              Raven Industries4.1 ★\n",
       "28                         Voort3.5 ★\n",
       "Name: companies, dtype: object"
      ]
     },
     "execution_count": 41,
     "metadata": {},
     "output_type": "execute_result"
    }
   ],
   "source": [
    "df.companies"
   ]
  },
  {
   "cell_type": "code",
   "execution_count": null,
   "metadata": {},
   "outputs": [],
   "source": [
    "/html/body/div[2]/div/div/div/div/div[2]/section/article/div[1]/ul/li[1]\n",
    "/html/body/div[2]/div/div/div/div/div[2]/section/article/div[1]/ul/li[2]\n",
    "/html/body/div[2]/div/div/div/div/div[2]/section/article/div[1]/ul/li[3]\n",
    "next_button='/html/body/div[2]/div/div/div/div/div[2]/section/article/div[2]/div/div[1]/button[7]/span/svg'"
   ]
  },
  {
   "cell_type": "code",
   "execution_count": null,
   "metadata": {},
   "outputs": [],
   "source": [
    "comp_name='/html/body/div[2]/div/div/div/div/div[2]/section/article/div[1]/ul/li[2]/div/div/a/div[1]/div[1]/div[2]'\n",
    "          '/html/body/div[2]/div/div/div/div/div[2]/section/article/div[1]/ul/li[1]/div/div/a/div[1]/div[1]/div[2]'\n",
    "          '/html/body/div[2]/div/div/div/div/div[2]/section/article/div[1]/ul/li[5]/div/div/a/div[1]/div[1]/div[2]'"
   ]
  },
  {
   "cell_type": "code",
   "execution_count": null,
   "metadata": {},
   "outputs": [],
   "source": [
    "        \"job_titles\":job_titles,\n",
    "        \"job_description\":list(job_desc_Math_teacher.values()),\n",
    "        \"images\":images,\n",
    "        \"locations\":locations,\n",
    "        \"salaries\":salaries,\n",
    "        \"companies\":companies"
   ]
  },
  {
   "cell_type": "code",
   "execution_count": 9,
   "metadata": {},
   "outputs": [
    {
     "data": {
      "text/plain": [
       "29"
      ]
     },
     "execution_count": 9,
     "metadata": {},
     "output_type": "execute_result"
    }
   ],
   "source": [
    "len(list(job_desc_Math_teacher.values()))"
   ]
  },
  {
   "cell_type": "code",
   "execution_count": null,
   "metadata": {},
   "outputs": [],
   "source": [
    "\n",
    "    # pros=[]\n",
    "    # cons=[]\n",
    "\n",
    "    # driver.close()\n",
    "    # driver = webdriver.Chrome(options=options)\n",
    "    # site1 = \"https://www.glassdoor.com/Search/results.htm?keyword=&locId=178&locT=N&locName=Netherlands\"\n",
    "\n",
    "    # for comp in companies:\n",
    "    #     driver.get(site1)\n",
    "    #     time.sleep(20)\n",
    "    #     comp_input=driver.find_element(By.XPATH, '//*[@id=\"sc.keyword\"] ')  \n",
    "    #     time.sleep(5)\n",
    "    #     comp_input.click()\n",
    "    #     comp_input.clear()\n",
    "    #     comp_input.send_keys(comp)\n",
    "    #     time.sleep(5)\n",
    "    #     try:\n",
    "    #         search_button=driver.find_element(By.XPATH, '//*[@id=\"scBar\"]/div/button')\n",
    "    #         search_button.click()\n",
    "    #         time.sleep(5)\n",
    "\n",
    "    #         first_comp=driver.find_element(By.XPATH, '//*[@id=\"Discover\"]/div/div/div[1]/div[1]/div[1]/a[1]')\n",
    "    #         first_comp.click()\n",
    "    #         time.sleep(5)\n",
    "    #                                                             #eiCell cell reviews \n",
    "    #         comp_review_button=driver.find_element(By.XPATH, '/html/body/div[3]/div/div/div/div/div/div/div[1]/article[1]/div[1]/div[2]/div/div[2]/div/div[1]/div/a[1]')\n",
    "    #         comp_review_button.click()\n",
    "    #         time.sleep(5)\n",
    "            \n",
    "    #         initialScroll = 0\n",
    "    #         finalScroll = 1000\n",
    "    #         start = time.time()\n",
    "    #         while True:\n",
    "    #             driver.execute_script(f\"window.scrollTo({initialScroll}, {finalScroll})\")\n",
    "    #             initialScroll = finalScroll\n",
    "    #             finalScroll += 1000\n",
    "    #             time.sleep(3)\n",
    "    #             end = time.time()\n",
    "    #             if round(end - start) > 20:\n",
    "    #                 break\n",
    "    #         src = driver.page_source\n",
    "    #         soup = BeautifulSoup(src, 'lxml')\n",
    "\n",
    "    #         a =soup.find_all('p', {'class':\"mt-0 mb-0 pb v2__EIReviewDetailsV2__bodyColor v2__EIReviewDetailsV2__lineHeightLarge v2__EIReviewDetailsV2__isCollapsed\"})\n",
    "            \n",
    "    #         list_cons=[]\n",
    "    #         list_pros=[]\n",
    "    #         for i in a:\n",
    "    #             try:\n",
    "    #                 list_cons.append(i.find('span', {'data-test':\"cons\"}).text.strip())\n",
    "    #             except Exception as e:\n",
    "    #                 print(e)\n",
    "    #         for i in a:\n",
    "    #             try:\n",
    "    #                 list_pros.append(i.find('span', {'data-test':\"pros\"}).text.strip())\n",
    "    #             except Exception as e:\n",
    "    #                 print(e)\n",
    "    #         if len(list_cons)==0:\n",
    "    #             list_cons.append('NG')\n",
    "    #         if len(list_pros)==0:\n",
    "    #             list_pros.append('NG')\n",
    "\n",
    "    #         pros.append(list_pros)\n",
    "    #         cons.append(list_cons)\n",
    "    #     except Exception as e:\n",
    "    #         print(e)\n",
    "    #         pros.append(\"NG\")\n",
    "    #         cons.append(\"NG\")\n",
    "\n",
    "    # driver.close()\n"
   ]
  }
 ],
 "metadata": {
  "kernelspec": {
   "display_name": "venv",
   "language": "python",
   "name": "python3"
  },
  "language_info": {
   "codemirror_mode": {
    "name": "ipython",
    "version": 3
   },
   "file_extension": ".py",
   "mimetype": "text/x-python",
   "name": "python",
   "nbconvert_exporter": "python",
   "pygments_lexer": "ipython3",
   "version": "3.8.8"
  },
  "orig_nbformat": 4
 },
 "nbformat": 4,
 "nbformat_minor": 2
}
