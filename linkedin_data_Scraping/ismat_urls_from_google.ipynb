{
 "cells": [
  {
   "cell_type": "code",
   "execution_count": 3,
   "metadata": {},
   "outputs": [
    {
     "name": "stderr",
     "output_type": "stream",
     "text": [
      "C:\\Users\\dell\\AppData\\Local\\Temp\\ipykernel_14948\\3031358891.py:10: DeprecationWarning: executable_path has been deprecated, please pass in a Service object\n",
      "  driver = webdriver.Chrome(options=options,executable_path='C:/Users/dell/OneDrive/Desktop/chromedriver-win64/chromedriver.exe')\n"
     ]
    },
    {
     "name": "stdout",
     "output_type": "stream",
     "text": [
      "I am done ---> Seoul\n",
      "I am done ---> Busan\n",
      "I am done ---> Incheon\n",
      "I am done ---> Daegu\n",
      "I am done ---> Daejeon\n",
      "I am done ---> Gwangju\n",
      "I am done ---> Ulsan\n"
     ]
    },
    {
     "ename": "WebDriverException",
     "evalue": "Message: unknown error: net::ERR_INTERNET_DISCONNECTED\n  (Session info: chrome=116.0.5845.180)\nStacktrace:\n\tGetHandleVerifier [0x00007FF79E2552A2+57122]\n\t(No symbol) [0x00007FF79E1CEA92]\n\t(No symbol) [0x00007FF79E09E3AB]\n\t(No symbol) [0x00007FF79E09A161]\n\t(No symbol) [0x00007FF79E08CADF]\n\t(No symbol) [0x00007FF79E08DE82]\n\t(No symbol) [0x00007FF79E08CEB8]\n\t(No symbol) [0x00007FF79E08BFBE]\n\t(No symbol) [0x00007FF79E08BF63]\n\t(No symbol) [0x00007FF79E08A9E5]\n\t(No symbol) [0x00007FF79E08B153]\n\t(No symbol) [0x00007FF79E09FF4B]\n\t(No symbol) [0x00007FF79E10EEF7]\n\t(No symbol) [0x00007FF79E0F6FDA]\n\t(No symbol) [0x00007FF79E10EB82]\n\t(No symbol) [0x00007FF79E0F6DB3]\n\t(No symbol) [0x00007FF79E0CD2B1]\n\t(No symbol) [0x00007FF79E0CE494]\n\tGetHandleVerifier [0x00007FF79E4FEF82+2849794]\n\tGetHandleVerifier [0x00007FF79E551D24+3189156]\n\tGetHandleVerifier [0x00007FF79E54ACAF+3160367]\n\tGetHandleVerifier [0x00007FF79E2E6D06+653702]\n\t(No symbol) [0x00007FF79E1DA208]\n\t(No symbol) [0x00007FF79E1D62C4]\n\t(No symbol) [0x00007FF79E1D63F6]\n\t(No symbol) [0x00007FF79E1C67A3]\n\tBaseThreadInitThunk [0x00007FFE3C5C7614+20]\n\tRtlUserThreadStart [0x00007FFE3CA626B1+33]\n",
     "output_type": "error",
     "traceback": [
      "\u001b[1;31m---------------------------------------------------------------------------\u001b[0m",
      "\u001b[1;31mNoSuchElementException\u001b[0m                    Traceback (most recent call last)",
      "Cell \u001b[1;32mIn[3], line 66\u001b[0m\n\u001b[0;32m     65\u001b[0m \u001b[39mtry\u001b[39;00m:                                            \u001b[39m#//*[@id=\"pnnext\"]/span[2]\u001b[39;00m\n\u001b[1;32m---> 66\u001b[0m     next_button \u001b[39m=\u001b[39m driver\u001b[39m.\u001b[39;49mfind_element(By\u001b[39m.\u001b[39;49mXPATH, \u001b[39m'\u001b[39;49m\u001b[39m//*[@id=\u001b[39;49m\u001b[39m\"\u001b[39;49m\u001b[39mpnnext\u001b[39;49m\u001b[39m\"\u001b[39;49m\u001b[39m]\u001b[39;49m\u001b[39m'\u001b[39;49m) \u001b[39m# clicking next button \u001b[39;00m\n\u001b[0;32m     67\u001b[0m     next_button\u001b[39m.\u001b[39mclick()\n",
      "File \u001b[1;32mc:\\Users\\dell\\OneDrive\\Desktop\\selenium\\Bots_using_selenium\\venv\\lib\\site-packages\\selenium\\webdriver\\remote\\webdriver.py:830\u001b[0m, in \u001b[0;36mWebDriver.find_element\u001b[1;34m(self, by, value)\u001b[0m\n\u001b[0;32m    828\u001b[0m     value \u001b[39m=\u001b[39m \u001b[39mf\u001b[39m\u001b[39m'\u001b[39m\u001b[39m[name=\u001b[39m\u001b[39m\"\u001b[39m\u001b[39m{\u001b[39;00mvalue\u001b[39m}\u001b[39;00m\u001b[39m\"\u001b[39m\u001b[39m]\u001b[39m\u001b[39m'\u001b[39m\n\u001b[1;32m--> 830\u001b[0m \u001b[39mreturn\u001b[39;00m \u001b[39mself\u001b[39;49m\u001b[39m.\u001b[39;49mexecute(Command\u001b[39m.\u001b[39;49mFIND_ELEMENT, {\u001b[39m\"\u001b[39;49m\u001b[39musing\u001b[39;49m\u001b[39m\"\u001b[39;49m: by, \u001b[39m\"\u001b[39;49m\u001b[39mvalue\u001b[39;49m\u001b[39m\"\u001b[39;49m: value})[\u001b[39m\"\u001b[39m\u001b[39mvalue\u001b[39m\u001b[39m\"\u001b[39m]\n",
      "File \u001b[1;32mc:\\Users\\dell\\OneDrive\\Desktop\\selenium\\Bots_using_selenium\\venv\\lib\\site-packages\\selenium\\webdriver\\remote\\webdriver.py:440\u001b[0m, in \u001b[0;36mWebDriver.execute\u001b[1;34m(self, driver_command, params)\u001b[0m\n\u001b[0;32m    439\u001b[0m \u001b[39mif\u001b[39;00m response:\n\u001b[1;32m--> 440\u001b[0m     \u001b[39mself\u001b[39;49m\u001b[39m.\u001b[39;49merror_handler\u001b[39m.\u001b[39;49mcheck_response(response)\n\u001b[0;32m    441\u001b[0m     response[\u001b[39m\"\u001b[39m\u001b[39mvalue\u001b[39m\u001b[39m\"\u001b[39m] \u001b[39m=\u001b[39m \u001b[39mself\u001b[39m\u001b[39m.\u001b[39m_unwrap_value(response\u001b[39m.\u001b[39mget(\u001b[39m\"\u001b[39m\u001b[39mvalue\u001b[39m\u001b[39m\"\u001b[39m, \u001b[39mNone\u001b[39;00m))\n",
      "File \u001b[1;32mc:\\Users\\dell\\OneDrive\\Desktop\\selenium\\Bots_using_selenium\\venv\\lib\\site-packages\\selenium\\webdriver\\remote\\errorhandler.py:245\u001b[0m, in \u001b[0;36mErrorHandler.check_response\u001b[1;34m(self, response)\u001b[0m\n\u001b[0;32m    244\u001b[0m     \u001b[39mraise\u001b[39;00m exception_class(message, screen, stacktrace, alert_text)  \u001b[39m# type: ignore[call-arg]  # mypy is not smart enough here\u001b[39;00m\n\u001b[1;32m--> 245\u001b[0m \u001b[39mraise\u001b[39;00m exception_class(message, screen, stacktrace)\n",
      "\u001b[1;31mNoSuchElementException\u001b[0m: Message: no such element: Unable to locate element: {\"method\":\"xpath\",\"selector\":\"//*[@id=\"pnnext\"]\"}\n  (Session info: chrome=116.0.5845.180)\nStacktrace:\n\tGetHandleVerifier [0x00007FF79E2552A2+57122]\n\t(No symbol) [0x00007FF79E1CEA92]\n\t(No symbol) [0x00007FF79E09E3AB]\n\t(No symbol) [0x00007FF79E0D7D3E]\n\t(No symbol) [0x00007FF79E0D7E2C]\n\t(No symbol) [0x00007FF79E110B67]\n\t(No symbol) [0x00007FF79E0F701F]\n\t(No symbol) [0x00007FF79E10EB82]\n\t(No symbol) [0x00007FF79E0F6DB3]\n\t(No symbol) [0x00007FF79E0CD2B1]\n\t(No symbol) [0x00007FF79E0CE494]\n\tGetHandleVerifier [0x00007FF79E4FEF82+2849794]\n\tGetHandleVerifier [0x00007FF79E551D24+3189156]\n\tGetHandleVerifier [0x00007FF79E54ACAF+3160367]\n\tGetHandleVerifier [0x00007FF79E2E6D06+653702]\n\t(No symbol) [0x00007FF79E1DA208]\n\t(No symbol) [0x00007FF79E1D62C4]\n\t(No symbol) [0x00007FF79E1D63F6]\n\t(No symbol) [0x00007FF79E1C67A3]\n\tBaseThreadInitThunk [0x00007FFE3C5C7614+20]\n\tRtlUserThreadStart [0x00007FFE3CA626B1+33]\n",
      "\nDuring handling of the above exception, another exception occurred:\n",
      "\u001b[1;31mWebDriverException\u001b[0m                        Traceback (most recent call last)",
      "Cell \u001b[1;32mIn[3], line 69\u001b[0m\n\u001b[0;32m     67\u001b[0m     next_button\u001b[39m.\u001b[39mclick()\n\u001b[0;32m     68\u001b[0m \u001b[39mexcept\u001b[39;00m \u001b[39mException\u001b[39;00m \u001b[39mas\u001b[39;00m e:\n\u001b[1;32m---> 69\u001b[0m     driver\u001b[39m.\u001b[39;49mget(\u001b[39mf\u001b[39;49m\u001b[39m'\u001b[39;49m\u001b[39mhttps://www.google.com/search?q=site:nl.linkedin.com/in/+AND+%22\u001b[39;49m\u001b[39m{\u001b[39;49;00mitem\u001b[39m}\u001b[39;49;00m\u001b[39m+AND+%22\u001b[39;49m\u001b[39m{\u001b[39;49;00mstudy\u001b[39m}\u001b[39;49;00m\u001b[39m'\u001b[39;49m)\n\u001b[0;32m     70\u001b[0m     \u001b[39m# print(\"\")\u001b[39;00m\n\u001b[0;32m     71\u001b[0m \u001b[39m# print(f'{n} pages left!')\u001b[39;00m\n\u001b[0;32m     72\u001b[0m n \u001b[39m-\u001b[39m\u001b[39m=\u001b[39m \u001b[39m1\u001b[39m\n",
      "File \u001b[1;32mc:\\Users\\dell\\OneDrive\\Desktop\\selenium\\Bots_using_selenium\\venv\\lib\\site-packages\\selenium\\webdriver\\remote\\webdriver.py:449\u001b[0m, in \u001b[0;36mWebDriver.get\u001b[1;34m(self, url)\u001b[0m\n\u001b[0;32m    447\u001b[0m \u001b[39mdef\u001b[39;00m \u001b[39mget\u001b[39m(\u001b[39mself\u001b[39m, url: \u001b[39mstr\u001b[39m) \u001b[39m-\u001b[39m\u001b[39m>\u001b[39m \u001b[39mNone\u001b[39;00m:\n\u001b[0;32m    448\u001b[0m \u001b[39m    \u001b[39m\u001b[39m\"\"\"Loads a web page in the current browser session.\"\"\"\u001b[39;00m\n\u001b[1;32m--> 449\u001b[0m     \u001b[39mself\u001b[39;49m\u001b[39m.\u001b[39;49mexecute(Command\u001b[39m.\u001b[39;49mGET, {\u001b[39m\"\u001b[39;49m\u001b[39murl\u001b[39;49m\u001b[39m\"\u001b[39;49m: url})\n",
      "File \u001b[1;32mc:\\Users\\dell\\OneDrive\\Desktop\\selenium\\Bots_using_selenium\\venv\\lib\\site-packages\\selenium\\webdriver\\remote\\webdriver.py:440\u001b[0m, in \u001b[0;36mWebDriver.execute\u001b[1;34m(self, driver_command, params)\u001b[0m\n\u001b[0;32m    438\u001b[0m response \u001b[39m=\u001b[39m \u001b[39mself\u001b[39m\u001b[39m.\u001b[39mcommand_executor\u001b[39m.\u001b[39mexecute(driver_command, params)\n\u001b[0;32m    439\u001b[0m \u001b[39mif\u001b[39;00m response:\n\u001b[1;32m--> 440\u001b[0m     \u001b[39mself\u001b[39;49m\u001b[39m.\u001b[39;49merror_handler\u001b[39m.\u001b[39;49mcheck_response(response)\n\u001b[0;32m    441\u001b[0m     response[\u001b[39m\"\u001b[39m\u001b[39mvalue\u001b[39m\u001b[39m\"\u001b[39m] \u001b[39m=\u001b[39m \u001b[39mself\u001b[39m\u001b[39m.\u001b[39m_unwrap_value(response\u001b[39m.\u001b[39mget(\u001b[39m\"\u001b[39m\u001b[39mvalue\u001b[39m\u001b[39m\"\u001b[39m, \u001b[39mNone\u001b[39;00m))\n\u001b[0;32m    442\u001b[0m     \u001b[39mreturn\u001b[39;00m response\n",
      "File \u001b[1;32mc:\\Users\\dell\\OneDrive\\Desktop\\selenium\\Bots_using_selenium\\venv\\lib\\site-packages\\selenium\\webdriver\\remote\\errorhandler.py:245\u001b[0m, in \u001b[0;36mErrorHandler.check_response\u001b[1;34m(self, response)\u001b[0m\n\u001b[0;32m    243\u001b[0m         alert_text \u001b[39m=\u001b[39m value[\u001b[39m\"\u001b[39m\u001b[39malert\u001b[39m\u001b[39m\"\u001b[39m]\u001b[39m.\u001b[39mget(\u001b[39m\"\u001b[39m\u001b[39mtext\u001b[39m\u001b[39m\"\u001b[39m)\n\u001b[0;32m    244\u001b[0m     \u001b[39mraise\u001b[39;00m exception_class(message, screen, stacktrace, alert_text)  \u001b[39m# type: ignore[call-arg]  # mypy is not smart enough here\u001b[39;00m\n\u001b[1;32m--> 245\u001b[0m \u001b[39mraise\u001b[39;00m exception_class(message, screen, stacktrace)\n",
      "\u001b[1;31mWebDriverException\u001b[0m: Message: unknown error: net::ERR_INTERNET_DISCONNECTED\n  (Session info: chrome=116.0.5845.180)\nStacktrace:\n\tGetHandleVerifier [0x00007FF79E2552A2+57122]\n\t(No symbol) [0x00007FF79E1CEA92]\n\t(No symbol) [0x00007FF79E09E3AB]\n\t(No symbol) [0x00007FF79E09A161]\n\t(No symbol) [0x00007FF79E08CADF]\n\t(No symbol) [0x00007FF79E08DE82]\n\t(No symbol) [0x00007FF79E08CEB8]\n\t(No symbol) [0x00007FF79E08BFBE]\n\t(No symbol) [0x00007FF79E08BF63]\n\t(No symbol) [0x00007FF79E08A9E5]\n\t(No symbol) [0x00007FF79E08B153]\n\t(No symbol) [0x00007FF79E09FF4B]\n\t(No symbol) [0x00007FF79E10EEF7]\n\t(No symbol) [0x00007FF79E0F6FDA]\n\t(No symbol) [0x00007FF79E10EB82]\n\t(No symbol) [0x00007FF79E0F6DB3]\n\t(No symbol) [0x00007FF79E0CD2B1]\n\t(No symbol) [0x00007FF79E0CE494]\n\tGetHandleVerifier [0x00007FF79E4FEF82+2849794]\n\tGetHandleVerifier [0x00007FF79E551D24+3189156]\n\tGetHandleVerifier [0x00007FF79E54ACAF+3160367]\n\tGetHandleVerifier [0x00007FF79E2E6D06+653702]\n\t(No symbol) [0x00007FF79E1DA208]\n\t(No symbol) [0x00007FF79E1D62C4]\n\t(No symbol) [0x00007FF79E1D63F6]\n\t(No symbol) [0x00007FF79E1C67A3]\n\tBaseThreadInitThunk [0x00007FFE3C5C7614+20]\n\tRtlUserThreadStart [0x00007FFE3CA626B1+33]\n"
     ]
    }
   ],
   "source": [
    "from selenium.webdriver.common.by import By\n",
    "from selenium.webdriver.chrome.options import Options\n",
    "from selenium import webdriver\n",
    "import time\n",
    "import pandas as pd\n",
    "\n",
    "options = Options()\n",
    "options.add_argument(\"user-data-dir=C:/Users/dell/AppData/Local/Google/Chrome/User Data/Profile 60\")\n",
    "                                                        #C:\\Users\\fayyo\\Downloads\\chromedriver-win32.zip\\chromedriver-win32\n",
    "driver = webdriver.Chrome(options=options,executable_path='C:/Users/dell/OneDrive/Desktop/chromedriver-win64/chromedriver.exe')\n",
    "# country names\n",
    "list_items = [\n",
    "    \"Seoul\",\n",
    "    \"Busan\",\n",
    "    \"Incheon\",\n",
    "    \"Daegu\",\n",
    "    \"Daejeon\",\n",
    "    \"Gwangju\",\n",
    "    \"Ulsan\",\n",
    "    \"Suwon\",\n",
    "    \"Changwon\",\n",
    "    \"Seongnam\",\n",
    "    \"Jeonju\",\n",
    "    \"Bucheon\",\n",
    "    \"Ansan\",\n",
    "    \"Cheongju\",\n",
    "    \"Anyang\",\n",
    "    \"Goyang\",\n",
    "    \"Pohang\",\n",
    "    \"Jeju\",\n",
    "    \"Yongin\",\n",
    "    \"Hwaseong\",\n",
    "    \"Chuncheon\",\n",
    "    \"Asan\",\n",
    "    \"Gumi\",\n",
    "    \"Yangsan\",\n",
    "]\n",
    "\n",
    "for item  in list_items[:]:\n",
    "    links = []\n",
    "    for study in ['master', 'bachelor']:\n",
    "        driver.get(f'https://www.google.com/search?q=site:nl.linkedin.com/in/+AND+%22{item}+AND+%22{study}')\n",
    "        time.sleep(10) # to make slower \n",
    "        # n is the number of pages\n",
    "        n=30\n",
    "        while n > 0:\n",
    "            time.sleep(5)\n",
    "            for i in range(1, 11): # google uses paginator, every page has 10 urls\n",
    "                time.sleep(6)\n",
    "                        #//*[@id=\"rso\"]/div[9]/div/div/div/div[1]/div/div/a\n",
    "                try:    #/html/body/div[6]/div/div[13]/div/div[2]/div[2]/div/div/div[1]/div/div/div[1]/div/div/a\n",
    "                        #/html/body/div[6]/div/div[13]/div/div[2]/div[2]/div/div/div[4]/div/div/div[1]/div/div/a\n",
    "                        #/html/body/div[6]/div/div[13]/div/div[2]/div[2]/div/div/div[9]/div/div/div/div[1]/div/div/a\n",
    "                    elems = driver.find_elements(By.XPATH, '/html/body/div[6]/div/div[12]/div/div[2]/div[2]/div/div/div['+str(i)+']/div/div/div[1]/div/div/a')\n",
    "                    for elem in elems:                     #/html/body/div[6]/div/div[12]/div/div[2]/div[2]/div/div/div[3]/div/div/div[1]/div/div/a\n",
    "                                                           #/html/body/div[6]/div/div[12]/div/div[2]/div[2]/div/div/div[2]/div/div/div[1]/div/div/a\n",
    "                        clean_url = elem.get_attribute(\"href\") # extracting url \n",
    "                        base_url = \"linkedin.com/in/\"\n",
    "                        if clean_url.find(base_url) != -1 and '%' not in clean_url: # sometimes google gives no Ln urls, so clean it\n",
    "                            links.append(clean_url)\n",
    "                            # print(f\"url is --->{clean_url}\")\n",
    "                except Exception as e:\n",
    "                    print(\"problem with ELEMS\")\n",
    "                    pass\n",
    "            try:                                            #//*[@id=\"pnnext\"]/span[2]\n",
    "                next_button = driver.find_element(By.XPATH, '//*[@id=\"pnnext\"]') # clicking next button \n",
    "                next_button.click()\n",
    "            except Exception as e:\n",
    "                driver.get(f'https://www.google.com/search?q=site:nl.linkedin.com/in/+AND+%22{item}+AND+%22{study}')\n",
    "                # print(\"\")\n",
    "            # print(f'{n} pages left!')\n",
    "            n -= 1\n",
    "    df = pd.DataFrame({\n",
    "        \"links\":links\n",
    "    })\n",
    "    df1=pd.read_csv('datas/Ismatulla_links/data_Ismatulla3.csv')\n",
    "    df_sum=pd.concat([df1, df], axis=0, ignore_index=True)\n",
    "    df_sum = df_sum.drop_duplicates()\n",
    "    df_sum.to_csv(f'datas/Ismatulla_links/data_Ismatulla3.csv', index=False)\n",
    "    print(f'I am done ---> {item}')\n"
   ]
  },
  {
   "cell_type": "code",
   "execution_count": 23,
   "metadata": {},
   "outputs": [
    {
     "name": "stdout",
     "output_type": "stream",
     "text": [
      "I am done ---> Dhaka, Bangladesh\n"
     ]
    }
   ],
   "source": [
    "df = pd.DataFrame({\n",
    "    \"links\":links\n",
    "})\n",
    "df1=pd.read_csv('datas/Fayyoz_links/data_Fayyoz.csv')\n",
    "df_sum=pd.concat([df1, df], axis=0, ignore_index=True)\n",
    "df_sum = df_sum.drop_duplicates()\n",
    "df_sum.to_csv(f'datas/Fayyoz_links/data_Fayyoz.csv', index=False)\n",
    "print(f'I am done ---> {item}')"
   ]
  },
  {
   "cell_type": "code",
   "execution_count": 17,
   "metadata": {},
   "outputs": [
    {
     "name": "stdout",
     "output_type": "stream",
     "text": [
      "I am done ---> Shanghai, China\n"
     ]
    }
   ],
   "source": [
    "df = pd.DataFrame({\n",
    "    \"links\":links\n",
    "})\n",
    "df1=pd.read_csv('datas/Fayyoz_links/data_Fayyoz.csv')\n",
    "# df = df.drop_duplicates()\n",
    "df_sum=pd.concat([df1, df], axis=0, ignore_index=True)\n",
    "df_sum = df_sum.drop_duplicates()\n",
    "df_sum.to_csv(f'datas/Fayyoz_links/data_Fayyoz.csv', index=False)\n",
    "print(f'I am done ---> {item}')"
   ]
  },
  {
   "cell_type": "code",
   "execution_count": 7,
   "metadata": {},
   "outputs": [],
   "source": [
    "j=592"
   ]
  },
  {
   "cell_type": "code",
   "execution_count": 7,
   "metadata": {},
   "outputs": [
    {
     "name": "stdout",
     "output_type": "stream",
     "text": [
      "I am done ---> 599\n",
      "if there is a problem, start with 600\n"
     ]
    }
   ],
   "source": [
    "df = pd.DataFrame({\n",
    "    \"links\":links\n",
    "})\n",
    "df = df.drop_duplicates()\n",
    "df.to_csv(f'datas/linkedin_links_29_06/data{str(j)}.csv', index=False)\n",
    "print(f'I am done ---> {str(j)}')\n",
    "print(f'if there is a problem, start with {str(j+1)}')"
   ]
  },
  {
   "cell_type": "code",
   "execution_count": null,
   "metadata": {},
   "outputs": [],
   "source": [
    "from selenium.webdriver.common.by import By\n",
    "from selenium.webdriver.chrome.options import Options\n",
    "from selenium import webdriver\n",
    "import time\n",
    "import pandas as pd\n",
    "\n",
    "chrome_driver_path = Service(\n",
    "    \"chromedriver.exe\")\n",
    "driver = webdriver.Chrome(service=chrome_driver_path)\n",
    "\n",
    "# options = Options()\n",
    "# options.add_argument(\"user-data-dir=C:\\\\Users\\\\Username\\\\AppData\\\\Local\\\\Google\\\\Chrome\\\\User Data\")\n",
    "# driver = webdriver.Chrome(options=options)\n",
    "# 'Mathematics and Bachelor words are used as a default, it is changeble\n",
    "driver.get('https://www.google.com/search?q=site:nl.linkedin.com/in/+AND+%22Computational Social Science%22+AND+%22Bachelor%27s&sxsrf=ALiCzsbOTqrA98wDQf3mtEB03kA_O7eCbQ:1668686082134&ei=AiF2Y4vwB-3JrgS9gpd4&start=50&sa=N&ved=2ahUKEwiL-aqJlLX7AhXtpIsKHT3BBQ84KBDy0wN6BAgBEA0&biw=920&bih=625&dpr=1')\n",
    "time.sleep(10) # to make slower \n",
    "\n",
    " # n is the number of pages\n",
    "links = [] # save links here\n",
    "n=6\n",
    "while n > 0:\n",
    "    time.sleep(5)\n",
    "    for i in range(1, 11): # google uses paginator, every page has 10 urls\n",
    "        time.sleep(6)\n",
    "        try:\n",
    "            elems = driver.find_elements(By.XPATH, '//*[@id=\"rso\"]/div['+str(i)+']/div/div/div[1]/div/a')\n",
    "            for elem in elems:\n",
    "                \n",
    "                clean_url = elem.get_attribute(\"href\") # extracting url \n",
    "                base_url = \"linkedin.com/in/\"\n",
    "                if clean_url.find(base_url) != -1 and '%' not in clean_url: # sometimes google gives no Ln urls, so clean it\n",
    "                    links.append(clean_url)\n",
    "                    print(f\"url is --->{clean_url}\")\n",
    "        except Exception as e:\n",
    "            print(e)\n",
    "            pass\n",
    "    try:\n",
    "        next_button = driver.find_element(By.XPATH, '//*[@id=\"pnnext\"]') # clicking next button \n",
    "        next_button.click()\n",
    "    except Exception as e:\n",
    "        print(e)\n",
    "    print(f'{n} pages left!')\n",
    "    n -= 1\n",
    "df = pd.DataFrame({\n",
    "    \"links\":links\n",
    "})\n",
    "df.to_csv('datas/linkedin_aaccount_links/Filosofie.csv', index=False)"
   ]
  }
 ],
 "metadata": {
  "kernelspec": {
   "display_name": "venv",
   "language": "python",
   "name": "python3"
  },
  "language_info": {
   "codemirror_mode": {
    "name": "ipython",
    "version": 3
   },
   "file_extension": ".py",
   "mimetype": "text/x-python",
   "name": "python",
   "nbconvert_exporter": "python",
   "pygments_lexer": "ipython3",
   "version": "3.10.7"
  },
  "orig_nbformat": 4,
  "vscode": {
   "interpreter": {
    "hash": "5e53cf64bf1c27840c77398a8ccfc4c3ccd90183c2c0ca3f1ba55da13fcc257d"
   }
  }
 },
 "nbformat": 4,
 "nbformat_minor": 2
}
