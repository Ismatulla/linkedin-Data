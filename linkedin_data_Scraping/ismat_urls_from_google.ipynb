{
 "cells": [
  {
   "cell_type": "code",
   "execution_count": 1,
   "metadata": {},
   "outputs": [
    {
     "name": "stderr",
     "output_type": "stream",
     "text": [
      "C:\\Users\\dell\\AppData\\Local\\Temp\\ipykernel_6484\\3549002189.py:10: DeprecationWarning: executable_path has been deprecated, please pass in a Service object\n",
      "  driver = webdriver.Chrome(options=options,executable_path='C:/Users/dell/OneDrive/Desktop/chromedriver-win64/chromedriver.exe')\n"
     ]
    }
   ],
   "source": [
    "from selenium.webdriver.common.by import By\n",
    "from selenium.webdriver.chrome.options import Options\n",
    "from selenium import webdriver\n",
    "import time\n",
    "import pandas as pd\n",
    "\n",
    "options = Options()\n",
    "options.add_argument(\"user-data-dir=C:/Users/dell/AppData/Local/Google/Chrome/User Data/Profile 3\")\n",
    "                                                        #C:\\Users\\fayyo\\Downloads\\chromedriver-win32.zip\\chromedriver-win32\n",
    "driver = webdriver.Chrome(options=options,executable_path='C:/Users/dell/OneDrive/Desktop/chromedriver-win64/chromedriver.exe')\n",
    "# country names\n",
    "list_items = [\n",
    "  \"Seoul, South Korea\",\n",
    "  \"Berlin, Germany\",\n",
    "  \"Singapore City, Singapore\",\n",
    "  \"Istanbul, Turkey\",\n",
    "  \"Las Vegas, USA\",\n",
    "  \"Miami, USA\",\n",
    "  \"Buenos Aires, Argentina\"\n",
    "];\n",
    "\n",
    "\n",
    "for item  in list_items[:]:\n",
    "    links = []\n",
    "    for study in ['master', 'bachelor']:\n",
    "        driver.get(f'https://www.google.com/search?q=site:nl.linkedin.com/in/+AND+%22{item}+AND+%22{study}')\n",
    "        time.sleep(10) # to make slower \n",
    "        # n is the number of pages\n",
    "        n=30\n",
    "        while n > 0:\n",
    "            time.sleep(5)\n",
    "            for i in range(1, 11): # google uses paginator, every page has 10 urls\n",
    "                time.sleep(6)\n",
    "                        #//*[@id=\"rso\"]/div[9]/div/div/div/div[1]/div/div/a\n",
    "                try:    #/html/body/div[6]/div/div[13]/div/div[2]/div[2]/div/div/div[1]/div/div/div[1]/div/div/a\n",
    "                        #/html/body/div[6]/div/div[13]/div/div[2]/div[2]/div/div/div[4]/div/div/div[1]/div/div/a\n",
    "                        #/html/body/div[6]/div/div[13]/div/div[2]/div[2]/div/div/div[9]/div/div/div/div[1]/div/div/a\n",
    "                    elems = driver.find_elements(By.XPATH, '/html/body/div[6]/div/div[12]/div/div[2]/div[2]/div/div/div['+str(i)+']/div/div/div[1]/div/div/a')\n",
    "                    for elem in elems:                     #/html/body/div[6]/div/div[12]/div/div[2]/div[2]/div/div/div[3]/div/div/div[1]/div/div/a\n",
    "                                                           #/html/body/div[6]/div/div[12]/div/div[2]/div[2]/div/div/div[2]/div/div/div[1]/div/div/a\n",
    "                        clean_url = elem.get_attribute(\"href\") # extracting url \n",
    "                        base_url = \"linkedin.com/in/\"\n",
    "                        if clean_url.find(base_url) != -1 and '%' not in clean_url: # sometimes google gives no Ln urls, so clean it\n",
    "                            links.append(clean_url)\n",
    "                            # print(f\"url is --->{clean_url}\")\n",
    "                except Exception as e:\n",
    "                    print(\"problem with ELEMS\")\n",
    "                    pass\n",
    "            try:                                            #//*[@id=\"pnnext\"]/span[2]\n",
    "                next_button = driver.find_element(By.XPATH, '//*[@id=\"pnnext\"]') # clicking next button \n",
    "                next_button.click()\n",
    "            except Exception as e:\n",
    "                driver.get(f'https://www.google.com/search?q=site:nl.linkedin.com/in/+AND+%22{item}+AND+%22{study}')\n",
    "                # print(\"\")\n",
    "            # print(f'{n} pages left!')\n",
    "            n -= 1\n",
    "    df = pd.DataFrame({\n",
    "        \"links\":links\n",
    "    })\n",
    "    df1=pd.read_csv('datas/Ismatulla_links/data_Ismatulla3.csv')\n",
    "    df_sum=pd.concat([df1, df], axis=0, ignore_index=True)\n",
    "    df_sum = df_sum.drop_duplicates()\n",
    "    df_sum.to_csv(f'datas/Ismatulla_links/data_Ismatulla3.csv', index=False)\n",
    "    print(f'I am done ---> {item}')\n"
   ]
  },
  {
   "cell_type": "code",
   "execution_count": 23,
   "metadata": {},
   "outputs": [
    {
     "name": "stdout",
     "output_type": "stream",
     "text": [
      "I am done ---> Dhaka, Bangladesh\n"
     ]
    }
   ],
   "source": [
    "df = pd.DataFrame({\n",
    "    \"links\":links\n",
    "})\n",
    "df1=pd.read_csv('datas/Fayyoz_links/data_Fayyoz.csv')\n",
    "df_sum=pd.concat([df1, df], axis=0, ignore_index=True)\n",
    "df_sum = df_sum.drop_duplicates()\n",
    "df_sum.to_csv(f'datas/Fayyoz_links/data_Fayyoz.csv', index=False)\n",
    "print(f'I am done ---> {item}')"
   ]
  },
  {
   "cell_type": "code",
   "execution_count": 17,
   "metadata": {},
   "outputs": [
    {
     "name": "stdout",
     "output_type": "stream",
     "text": [
      "I am done ---> Shanghai, China\n"
     ]
    }
   ],
   "source": [
    "df = pd.DataFrame({\n",
    "    \"links\":links\n",
    "})\n",
    "df1=pd.read_csv('datas/Fayyoz_links/data_Fayyoz.csv')\n",
    "# df = df.drop_duplicates()\n",
    "df_sum=pd.concat([df1, df], axis=0, ignore_index=True)\n",
    "df_sum = df_sum.drop_duplicates()\n",
    "df_sum.to_csv(f'datas/Fayyoz_links/data_Fayyoz.csv', index=False)\n",
    "print(f'I am done ---> {item}')"
   ]
  },
  {
   "cell_type": "code",
   "execution_count": 7,
   "metadata": {},
   "outputs": [],
   "source": [
    "j=592"
   ]
  },
  {
   "cell_type": "code",
   "execution_count": 7,
   "metadata": {},
   "outputs": [
    {
     "name": "stdout",
     "output_type": "stream",
     "text": [
      "I am done ---> 599\n",
      "if there is a problem, start with 600\n"
     ]
    }
   ],
   "source": [
    "df = pd.DataFrame({\n",
    "    \"links\":links\n",
    "})\n",
    "df = df.drop_duplicates()\n",
    "df.to_csv(f'datas/linkedin_links_29_06/data{str(j)}.csv', index=False)\n",
    "print(f'I am done ---> {str(j)}')\n",
    "print(f'if there is a problem, start with {str(j+1)}')"
   ]
  },
  {
   "cell_type": "code",
   "execution_count": null,
   "metadata": {},
   "outputs": [],
   "source": [
    "from selenium.webdriver.common.by import By\n",
    "from selenium.webdriver.chrome.options import Options\n",
    "from selenium import webdriver\n",
    "import time\n",
    "import pandas as pd\n",
    "\n",
    "chrome_driver_path = Service(\n",
    "    \"chromedriver.exe\")\n",
    "driver = webdriver.Chrome(service=chrome_driver_path)\n",
    "\n",
    "# options = Options()\n",
    "# options.add_argument(\"user-data-dir=C:\\\\Users\\\\Username\\\\AppData\\\\Local\\\\Google\\\\Chrome\\\\User Data\")\n",
    "# driver = webdriver.Chrome(options=options)\n",
    "# 'Mathematics and Bachelor words are used as a default, it is changeble\n",
    "driver.get('https://www.google.com/search?q=site:nl.linkedin.com/in/+AND+%22Computational Social Science%22+AND+%22Bachelor%27s&sxsrf=ALiCzsbOTqrA98wDQf3mtEB03kA_O7eCbQ:1668686082134&ei=AiF2Y4vwB-3JrgS9gpd4&start=50&sa=N&ved=2ahUKEwiL-aqJlLX7AhXtpIsKHT3BBQ84KBDy0wN6BAgBEA0&biw=920&bih=625&dpr=1')\n",
    "time.sleep(10) # to make slower \n",
    "\n",
    " # n is the number of pages\n",
    "links = [] # save links here\n",
    "n=6\n",
    "while n > 0:\n",
    "    time.sleep(5)\n",
    "    for i in range(1, 11): # google uses paginator, every page has 10 urls\n",
    "        time.sleep(6)\n",
    "        try:\n",
    "            elems = driver.find_elements(By.XPATH, '//*[@id=\"rso\"]/div['+str(i)+']/div/div/div[1]/div/a')\n",
    "            for elem in elems:\n",
    "                \n",
    "                clean_url = elem.get_attribute(\"href\") # extracting url \n",
    "                base_url = \"linkedin.com/in/\"\n",
    "                if clean_url.find(base_url) != -1 and '%' not in clean_url: # sometimes google gives no Ln urls, so clean it\n",
    "                    links.append(clean_url)\n",
    "                    print(f\"url is --->{clean_url}\")\n",
    "        except Exception as e:\n",
    "            print(e)\n",
    "            pass\n",
    "    try:\n",
    "        next_button = driver.find_element(By.XPATH, '//*[@id=\"pnnext\"]') # clicking next button \n",
    "        next_button.click()\n",
    "    except Exception as e:\n",
    "        print(e)\n",
    "    print(f'{n} pages left!')\n",
    "    n -= 1\n",
    "df = pd.DataFrame({\n",
    "    \"links\":links\n",
    "})\n",
    "df.to_csv('datas/linkedin_aaccount_links/Filosofie.csv', index=False)"
   ]
  }
 ],
 "metadata": {
  "kernelspec": {
   "display_name": "venv",
   "language": "python",
   "name": "python3"
  },
  "language_info": {
   "codemirror_mode": {
    "name": "ipython",
    "version": 3
   },
   "file_extension": ".py",
   "mimetype": "text/x-python",
   "name": "python",
   "nbconvert_exporter": "python",
   "pygments_lexer": "ipython3",
   "version": "3.10.7"
  },
  "orig_nbformat": 4,
  "vscode": {
   "interpreter": {
    "hash": "5e53cf64bf1c27840c77398a8ccfc4c3ccd90183c2c0ca3f1ba55da13fcc257d"
   }
  }
 },
 "nbformat": 4,
 "nbformat_minor": 2
}
