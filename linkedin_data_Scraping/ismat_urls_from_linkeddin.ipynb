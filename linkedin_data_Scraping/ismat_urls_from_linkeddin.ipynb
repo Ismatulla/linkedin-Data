{
 "cells": [
  {
   "cell_type": "code",
   "execution_count": 1,
   "metadata": {},
   "outputs": [
    {
     "name": "stderr",
     "output_type": "stream",
     "text": [
      "C:\\Users\\dell\\AppData\\Local\\Temp\\ipykernel_3556\\2314223002.py:10: DeprecationWarning: executable_path has been deprecated, please pass in a Service object\n",
      "  driver = webdriver.Chrome(options=options,executable_path='C:/Users/dell/OneDrive/Desktop/chromedriver-win64/chromedriver.exe')\n"
     ]
    },
    {
     "name": "stdout",
     "output_type": "stream",
     "text": [
      "I am done ---> Omsk\n",
      "I am done ---> Samara\n",
      "I am done ---> Rostov-on-Don\n",
      "I am done ---> Ufa\n",
      "I am done ---> Krasnoyarsk\n",
      "I am done ---> Voronezh\n",
      "I am done ---> Perm\n",
      "I am done ---> Volgograd\n",
      "I am done ---> Krasnodar\n",
      "I am done ---> Saratov\n",
      "I am done ---> Tyumen\n",
      "I am done ---> Izhevsk\n",
      "problem with ELEMS\n",
      "problem with ELEMS\n",
      "problem with ELEMS\n",
      "problem with ELEMS\n",
      "problem with ELEMS\n"
     ]
    },
    {
     "ename": "WebDriverException",
     "evalue": "Message: disconnected: not connected to DevTools\n  (failed to check if window was closed: disconnected: not connected to DevTools)\n  (Session info: chrome=116.0.5845.112)\nStacktrace:\nBacktrace:\n\tGetHandleVerifier [0x00007FF60B4D3E62+57250]\n\t(No symbol) [0x00007FF60B44BC02]\n\t(No symbol) [0x00007FF60B31E0BB]\n\t(No symbol) [0x00007FF60B30B457]\n\t(No symbol) [0x00007FF60B30B0D0]\n\t(No symbol) [0x00007FF60B31F791]\n\t(No symbol) [0x00007FF60B38DA0F]\n\t(No symbol) [0x00007FF60B376583]\n\t(No symbol) [0x00007FF60B34CC71]\n\t(No symbol) [0x00007FF60B34DE54]\n\tGetHandleVerifier [0x00007FF60B784CF2+2879026]\n\tGetHandleVerifier [0x00007FF60B7D6F30+3215472]\n\tGetHandleVerifier [0x00007FF60B7CFD4F+3186319]\n\tGetHandleVerifier [0x00007FF60B565505+652869]\n\t(No symbol) [0x00007FF60B457518]\n\t(No symbol) [0x00007FF60B4535F4]\n\t(No symbol) [0x00007FF60B4536EC]\n\t(No symbol) [0x00007FF60B4438E3]\n\tBaseThreadInitThunk [0x00007FF893CD7614+20]\n\tRtlUserThreadStart [0x00007FF8942426B1+33]\n",
     "output_type": "error",
     "traceback": [
      "\u001b[1;31m---------------------------------------------------------------------------\u001b[0m",
      "\u001b[1;31mWebDriverException\u001b[0m                        Traceback (most recent call last)",
      "Cell \u001b[1;32mIn[1], line 63\u001b[0m\n\u001b[0;32m     62\u001b[0m \u001b[39mtry\u001b[39;00m:\n\u001b[1;32m---> 63\u001b[0m     next_button \u001b[39m=\u001b[39m driver\u001b[39m.\u001b[39;49mfind_element(By\u001b[39m.\u001b[39;49mXPATH, \u001b[39m'\u001b[39;49m\u001b[39m//*[@id=\u001b[39;49m\u001b[39m\"\u001b[39;49m\u001b[39mpnnext\u001b[39;49m\u001b[39m\"\u001b[39;49m\u001b[39m]\u001b[39;49m\u001b[39m'\u001b[39;49m) \u001b[39m# clicking next button \u001b[39;00m\n\u001b[0;32m     64\u001b[0m     next_button\u001b[39m.\u001b[39mclick()\n",
      "File \u001b[1;32mc:\\Users\\dell\\OneDrive\\Desktop\\selenium\\Bots_using_selenium\\venv\\lib\\site-packages\\selenium\\webdriver\\remote\\webdriver.py:830\u001b[0m, in \u001b[0;36mWebDriver.find_element\u001b[1;34m(self, by, value)\u001b[0m\n\u001b[0;32m    828\u001b[0m     value \u001b[39m=\u001b[39m \u001b[39mf\u001b[39m\u001b[39m'\u001b[39m\u001b[39m[name=\u001b[39m\u001b[39m\"\u001b[39m\u001b[39m{\u001b[39;00mvalue\u001b[39m}\u001b[39;00m\u001b[39m\"\u001b[39m\u001b[39m]\u001b[39m\u001b[39m'\u001b[39m\n\u001b[1;32m--> 830\u001b[0m \u001b[39mreturn\u001b[39;00m \u001b[39mself\u001b[39;49m\u001b[39m.\u001b[39;49mexecute(Command\u001b[39m.\u001b[39;49mFIND_ELEMENT, {\u001b[39m\"\u001b[39;49m\u001b[39musing\u001b[39;49m\u001b[39m\"\u001b[39;49m: by, \u001b[39m\"\u001b[39;49m\u001b[39mvalue\u001b[39;49m\u001b[39m\"\u001b[39;49m: value})[\u001b[39m\"\u001b[39m\u001b[39mvalue\u001b[39m\u001b[39m\"\u001b[39m]\n",
      "File \u001b[1;32mc:\\Users\\dell\\OneDrive\\Desktop\\selenium\\Bots_using_selenium\\venv\\lib\\site-packages\\selenium\\webdriver\\remote\\webdriver.py:440\u001b[0m, in \u001b[0;36mWebDriver.execute\u001b[1;34m(self, driver_command, params)\u001b[0m\n\u001b[0;32m    439\u001b[0m \u001b[39mif\u001b[39;00m response:\n\u001b[1;32m--> 440\u001b[0m     \u001b[39mself\u001b[39;49m\u001b[39m.\u001b[39;49merror_handler\u001b[39m.\u001b[39;49mcheck_response(response)\n\u001b[0;32m    441\u001b[0m     response[\u001b[39m\"\u001b[39m\u001b[39mvalue\u001b[39m\u001b[39m\"\u001b[39m] \u001b[39m=\u001b[39m \u001b[39mself\u001b[39m\u001b[39m.\u001b[39m_unwrap_value(response\u001b[39m.\u001b[39mget(\u001b[39m\"\u001b[39m\u001b[39mvalue\u001b[39m\u001b[39m\"\u001b[39m, \u001b[39mNone\u001b[39;00m))\n",
      "File \u001b[1;32mc:\\Users\\dell\\OneDrive\\Desktop\\selenium\\Bots_using_selenium\\venv\\lib\\site-packages\\selenium\\webdriver\\remote\\errorhandler.py:245\u001b[0m, in \u001b[0;36mErrorHandler.check_response\u001b[1;34m(self, response)\u001b[0m\n\u001b[0;32m    244\u001b[0m     \u001b[39mraise\u001b[39;00m exception_class(message, screen, stacktrace, alert_text)  \u001b[39m# type: ignore[call-arg]  # mypy is not smart enough here\u001b[39;00m\n\u001b[1;32m--> 245\u001b[0m \u001b[39mraise\u001b[39;00m exception_class(message, screen, stacktrace)\n",
      "\u001b[1;31mWebDriverException\u001b[0m: Message: disconnected: not connected to DevTools\n  (failed to check if window was closed: disconnected: not connected to DevTools)\n  (Session info: chrome=116.0.5845.112)\nStacktrace:\nBacktrace:\n\tGetHandleVerifier [0x00007FF60B4D3E62+57250]\n\t(No symbol) [0x00007FF60B44BC02]\n\t(No symbol) [0x00007FF60B31E0BB]\n\t(No symbol) [0x00007FF60B30B457]\n\t(No symbol) [0x00007FF60B30B0D0]\n\t(No symbol) [0x00007FF60B31F791]\n\t(No symbol) [0x00007FF60B38DA0F]\n\t(No symbol) [0x00007FF60B376583]\n\t(No symbol) [0x00007FF60B34CC71]\n\t(No symbol) [0x00007FF60B34DE54]\n\tGetHandleVerifier [0x00007FF60B784CF2+2879026]\n\tGetHandleVerifier [0x00007FF60B7D6F30+3215472]\n\tGetHandleVerifier [0x00007FF60B7CFD4F+3186319]\n\tGetHandleVerifier [0x00007FF60B565505+652869]\n\t(No symbol) [0x00007FF60B457518]\n\t(No symbol) [0x00007FF60B4535F4]\n\t(No symbol) [0x00007FF60B4536EC]\n\t(No symbol) [0x00007FF60B4438E3]\n\tBaseThreadInitThunk [0x00007FF893CD7614+20]\n\tRtlUserThreadStart [0x00007FF8942426B1+33]\n",
      "\nDuring handling of the above exception, another exception occurred:\n",
      "\u001b[1;31mWebDriverException\u001b[0m                        Traceback (most recent call last)",
      "Cell \u001b[1;32mIn[1], line 66\u001b[0m\n\u001b[0;32m     64\u001b[0m     next_button\u001b[39m.\u001b[39mclick()\n\u001b[0;32m     65\u001b[0m \u001b[39mexcept\u001b[39;00m \u001b[39mException\u001b[39;00m \u001b[39mas\u001b[39;00m e:\n\u001b[1;32m---> 66\u001b[0m     driver\u001b[39m.\u001b[39;49mget(\u001b[39mf\u001b[39;49m\u001b[39m'\u001b[39;49m\u001b[39mhttps://www.google.com/search?q=site:nl.linkedin.com/in/+AND+%22\u001b[39;49m\u001b[39m{\u001b[39;49;00mitem\u001b[39m}\u001b[39;49;00m\u001b[39m+AND+%22\u001b[39;49m\u001b[39m{\u001b[39;49;00mstudy\u001b[39m}\u001b[39;49;00m\u001b[39m'\u001b[39;49m)\n\u001b[0;32m     67\u001b[0m     \u001b[39m# print(\"\")\u001b[39;00m\n\u001b[0;32m     68\u001b[0m \u001b[39m# print(f'{n} pages left!')\u001b[39;00m\n\u001b[0;32m     69\u001b[0m n \u001b[39m-\u001b[39m\u001b[39m=\u001b[39m \u001b[39m1\u001b[39m\n",
      "File \u001b[1;32mc:\\Users\\dell\\OneDrive\\Desktop\\selenium\\Bots_using_selenium\\venv\\lib\\site-packages\\selenium\\webdriver\\remote\\webdriver.py:449\u001b[0m, in \u001b[0;36mWebDriver.get\u001b[1;34m(self, url)\u001b[0m\n\u001b[0;32m    447\u001b[0m \u001b[39mdef\u001b[39;00m \u001b[39mget\u001b[39m(\u001b[39mself\u001b[39m, url: \u001b[39mstr\u001b[39m) \u001b[39m-\u001b[39m\u001b[39m>\u001b[39m \u001b[39mNone\u001b[39;00m:\n\u001b[0;32m    448\u001b[0m \u001b[39m    \u001b[39m\u001b[39m\"\"\"Loads a web page in the current browser session.\"\"\"\u001b[39;00m\n\u001b[1;32m--> 449\u001b[0m     \u001b[39mself\u001b[39;49m\u001b[39m.\u001b[39;49mexecute(Command\u001b[39m.\u001b[39;49mGET, {\u001b[39m\"\u001b[39;49m\u001b[39murl\u001b[39;49m\u001b[39m\"\u001b[39;49m: url})\n",
      "File \u001b[1;32mc:\\Users\\dell\\OneDrive\\Desktop\\selenium\\Bots_using_selenium\\venv\\lib\\site-packages\\selenium\\webdriver\\remote\\webdriver.py:440\u001b[0m, in \u001b[0;36mWebDriver.execute\u001b[1;34m(self, driver_command, params)\u001b[0m\n\u001b[0;32m    438\u001b[0m response \u001b[39m=\u001b[39m \u001b[39mself\u001b[39m\u001b[39m.\u001b[39mcommand_executor\u001b[39m.\u001b[39mexecute(driver_command, params)\n\u001b[0;32m    439\u001b[0m \u001b[39mif\u001b[39;00m response:\n\u001b[1;32m--> 440\u001b[0m     \u001b[39mself\u001b[39;49m\u001b[39m.\u001b[39;49merror_handler\u001b[39m.\u001b[39;49mcheck_response(response)\n\u001b[0;32m    441\u001b[0m     response[\u001b[39m\"\u001b[39m\u001b[39mvalue\u001b[39m\u001b[39m\"\u001b[39m] \u001b[39m=\u001b[39m \u001b[39mself\u001b[39m\u001b[39m.\u001b[39m_unwrap_value(response\u001b[39m.\u001b[39mget(\u001b[39m\"\u001b[39m\u001b[39mvalue\u001b[39m\u001b[39m\"\u001b[39m, \u001b[39mNone\u001b[39;00m))\n\u001b[0;32m    442\u001b[0m     \u001b[39mreturn\u001b[39;00m response\n",
      "File \u001b[1;32mc:\\Users\\dell\\OneDrive\\Desktop\\selenium\\Bots_using_selenium\\venv\\lib\\site-packages\\selenium\\webdriver\\remote\\errorhandler.py:245\u001b[0m, in \u001b[0;36mErrorHandler.check_response\u001b[1;34m(self, response)\u001b[0m\n\u001b[0;32m    243\u001b[0m         alert_text \u001b[39m=\u001b[39m value[\u001b[39m\"\u001b[39m\u001b[39malert\u001b[39m\u001b[39m\"\u001b[39m]\u001b[39m.\u001b[39mget(\u001b[39m\"\u001b[39m\u001b[39mtext\u001b[39m\u001b[39m\"\u001b[39m)\n\u001b[0;32m    244\u001b[0m     \u001b[39mraise\u001b[39;00m exception_class(message, screen, stacktrace, alert_text)  \u001b[39m# type: ignore[call-arg]  # mypy is not smart enough here\u001b[39;00m\n\u001b[1;32m--> 245\u001b[0m \u001b[39mraise\u001b[39;00m exception_class(message, screen, stacktrace)\n",
      "\u001b[1;31mWebDriverException\u001b[0m: Message: disconnected: not connected to DevTools\n  (failed to check if window was closed: disconnected: not connected to DevTools)\n  (Session info: chrome=116.0.5845.112)\nStacktrace:\nBacktrace:\n\tGetHandleVerifier [0x00007FF60B4D3E62+57250]\n\t(No symbol) [0x00007FF60B44BC02]\n\t(No symbol) [0x00007FF60B31E0BB]\n\t(No symbol) [0x00007FF60B30B457]\n\t(No symbol) [0x00007FF60B30B0D0]\n\t(No symbol) [0x00007FF60B31F791]\n\t(No symbol) [0x00007FF60B38DA0F]\n\t(No symbol) [0x00007FF60B376583]\n\t(No symbol) [0x00007FF60B34CC71]\n\t(No symbol) [0x00007FF60B34DE54]\n\tGetHandleVerifier [0x00007FF60B784CF2+2879026]\n\tGetHandleVerifier [0x00007FF60B7D6F30+3215472]\n\tGetHandleVerifier [0x00007FF60B7CFD4F+3186319]\n\tGetHandleVerifier [0x00007FF60B565505+652869]\n\t(No symbol) [0x00007FF60B457518]\n\t(No symbol) [0x00007FF60B4535F4]\n\t(No symbol) [0x00007FF60B4536EC]\n\t(No symbol) [0x00007FF60B4438E3]\n\tBaseThreadInitThunk [0x00007FF893CD7614+20]\n\tRtlUserThreadStart [0x00007FF8942426B1+33]\n"
     ]
    }
   ],
   "source": [
    "from selenium.webdriver.common.by import By\n",
    "from selenium.webdriver.chrome.options import Options\n",
    "from selenium import webdriver\n",
    "import time\n",
    "import pandas as pd\n",
    "\n",
    "options = Options()\n",
    "options.add_argument(\"user-data-dir=C:/Users/dell/AppData/Local/Google/Chrome/User Data/Profile 2\")\n",
    "                                                        #C:\\Users\\fayyo\\Downloads\\chromedriver-win32.zip\\chromedriver-win32\n",
    "driver = webdriver.Chrome(options=options,executable_path='C:/Users/dell/OneDrive/Desktop/chromedriver-win64/chromedriver.exe')\n",
    "# country names\n",
    "list_items = [\n",
    "    \"Omsk\",\n",
    "    \"Samara\",\n",
    "    \"Rostov-on-Don\",\n",
    "    \"Ufa\",\n",
    "    \"Krasnoyarsk\",\n",
    "    \"Voronezh\",\n",
    "    \"Perm\",\n",
    "    \"Volgograd\",\n",
    "    \"Krasnodar\",\n",
    "    \"Saratov\",\n",
    "    \"Tyumen\",\n",
    "    \"Izhevsk\",\n",
    "    \"Ulyanovsk\",\n",
    "    \"Barnaul\",\n",
    "    \"Vladivostok\",\n",
    "    \"Yaroslavl\",\n",
    "    \"Irkutsk\",\n",
    "    \"Khabarovsk\",\n",
    "    \"Kemerovo\",\n",
    "    \"Novokuznetsk\",\n",
    "    \"Ryazan\",\n",
    "    \"Tomsk\",\n",
    "]\n",
    "\n",
    "\n",
    "for item  in list_items[:]:\n",
    "    links = [] # save links here\n",
    "    for study in ['master', 'bachelor']:\n",
    "        driver.get(f'https://www.google.com/search?q=site:nl.linkedin.com/in/+AND+%22{item}+AND+%22{study}')\n",
    "        time.sleep(10) # to make slower \n",
    "        # n is the number of pages\n",
    "        n=30\n",
    "        while n > 0:\n",
    "            time.sleep(5)\n",
    "            for i in range(1, 11): # google uses paginator, every page has 10 urls\n",
    "                time.sleep(6)\n",
    "                try:    #/html/body/div[6]/div/div[13]/div/div[2]/div[2]/div/div/div[1]/div/div/div[1]/div/div/a\n",
    "                        #/html/body/div[6]/div/div[13]/div/div[2]/div[2]/div/div/div[4]/div/div/div[1]/div/div/a\n",
    "                        #/html/body/div[6]/div/div[13]/div/div[2]/div[2]/div/div/div[9]/div/div/div/div[1]/div/div/a\n",
    "                    elems = driver.find_elements(By.XPATH, '/html/body/div[6]/div/div[12]/div/div[2]/div[2]/div/div/div['+str(i)+']/div/div/div[1]/div/div/a')\n",
    "                    for elem in elems:                     #/html/body/div[6]/div/div[12]/div/div[2]/div[2]/div/div/div[3]/div/div/div[1]/div/div/a\n",
    "                                                           #/html/body/div[6]/div/div[12]/div/div[2]/div[2]/div/div/div[2]/div/div/div[1]/div/div/a\n",
    "                        clean_url = elem.get_attribute(\"href\") # extracting url \n",
    "                        base_url = \"linkedin.com/in/\"\n",
    "                        if clean_url.find(base_url) != -1 and '%' not in clean_url: # sometimes google gives no Ln urls, so clean it\n",
    "                            links.append(clean_url)\n",
    "                except Exception as e:\n",
    "                    print(\"problem with ELEMS\")\n",
    "                    pass\n",
    "            try:\n",
    "                next_button = driver.find_element(By.XPATH, '//*[@id=\"pnnext\"]') # clicking next button \n",
    "                next_button.click()\n",
    "            except Exception as e:\n",
    "                driver.get(f'https://www.google.com/search?q=site:nl.linkedin.com/in/+AND+%22{item}+AND+%22{study}')\n",
    "                # print(\"\")\n",
    "            # print(f'{n} pages left!')\n",
    "            n -= 1\n",
    "    df = pd.DataFrame({\n",
    "        \"links\":links\n",
    "    })\n",
    "    df1=pd.read_csv('datas/Ismatulla_links/data_Ismatulla3.csv')\n",
    "    df_sum=pd.concat([df1, df], axis=0, ignore_index=True)\n",
    "    df_sum = df_sum.drop_duplicates()\n",
    "    df_sum.to_csv(f'datas/Ismatulla_links/data_Ismatulla3.csv', index=False)\n",
    "    print(f'I am done ---> {item}')\n"
   ]
  },
  {
   "cell_type": "code",
   "execution_count": 4,
   "metadata": {},
   "outputs": [
    {
     "name": "stdout",
     "output_type": "stream",
     "text": [
      "I am done ---> Algeria\n"
     ]
    }
   ],
   "source": [
    "df = pd.DataFrame({\n",
    "    \"links\":links\n",
    "})\n",
    "df1=pd.read_csv('datas/Fayyoz_links/data_Fayyoz.csv')\n",
    "# df = df.drop_duplicates()\n",
    "df_sum=pd.concat([df1, df], axis=0, ignore_index=True)\n",
    "df_sum = df_sum.drop_duplicates()\n",
    "df_sum.to_csv(f'datas/Fayyoz_links/data_Fayyoz.csv', index=False)\n",
    "print(f'I am done ---> {item}')"
   ]
  }
 ],
 "metadata": {
  "kernelspec": {
   "display_name": "venv",
   "language": "python",
   "name": "python3"
  },
  "language_info": {
   "codemirror_mode": {
    "name": "ipython",
    "version": 3
   },
   "file_extension": ".py",
   "mimetype": "text/x-python",
   "name": "python",
   "nbconvert_exporter": "python",
   "pygments_lexer": "ipython3",
   "version": "3.10.7"
  },
  "orig_nbformat": 4
 },
 "nbformat": 4,
 "nbformat_minor": 2
}
